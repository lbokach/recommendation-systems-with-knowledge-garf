{
  "cells": [
    {
      "cell_type": "markdown",
      "id": "e5a1f6ea-3f67-4137-9e7b-a2f7d71d1fde",
      "metadata": {
        "id": "e5a1f6ea-3f67-4137-9e7b-a2f7d71d1fde"
      },
      "source": [
        "# Построение рекомендательной системы с помощью векторного представления графа знаний"
      ]
    },
    {
      "cell_type": "markdown",
      "id": "8ca5a3ca-13e3-4b9d-a8a1-5aacaef20bce",
      "metadata": {
        "id": "8ca5a3ca-13e3-4b9d-a8a1-5aacaef20bce"
      },
      "source": [
        "## 0. Считывание данных"
      ]
    },
    {
      "cell_type": "code",
      "execution_count": null,
      "id": "17b20cc2-d023-462d-b235-27903e767931",
      "metadata": {
        "id": "17b20cc2-d023-462d-b235-27903e767931"
      },
      "outputs": [],
      "source": [
        "import warnings\n",
        "warnings.filterwarnings(\"ignore\")"
      ]
    },
    {
      "cell_type": "code",
      "execution_count": null,
      "id": "b3e7af0d-70d3-426a-b966-5202e7fb3e59",
      "metadata": {
        "id": "b3e7af0d-70d3-426a-b966-5202e7fb3e59"
      },
      "outputs": [],
      "source": [
        "import pandas as pd\n",
        "import numpy as np\n",
        "credits=pd.read_csv('tmdb_5000_credits.csv')\n",
        "movies=pd.read_csv('tmdb_5000_movies.csv')"
      ]
    },
    {
      "cell_type": "code",
      "execution_count": null,
      "id": "1d5769c4-2aca-46d3-8b8f-feceb9402ce8",
      "metadata": {
        "id": "1d5769c4-2aca-46d3-8b8f-feceb9402ce8",
        "outputId": "e5a3a83a-26af-4f78-82d0-04d0f4ad579f"
      },
      "outputs": [
        {
          "data": {
            "text/html": [
              "<div>\n",
              "<style scoped>\n",
              "    .dataframe tbody tr th:only-of-type {\n",
              "        vertical-align: middle;\n",
              "    }\n",
              "\n",
              "    .dataframe tbody tr th {\n",
              "        vertical-align: top;\n",
              "    }\n",
              "\n",
              "    .dataframe thead th {\n",
              "        text-align: right;\n",
              "    }\n",
              "</style>\n",
              "<table border=\"1\" class=\"dataframe\">\n",
              "  <thead>\n",
              "    <tr style=\"text-align: right;\">\n",
              "      <th></th>\n",
              "      <th>movie_id</th>\n",
              "      <th>title</th>\n",
              "      <th>cast</th>\n",
              "      <th>crew</th>\n",
              "    </tr>\n",
              "  </thead>\n",
              "  <tbody>\n",
              "    <tr>\n",
              "      <th>0</th>\n",
              "      <td>19995</td>\n",
              "      <td>Avatar</td>\n",
              "      <td>[{\"cast_id\": 242, \"character\": \"Jake Sully\", \"...</td>\n",
              "      <td>[{\"credit_id\": \"52fe48009251416c750aca23\", \"de...</td>\n",
              "    </tr>\n",
              "    <tr>\n",
              "      <th>1</th>\n",
              "      <td>285</td>\n",
              "      <td>Pirates of the Caribbean: At World's End</td>\n",
              "      <td>[{\"cast_id\": 4, \"character\": \"Captain Jack Spa...</td>\n",
              "      <td>[{\"credit_id\": \"52fe4232c3a36847f800b579\", \"de...</td>\n",
              "    </tr>\n",
              "    <tr>\n",
              "      <th>2</th>\n",
              "      <td>206647</td>\n",
              "      <td>Spectre</td>\n",
              "      <td>[{\"cast_id\": 1, \"character\": \"James Bond\", \"cr...</td>\n",
              "      <td>[{\"credit_id\": \"54805967c3a36829b5002c41\", \"de...</td>\n",
              "    </tr>\n",
              "    <tr>\n",
              "      <th>3</th>\n",
              "      <td>49026</td>\n",
              "      <td>The Dark Knight Rises</td>\n",
              "      <td>[{\"cast_id\": 2, \"character\": \"Bruce Wayne / Ba...</td>\n",
              "      <td>[{\"credit_id\": \"52fe4781c3a36847f81398c3\", \"de...</td>\n",
              "    </tr>\n",
              "    <tr>\n",
              "      <th>4</th>\n",
              "      <td>49529</td>\n",
              "      <td>John Carter</td>\n",
              "      <td>[{\"cast_id\": 5, \"character\": \"John Carter\", \"c...</td>\n",
              "      <td>[{\"credit_id\": \"52fe479ac3a36847f813eaa3\", \"de...</td>\n",
              "    </tr>\n",
              "    <tr>\n",
              "      <th>...</th>\n",
              "      <td>...</td>\n",
              "      <td>...</td>\n",
              "      <td>...</td>\n",
              "      <td>...</td>\n",
              "    </tr>\n",
              "    <tr>\n",
              "      <th>4798</th>\n",
              "      <td>9367</td>\n",
              "      <td>El Mariachi</td>\n",
              "      <td>[{\"cast_id\": 1, \"character\": \"El Mariachi\", \"c...</td>\n",
              "      <td>[{\"credit_id\": \"52fe44eec3a36847f80b280b\", \"de...</td>\n",
              "    </tr>\n",
              "    <tr>\n",
              "      <th>4799</th>\n",
              "      <td>72766</td>\n",
              "      <td>Newlyweds</td>\n",
              "      <td>[{\"cast_id\": 1, \"character\": \"Buzzy\", \"credit_...</td>\n",
              "      <td>[{\"credit_id\": \"52fe487dc3a368484e0fb013\", \"de...</td>\n",
              "    </tr>\n",
              "    <tr>\n",
              "      <th>4800</th>\n",
              "      <td>231617</td>\n",
              "      <td>Signed, Sealed, Delivered</td>\n",
              "      <td>[{\"cast_id\": 8, \"character\": \"Oliver O\\u2019To...</td>\n",
              "      <td>[{\"credit_id\": \"52fe4df3c3a36847f8275ecf\", \"de...</td>\n",
              "    </tr>\n",
              "    <tr>\n",
              "      <th>4801</th>\n",
              "      <td>126186</td>\n",
              "      <td>Shanghai Calling</td>\n",
              "      <td>[{\"cast_id\": 3, \"character\": \"Sam\", \"credit_id...</td>\n",
              "      <td>[{\"credit_id\": \"52fe4ad9c3a368484e16a36b\", \"de...</td>\n",
              "    </tr>\n",
              "    <tr>\n",
              "      <th>4802</th>\n",
              "      <td>25975</td>\n",
              "      <td>My Date with Drew</td>\n",
              "      <td>[{\"cast_id\": 3, \"character\": \"Herself\", \"credi...</td>\n",
              "      <td>[{\"credit_id\": \"58ce021b9251415a390165d9\", \"de...</td>\n",
              "    </tr>\n",
              "  </tbody>\n",
              "</table>\n",
              "<p>4803 rows × 4 columns</p>\n",
              "</div>"
            ],
            "text/plain": [
              "      movie_id                                     title  \\\n",
              "0        19995                                    Avatar   \n",
              "1          285  Pirates of the Caribbean: At World's End   \n",
              "2       206647                                   Spectre   \n",
              "3        49026                     The Dark Knight Rises   \n",
              "4        49529                               John Carter   \n",
              "...        ...                                       ...   \n",
              "4798      9367                               El Mariachi   \n",
              "4799     72766                                 Newlyweds   \n",
              "4800    231617                 Signed, Sealed, Delivered   \n",
              "4801    126186                          Shanghai Calling   \n",
              "4802     25975                         My Date with Drew   \n",
              "\n",
              "                                                   cast  \\\n",
              "0     [{\"cast_id\": 242, \"character\": \"Jake Sully\", \"...   \n",
              "1     [{\"cast_id\": 4, \"character\": \"Captain Jack Spa...   \n",
              "2     [{\"cast_id\": 1, \"character\": \"James Bond\", \"cr...   \n",
              "3     [{\"cast_id\": 2, \"character\": \"Bruce Wayne / Ba...   \n",
              "4     [{\"cast_id\": 5, \"character\": \"John Carter\", \"c...   \n",
              "...                                                 ...   \n",
              "4798  [{\"cast_id\": 1, \"character\": \"El Mariachi\", \"c...   \n",
              "4799  [{\"cast_id\": 1, \"character\": \"Buzzy\", \"credit_...   \n",
              "4800  [{\"cast_id\": 8, \"character\": \"Oliver O\\u2019To...   \n",
              "4801  [{\"cast_id\": 3, \"character\": \"Sam\", \"credit_id...   \n",
              "4802  [{\"cast_id\": 3, \"character\": \"Herself\", \"credi...   \n",
              "\n",
              "                                                   crew  \n",
              "0     [{\"credit_id\": \"52fe48009251416c750aca23\", \"de...  \n",
              "1     [{\"credit_id\": \"52fe4232c3a36847f800b579\", \"de...  \n",
              "2     [{\"credit_id\": \"54805967c3a36829b5002c41\", \"de...  \n",
              "3     [{\"credit_id\": \"52fe4781c3a36847f81398c3\", \"de...  \n",
              "4     [{\"credit_id\": \"52fe479ac3a36847f813eaa3\", \"de...  \n",
              "...                                                 ...  \n",
              "4798  [{\"credit_id\": \"52fe44eec3a36847f80b280b\", \"de...  \n",
              "4799  [{\"credit_id\": \"52fe487dc3a368484e0fb013\", \"de...  \n",
              "4800  [{\"credit_id\": \"52fe4df3c3a36847f8275ecf\", \"de...  \n",
              "4801  [{\"credit_id\": \"52fe4ad9c3a368484e16a36b\", \"de...  \n",
              "4802  [{\"credit_id\": \"58ce021b9251415a390165d9\", \"de...  \n",
              "\n",
              "[4803 rows x 4 columns]"
            ]
          },
          "execution_count": 90,
          "metadata": {},
          "output_type": "execute_result"
        }
      ],
      "source": [
        "credits"
      ]
    },
    {
      "cell_type": "code",
      "execution_count": null,
      "id": "88397741-3b78-49c8-b568-e9c0482a4cf7",
      "metadata": {
        "id": "88397741-3b78-49c8-b568-e9c0482a4cf7",
        "outputId": "1d92fd27-40ef-4435-e289-ddb16a862eba"
      },
      "outputs": [
        {
          "data": {
            "text/html": [
              "<div>\n",
              "<style scoped>\n",
              "    .dataframe tbody tr th:only-of-type {\n",
              "        vertical-align: middle;\n",
              "    }\n",
              "\n",
              "    .dataframe tbody tr th {\n",
              "        vertical-align: top;\n",
              "    }\n",
              "\n",
              "    .dataframe thead th {\n",
              "        text-align: right;\n",
              "    }\n",
              "</style>\n",
              "<table border=\"1\" class=\"dataframe\">\n",
              "  <thead>\n",
              "    <tr style=\"text-align: right;\">\n",
              "      <th></th>\n",
              "      <th>budget</th>\n",
              "      <th>genres</th>\n",
              "      <th>homepage</th>\n",
              "      <th>id</th>\n",
              "      <th>keywords</th>\n",
              "      <th>original_language</th>\n",
              "      <th>original_title</th>\n",
              "      <th>overview</th>\n",
              "      <th>popularity</th>\n",
              "      <th>production_companies</th>\n",
              "      <th>production_countries</th>\n",
              "      <th>release_date</th>\n",
              "      <th>revenue</th>\n",
              "      <th>runtime</th>\n",
              "      <th>spoken_languages</th>\n",
              "      <th>status</th>\n",
              "      <th>tagline</th>\n",
              "      <th>title</th>\n",
              "      <th>vote_average</th>\n",
              "      <th>vote_count</th>\n",
              "    </tr>\n",
              "  </thead>\n",
              "  <tbody>\n",
              "    <tr>\n",
              "      <th>0</th>\n",
              "      <td>237000000</td>\n",
              "      <td>[{\"id\": 28, \"name\": \"Action\"}, {\"id\": 12, \"nam...</td>\n",
              "      <td>http://www.avatarmovie.com/</td>\n",
              "      <td>19995</td>\n",
              "      <td>[{\"id\": 1463, \"name\": \"culture clash\"}, {\"id\":...</td>\n",
              "      <td>en</td>\n",
              "      <td>Avatar</td>\n",
              "      <td>In the 22nd century, a paraplegic Marine is di...</td>\n",
              "      <td>150.437577</td>\n",
              "      <td>[{\"name\": \"Ingenious Film Partners\", \"id\": 289...</td>\n",
              "      <td>[{\"iso_3166_1\": \"US\", \"name\": \"United States o...</td>\n",
              "      <td>2009-12-10</td>\n",
              "      <td>2787965087</td>\n",
              "      <td>162.0</td>\n",
              "      <td>[{\"iso_639_1\": \"en\", \"name\": \"English\"}, {\"iso...</td>\n",
              "      <td>Released</td>\n",
              "      <td>Enter the World of Pandora.</td>\n",
              "      <td>Avatar</td>\n",
              "      <td>7.2</td>\n",
              "      <td>11800</td>\n",
              "    </tr>\n",
              "    <tr>\n",
              "      <th>1</th>\n",
              "      <td>300000000</td>\n",
              "      <td>[{\"id\": 12, \"name\": \"Adventure\"}, {\"id\": 14, \"...</td>\n",
              "      <td>http://disney.go.com/disneypictures/pirates/</td>\n",
              "      <td>285</td>\n",
              "      <td>[{\"id\": 270, \"name\": \"ocean\"}, {\"id\": 726, \"na...</td>\n",
              "      <td>en</td>\n",
              "      <td>Pirates of the Caribbean: At World's End</td>\n",
              "      <td>Captain Barbossa, long believed to be dead, ha...</td>\n",
              "      <td>139.082615</td>\n",
              "      <td>[{\"name\": \"Walt Disney Pictures\", \"id\": 2}, {\"...</td>\n",
              "      <td>[{\"iso_3166_1\": \"US\", \"name\": \"United States o...</td>\n",
              "      <td>2007-05-19</td>\n",
              "      <td>961000000</td>\n",
              "      <td>169.0</td>\n",
              "      <td>[{\"iso_639_1\": \"en\", \"name\": \"English\"}]</td>\n",
              "      <td>Released</td>\n",
              "      <td>At the end of the world, the adventure begins.</td>\n",
              "      <td>Pirates of the Caribbean: At World's End</td>\n",
              "      <td>6.9</td>\n",
              "      <td>4500</td>\n",
              "    </tr>\n",
              "    <tr>\n",
              "      <th>2</th>\n",
              "      <td>245000000</td>\n",
              "      <td>[{\"id\": 28, \"name\": \"Action\"}, {\"id\": 12, \"nam...</td>\n",
              "      <td>http://www.sonypictures.com/movies/spectre/</td>\n",
              "      <td>206647</td>\n",
              "      <td>[{\"id\": 470, \"name\": \"spy\"}, {\"id\": 818, \"name...</td>\n",
              "      <td>en</td>\n",
              "      <td>Spectre</td>\n",
              "      <td>A cryptic message from Bond’s past sends him o...</td>\n",
              "      <td>107.376788</td>\n",
              "      <td>[{\"name\": \"Columbia Pictures\", \"id\": 5}, {\"nam...</td>\n",
              "      <td>[{\"iso_3166_1\": \"GB\", \"name\": \"United Kingdom\"...</td>\n",
              "      <td>2015-10-26</td>\n",
              "      <td>880674609</td>\n",
              "      <td>148.0</td>\n",
              "      <td>[{\"iso_639_1\": \"fr\", \"name\": \"Fran\\u00e7ais\"},...</td>\n",
              "      <td>Released</td>\n",
              "      <td>A Plan No One Escapes</td>\n",
              "      <td>Spectre</td>\n",
              "      <td>6.3</td>\n",
              "      <td>4466</td>\n",
              "    </tr>\n",
              "    <tr>\n",
              "      <th>3</th>\n",
              "      <td>250000000</td>\n",
              "      <td>[{\"id\": 28, \"name\": \"Action\"}, {\"id\": 80, \"nam...</td>\n",
              "      <td>http://www.thedarkknightrises.com/</td>\n",
              "      <td>49026</td>\n",
              "      <td>[{\"id\": 849, \"name\": \"dc comics\"}, {\"id\": 853,...</td>\n",
              "      <td>en</td>\n",
              "      <td>The Dark Knight Rises</td>\n",
              "      <td>Following the death of District Attorney Harve...</td>\n",
              "      <td>112.312950</td>\n",
              "      <td>[{\"name\": \"Legendary Pictures\", \"id\": 923}, {\"...</td>\n",
              "      <td>[{\"iso_3166_1\": \"US\", \"name\": \"United States o...</td>\n",
              "      <td>2012-07-16</td>\n",
              "      <td>1084939099</td>\n",
              "      <td>165.0</td>\n",
              "      <td>[{\"iso_639_1\": \"en\", \"name\": \"English\"}]</td>\n",
              "      <td>Released</td>\n",
              "      <td>The Legend Ends</td>\n",
              "      <td>The Dark Knight Rises</td>\n",
              "      <td>7.6</td>\n",
              "      <td>9106</td>\n",
              "    </tr>\n",
              "    <tr>\n",
              "      <th>4</th>\n",
              "      <td>260000000</td>\n",
              "      <td>[{\"id\": 28, \"name\": \"Action\"}, {\"id\": 12, \"nam...</td>\n",
              "      <td>http://movies.disney.com/john-carter</td>\n",
              "      <td>49529</td>\n",
              "      <td>[{\"id\": 818, \"name\": \"based on novel\"}, {\"id\":...</td>\n",
              "      <td>en</td>\n",
              "      <td>John Carter</td>\n",
              "      <td>John Carter is a war-weary, former military ca...</td>\n",
              "      <td>43.926995</td>\n",
              "      <td>[{\"name\": \"Walt Disney Pictures\", \"id\": 2}]</td>\n",
              "      <td>[{\"iso_3166_1\": \"US\", \"name\": \"United States o...</td>\n",
              "      <td>2012-03-07</td>\n",
              "      <td>284139100</td>\n",
              "      <td>132.0</td>\n",
              "      <td>[{\"iso_639_1\": \"en\", \"name\": \"English\"}]</td>\n",
              "      <td>Released</td>\n",
              "      <td>Lost in our world, found in another.</td>\n",
              "      <td>John Carter</td>\n",
              "      <td>6.1</td>\n",
              "      <td>2124</td>\n",
              "    </tr>\n",
              "    <tr>\n",
              "      <th>...</th>\n",
              "      <td>...</td>\n",
              "      <td>...</td>\n",
              "      <td>...</td>\n",
              "      <td>...</td>\n",
              "      <td>...</td>\n",
              "      <td>...</td>\n",
              "      <td>...</td>\n",
              "      <td>...</td>\n",
              "      <td>...</td>\n",
              "      <td>...</td>\n",
              "      <td>...</td>\n",
              "      <td>...</td>\n",
              "      <td>...</td>\n",
              "      <td>...</td>\n",
              "      <td>...</td>\n",
              "      <td>...</td>\n",
              "      <td>...</td>\n",
              "      <td>...</td>\n",
              "      <td>...</td>\n",
              "      <td>...</td>\n",
              "    </tr>\n",
              "    <tr>\n",
              "      <th>4798</th>\n",
              "      <td>220000</td>\n",
              "      <td>[{\"id\": 28, \"name\": \"Action\"}, {\"id\": 80, \"nam...</td>\n",
              "      <td>NaN</td>\n",
              "      <td>9367</td>\n",
              "      <td>[{\"id\": 5616, \"name\": \"united states\\u2013mexi...</td>\n",
              "      <td>es</td>\n",
              "      <td>El Mariachi</td>\n",
              "      <td>El Mariachi just wants to play his guitar and ...</td>\n",
              "      <td>14.269792</td>\n",
              "      <td>[{\"name\": \"Columbia Pictures\", \"id\": 5}]</td>\n",
              "      <td>[{\"iso_3166_1\": \"MX\", \"name\": \"Mexico\"}, {\"iso...</td>\n",
              "      <td>1992-09-04</td>\n",
              "      <td>2040920</td>\n",
              "      <td>81.0</td>\n",
              "      <td>[{\"iso_639_1\": \"es\", \"name\": \"Espa\\u00f1ol\"}]</td>\n",
              "      <td>Released</td>\n",
              "      <td>He didn't come looking for trouble, but troubl...</td>\n",
              "      <td>El Mariachi</td>\n",
              "      <td>6.6</td>\n",
              "      <td>238</td>\n",
              "    </tr>\n",
              "    <tr>\n",
              "      <th>4799</th>\n",
              "      <td>9000</td>\n",
              "      <td>[{\"id\": 35, \"name\": \"Comedy\"}, {\"id\": 10749, \"...</td>\n",
              "      <td>NaN</td>\n",
              "      <td>72766</td>\n",
              "      <td>[]</td>\n",
              "      <td>en</td>\n",
              "      <td>Newlyweds</td>\n",
              "      <td>A newlywed couple's honeymoon is upended by th...</td>\n",
              "      <td>0.642552</td>\n",
              "      <td>[]</td>\n",
              "      <td>[]</td>\n",
              "      <td>2011-12-26</td>\n",
              "      <td>0</td>\n",
              "      <td>85.0</td>\n",
              "      <td>[]</td>\n",
              "      <td>Released</td>\n",
              "      <td>A newlywed couple's honeymoon is upended by th...</td>\n",
              "      <td>Newlyweds</td>\n",
              "      <td>5.9</td>\n",
              "      <td>5</td>\n",
              "    </tr>\n",
              "    <tr>\n",
              "      <th>4800</th>\n",
              "      <td>0</td>\n",
              "      <td>[{\"id\": 35, \"name\": \"Comedy\"}, {\"id\": 18, \"nam...</td>\n",
              "      <td>http://www.hallmarkchannel.com/signedsealeddel...</td>\n",
              "      <td>231617</td>\n",
              "      <td>[{\"id\": 248, \"name\": \"date\"}, {\"id\": 699, \"nam...</td>\n",
              "      <td>en</td>\n",
              "      <td>Signed, Sealed, Delivered</td>\n",
              "      <td>\"Signed, Sealed, Delivered\" introduces a dedic...</td>\n",
              "      <td>1.444476</td>\n",
              "      <td>[{\"name\": \"Front Street Pictures\", \"id\": 3958}...</td>\n",
              "      <td>[{\"iso_3166_1\": \"US\", \"name\": \"United States o...</td>\n",
              "      <td>2013-10-13</td>\n",
              "      <td>0</td>\n",
              "      <td>120.0</td>\n",
              "      <td>[{\"iso_639_1\": \"en\", \"name\": \"English\"}]</td>\n",
              "      <td>Released</td>\n",
              "      <td>NaN</td>\n",
              "      <td>Signed, Sealed, Delivered</td>\n",
              "      <td>7.0</td>\n",
              "      <td>6</td>\n",
              "    </tr>\n",
              "    <tr>\n",
              "      <th>4801</th>\n",
              "      <td>0</td>\n",
              "      <td>[]</td>\n",
              "      <td>http://shanghaicalling.com/</td>\n",
              "      <td>126186</td>\n",
              "      <td>[]</td>\n",
              "      <td>en</td>\n",
              "      <td>Shanghai Calling</td>\n",
              "      <td>When ambitious New York attorney Sam is sent t...</td>\n",
              "      <td>0.857008</td>\n",
              "      <td>[]</td>\n",
              "      <td>[{\"iso_3166_1\": \"US\", \"name\": \"United States o...</td>\n",
              "      <td>2012-05-03</td>\n",
              "      <td>0</td>\n",
              "      <td>98.0</td>\n",
              "      <td>[{\"iso_639_1\": \"en\", \"name\": \"English\"}]</td>\n",
              "      <td>Released</td>\n",
              "      <td>A New Yorker in Shanghai</td>\n",
              "      <td>Shanghai Calling</td>\n",
              "      <td>5.7</td>\n",
              "      <td>7</td>\n",
              "    </tr>\n",
              "    <tr>\n",
              "      <th>4802</th>\n",
              "      <td>0</td>\n",
              "      <td>[{\"id\": 99, \"name\": \"Documentary\"}]</td>\n",
              "      <td>NaN</td>\n",
              "      <td>25975</td>\n",
              "      <td>[{\"id\": 1523, \"name\": \"obsession\"}, {\"id\": 224...</td>\n",
              "      <td>en</td>\n",
              "      <td>My Date with Drew</td>\n",
              "      <td>Ever since the second grade when he first saw ...</td>\n",
              "      <td>1.929883</td>\n",
              "      <td>[{\"name\": \"rusty bear entertainment\", \"id\": 87...</td>\n",
              "      <td>[{\"iso_3166_1\": \"US\", \"name\": \"United States o...</td>\n",
              "      <td>2005-08-05</td>\n",
              "      <td>0</td>\n",
              "      <td>90.0</td>\n",
              "      <td>[{\"iso_639_1\": \"en\", \"name\": \"English\"}]</td>\n",
              "      <td>Released</td>\n",
              "      <td>NaN</td>\n",
              "      <td>My Date with Drew</td>\n",
              "      <td>6.3</td>\n",
              "      <td>16</td>\n",
              "    </tr>\n",
              "  </tbody>\n",
              "</table>\n",
              "<p>4803 rows × 20 columns</p>\n",
              "</div>"
            ],
            "text/plain": [
              "         budget                                             genres  \\\n",
              "0     237000000  [{\"id\": 28, \"name\": \"Action\"}, {\"id\": 12, \"nam...   \n",
              "1     300000000  [{\"id\": 12, \"name\": \"Adventure\"}, {\"id\": 14, \"...   \n",
              "2     245000000  [{\"id\": 28, \"name\": \"Action\"}, {\"id\": 12, \"nam...   \n",
              "3     250000000  [{\"id\": 28, \"name\": \"Action\"}, {\"id\": 80, \"nam...   \n",
              "4     260000000  [{\"id\": 28, \"name\": \"Action\"}, {\"id\": 12, \"nam...   \n",
              "...         ...                                                ...   \n",
              "4798     220000  [{\"id\": 28, \"name\": \"Action\"}, {\"id\": 80, \"nam...   \n",
              "4799       9000  [{\"id\": 35, \"name\": \"Comedy\"}, {\"id\": 10749, \"...   \n",
              "4800          0  [{\"id\": 35, \"name\": \"Comedy\"}, {\"id\": 18, \"nam...   \n",
              "4801          0                                                 []   \n",
              "4802          0                [{\"id\": 99, \"name\": \"Documentary\"}]   \n",
              "\n",
              "                                               homepage      id  \\\n",
              "0                           http://www.avatarmovie.com/   19995   \n",
              "1          http://disney.go.com/disneypictures/pirates/     285   \n",
              "2           http://www.sonypictures.com/movies/spectre/  206647   \n",
              "3                    http://www.thedarkknightrises.com/   49026   \n",
              "4                  http://movies.disney.com/john-carter   49529   \n",
              "...                                                 ...     ...   \n",
              "4798                                                NaN    9367   \n",
              "4799                                                NaN   72766   \n",
              "4800  http://www.hallmarkchannel.com/signedsealeddel...  231617   \n",
              "4801                        http://shanghaicalling.com/  126186   \n",
              "4802                                                NaN   25975   \n",
              "\n",
              "                                               keywords original_language  \\\n",
              "0     [{\"id\": 1463, \"name\": \"culture clash\"}, {\"id\":...                en   \n",
              "1     [{\"id\": 270, \"name\": \"ocean\"}, {\"id\": 726, \"na...                en   \n",
              "2     [{\"id\": 470, \"name\": \"spy\"}, {\"id\": 818, \"name...                en   \n",
              "3     [{\"id\": 849, \"name\": \"dc comics\"}, {\"id\": 853,...                en   \n",
              "4     [{\"id\": 818, \"name\": \"based on novel\"}, {\"id\":...                en   \n",
              "...                                                 ...               ...   \n",
              "4798  [{\"id\": 5616, \"name\": \"united states\\u2013mexi...                es   \n",
              "4799                                                 []                en   \n",
              "4800  [{\"id\": 248, \"name\": \"date\"}, {\"id\": 699, \"nam...                en   \n",
              "4801                                                 []                en   \n",
              "4802  [{\"id\": 1523, \"name\": \"obsession\"}, {\"id\": 224...                en   \n",
              "\n",
              "                                original_title  \\\n",
              "0                                       Avatar   \n",
              "1     Pirates of the Caribbean: At World's End   \n",
              "2                                      Spectre   \n",
              "3                        The Dark Knight Rises   \n",
              "4                                  John Carter   \n",
              "...                                        ...   \n",
              "4798                               El Mariachi   \n",
              "4799                                 Newlyweds   \n",
              "4800                 Signed, Sealed, Delivered   \n",
              "4801                          Shanghai Calling   \n",
              "4802                         My Date with Drew   \n",
              "\n",
              "                                               overview  popularity  \\\n",
              "0     In the 22nd century, a paraplegic Marine is di...  150.437577   \n",
              "1     Captain Barbossa, long believed to be dead, ha...  139.082615   \n",
              "2     A cryptic message from Bond’s past sends him o...  107.376788   \n",
              "3     Following the death of District Attorney Harve...  112.312950   \n",
              "4     John Carter is a war-weary, former military ca...   43.926995   \n",
              "...                                                 ...         ...   \n",
              "4798  El Mariachi just wants to play his guitar and ...   14.269792   \n",
              "4799  A newlywed couple's honeymoon is upended by th...    0.642552   \n",
              "4800  \"Signed, Sealed, Delivered\" introduces a dedic...    1.444476   \n",
              "4801  When ambitious New York attorney Sam is sent t...    0.857008   \n",
              "4802  Ever since the second grade when he first saw ...    1.929883   \n",
              "\n",
              "                                   production_companies  \\\n",
              "0     [{\"name\": \"Ingenious Film Partners\", \"id\": 289...   \n",
              "1     [{\"name\": \"Walt Disney Pictures\", \"id\": 2}, {\"...   \n",
              "2     [{\"name\": \"Columbia Pictures\", \"id\": 5}, {\"nam...   \n",
              "3     [{\"name\": \"Legendary Pictures\", \"id\": 923}, {\"...   \n",
              "4           [{\"name\": \"Walt Disney Pictures\", \"id\": 2}]   \n",
              "...                                                 ...   \n",
              "4798           [{\"name\": \"Columbia Pictures\", \"id\": 5}]   \n",
              "4799                                                 []   \n",
              "4800  [{\"name\": \"Front Street Pictures\", \"id\": 3958}...   \n",
              "4801                                                 []   \n",
              "4802  [{\"name\": \"rusty bear entertainment\", \"id\": 87...   \n",
              "\n",
              "                                   production_countries release_date  \\\n",
              "0     [{\"iso_3166_1\": \"US\", \"name\": \"United States o...   2009-12-10   \n",
              "1     [{\"iso_3166_1\": \"US\", \"name\": \"United States o...   2007-05-19   \n",
              "2     [{\"iso_3166_1\": \"GB\", \"name\": \"United Kingdom\"...   2015-10-26   \n",
              "3     [{\"iso_3166_1\": \"US\", \"name\": \"United States o...   2012-07-16   \n",
              "4     [{\"iso_3166_1\": \"US\", \"name\": \"United States o...   2012-03-07   \n",
              "...                                                 ...          ...   \n",
              "4798  [{\"iso_3166_1\": \"MX\", \"name\": \"Mexico\"}, {\"iso...   1992-09-04   \n",
              "4799                                                 []   2011-12-26   \n",
              "4800  [{\"iso_3166_1\": \"US\", \"name\": \"United States o...   2013-10-13   \n",
              "4801  [{\"iso_3166_1\": \"US\", \"name\": \"United States o...   2012-05-03   \n",
              "4802  [{\"iso_3166_1\": \"US\", \"name\": \"United States o...   2005-08-05   \n",
              "\n",
              "         revenue  runtime                                   spoken_languages  \\\n",
              "0     2787965087    162.0  [{\"iso_639_1\": \"en\", \"name\": \"English\"}, {\"iso...   \n",
              "1      961000000    169.0           [{\"iso_639_1\": \"en\", \"name\": \"English\"}]   \n",
              "2      880674609    148.0  [{\"iso_639_1\": \"fr\", \"name\": \"Fran\\u00e7ais\"},...   \n",
              "3     1084939099    165.0           [{\"iso_639_1\": \"en\", \"name\": \"English\"}]   \n",
              "4      284139100    132.0           [{\"iso_639_1\": \"en\", \"name\": \"English\"}]   \n",
              "...          ...      ...                                                ...   \n",
              "4798     2040920     81.0      [{\"iso_639_1\": \"es\", \"name\": \"Espa\\u00f1ol\"}]   \n",
              "4799           0     85.0                                                 []   \n",
              "4800           0    120.0           [{\"iso_639_1\": \"en\", \"name\": \"English\"}]   \n",
              "4801           0     98.0           [{\"iso_639_1\": \"en\", \"name\": \"English\"}]   \n",
              "4802           0     90.0           [{\"iso_639_1\": \"en\", \"name\": \"English\"}]   \n",
              "\n",
              "        status                                            tagline  \\\n",
              "0     Released                        Enter the World of Pandora.   \n",
              "1     Released     At the end of the world, the adventure begins.   \n",
              "2     Released                              A Plan No One Escapes   \n",
              "3     Released                                    The Legend Ends   \n",
              "4     Released               Lost in our world, found in another.   \n",
              "...        ...                                                ...   \n",
              "4798  Released  He didn't come looking for trouble, but troubl...   \n",
              "4799  Released  A newlywed couple's honeymoon is upended by th...   \n",
              "4800  Released                                                NaN   \n",
              "4801  Released                           A New Yorker in Shanghai   \n",
              "4802  Released                                                NaN   \n",
              "\n",
              "                                         title  vote_average  vote_count  \n",
              "0                                       Avatar           7.2       11800  \n",
              "1     Pirates of the Caribbean: At World's End           6.9        4500  \n",
              "2                                      Spectre           6.3        4466  \n",
              "3                        The Dark Knight Rises           7.6        9106  \n",
              "4                                  John Carter           6.1        2124  \n",
              "...                                        ...           ...         ...  \n",
              "4798                               El Mariachi           6.6         238  \n",
              "4799                                 Newlyweds           5.9           5  \n",
              "4800                 Signed, Sealed, Delivered           7.0           6  \n",
              "4801                          Shanghai Calling           5.7           7  \n",
              "4802                         My Date with Drew           6.3          16  \n",
              "\n",
              "[4803 rows x 20 columns]"
            ]
          },
          "execution_count": 91,
          "metadata": {},
          "output_type": "execute_result"
        }
      ],
      "source": [
        "movies"
      ]
    },
    {
      "cell_type": "code",
      "execution_count": null,
      "id": "48e27720-424e-4db8-8926-8d902c2ac4b2",
      "metadata": {
        "id": "48e27720-424e-4db8-8926-8d902c2ac4b2",
        "outputId": "5cc3ed22-31c4-4565-d202-ae066e2091bb"
      },
      "outputs": [
        {
          "data": {
            "image/png": "[encoded data removed]",
            "text/plain": [
              "<Figure size 1200x800 with 1 Axes>"
            ]
          },
          "metadata": {},
          "output_type": "display_data"
        }
      ],
      "source": [
        "import ast\n",
        "import matplotlib.pyplot as plt\n",
        "\n",
        "# Преобразование строки в список словарей\n",
        "movies['genres'] = movies['genres'].apply(lambda x: ast.literal_eval(x))\n",
        "\n",
        "# Подсчет частоты жанров\n",
        "genres_count = {}\n",
        "for genre_list in movies['genres']:\n",
        "    for genre in genre_list:\n",
        "        if genre['name'] in genres_count:\n",
        "            genres_count[genre['name']] += 1\n",
        "        else:\n",
        "            genres_count[genre['name']] = 1\n",
        "\n",
        "# Создание датафрейма для построения графика\n",
        "genres_df = pd.DataFrame(list(genres_count.items()), columns=['Жанр', 'Количество фильмов'])\n",
        "\n",
        "# Сортировка по количеству фильмов\n",
        "genres_df = genres_df.sort_values(by='Количество фильмов', ascending=False)\n",
        "plt.figure(figsize=(12, 8))\n",
        "plt.bar(genres_df['Жанр'], genres_df['Количество фильмов'], color='chartreuse')\n",
        "plt.title('Распределение жанров фильмов')\n",
        "plt.xlabel('Жанр')\n",
        "plt.ylabel('Количество фильмов')\n",
        "plt.xticks(rotation=90)\n",
        "plt.grid(axis='y')\n",
        "plt.show()\n"
      ]
    },
    {
      "cell_type": "code",
      "execution_count": null,
      "id": "11663af7-62d1-4588-988f-a928869b4900",
      "metadata": {
        "id": "11663af7-62d1-4588-988f-a928869b4900",
        "outputId": "24518807-b9b9-4011-f4ff-f92a326f6c80"
      },
      "outputs": [
        {
          "data": {
            "text/plain": [
              "875.581305"
            ]
          },
          "execution_count": 5,
          "metadata": {},
          "output_type": "execute_result"
        }
      ],
      "source": [
        "movies['popularity'].max()"
      ]
    },
    {
      "cell_type": "code",
      "execution_count": null,
      "id": "bcffede7-076b-4891-93b8-2c03d73c2ba1",
      "metadata": {
        "id": "bcffede7-076b-4891-93b8-2c03d73c2ba1",
        "outputId": "67ecd5bf-7447-44a8-9b6b-be85e093f6ea"
      },
      "outputs": [
        {
          "name": "stdout",
          "output_type": "stream",
          "text": [
            "<class 'pandas.core.frame.DataFrame'>\n",
            "RangeIndex: 4803 entries, 0 to 4802\n",
            "Data columns (total 4 columns):\n",
            " #   Column    Non-Null Count  Dtype \n",
            "---  ------    --------------  ----- \n",
            " 0   movie_id  4803 non-null   int64 \n",
            " 1   title     4803 non-null   object\n",
            " 2   cast      4803 non-null   object\n",
            " 3   crew      4803 non-null   object\n",
            "dtypes: int64(1), object(3)\n",
            "memory usage: 150.2+ KB\n",
            "<class 'pandas.core.frame.DataFrame'>\n",
            "RangeIndex: 4803 entries, 0 to 4802\n",
            "Data columns (total 20 columns):\n",
            " #   Column                Non-Null Count  Dtype  \n",
            "---  ------                --------------  -----  \n",
            " 0   budget                4803 non-null   int64  \n",
            " 1   genres                4803 non-null   object \n",
            " 2   homepage              1712 non-null   object \n",
            " 3   id                    4803 non-null   int64  \n",
            " 4   keywords              4803 non-null   object \n",
            " 5   original_language     4803 non-null   object \n",
            " 6   original_title        4803 non-null   object \n",
            " 7   overview              4800 non-null   object \n",
            " 8   popularity            4803 non-null   float64\n",
            " 9   production_companies  4803 non-null   object \n",
            " 10  production_countries  4803 non-null   object \n",
            " 11  release_date          4802 non-null   object \n",
            " 12  revenue               4803 non-null   int64  \n",
            " 13  runtime               4801 non-null   float64\n",
            " 14  spoken_languages      4803 non-null   object \n",
            " 15  status                4803 non-null   object \n",
            " 16  tagline               3959 non-null   object \n",
            " 17  title                 4803 non-null   object \n",
            " 18  vote_average          4803 non-null   float64\n",
            " 19  vote_count            4803 non-null   int64  \n",
            "dtypes: float64(3), int64(4), object(13)\n",
            "memory usage: 750.6+ KB\n"
          ]
        },
        {
          "data": {
            "text/plain": [
              "(None,\n",
              " None,\n",
              "    movie_id                                     title  \\\n",
              " 0     19995                                    Avatar   \n",
              " 1       285  Pirates of the Caribbean: At World's End   \n",
              " 2    206647                                   Spectre   \n",
              " 3     49026                     The Dark Knight Rises   \n",
              " 4     49529                               John Carter   \n",
              " \n",
              "                                                 cast  \\\n",
              " 0  [{\"cast_id\": 242, \"character\": \"Jake Sully\", \"...   \n",
              " 1  [{\"cast_id\": 4, \"character\": \"Captain Jack Spa...   \n",
              " 2  [{\"cast_id\": 1, \"character\": \"James Bond\", \"cr...   \n",
              " 3  [{\"cast_id\": 2, \"character\": \"Bruce Wayne / Ba...   \n",
              " 4  [{\"cast_id\": 5, \"character\": \"John Carter\", \"c...   \n",
              " \n",
              "                                                 crew  \n",
              " 0  [{\"credit_id\": \"52fe48009251416c750aca23\", \"de...  \n",
              " 1  [{\"credit_id\": \"52fe4232c3a36847f800b579\", \"de...  \n",
              " 2  [{\"credit_id\": \"54805967c3a36829b5002c41\", \"de...  \n",
              " 3  [{\"credit_id\": \"52fe4781c3a36847f81398c3\", \"de...  \n",
              " 4  [{\"credit_id\": \"52fe479ac3a36847f813eaa3\", \"de...  ,\n",
              "       budget                                             genres  \\\n",
              " 0  237000000  [{\"id\": 28, \"name\": \"Action\"}, {\"id\": 12, \"nam...   \n",
              " 1  300000000  [{\"id\": 12, \"name\": \"Adventure\"}, {\"id\": 14, \"...   \n",
              " 2  245000000  [{\"id\": 28, \"name\": \"Action\"}, {\"id\": 12, \"nam...   \n",
              " 3  250000000  [{\"id\": 28, \"name\": \"Action\"}, {\"id\": 80, \"nam...   \n",
              " 4  260000000  [{\"id\": 28, \"name\": \"Action\"}, {\"id\": 12, \"nam...   \n",
              " \n",
              "                                        homepage      id  \\\n",
              " 0                   http://www.avatarmovie.com/   19995   \n",
              " 1  http://disney.go.com/disneypictures/pirates/     285   \n",
              " 2   http://www.sonypictures.com/movies/spectre/  206647   \n",
              " 3            http://www.thedarkknightrises.com/   49026   \n",
              " 4          http://movies.disney.com/john-carter   49529   \n",
              " \n",
              "                                             keywords original_language  \\\n",
              " 0  [{\"id\": 1463, \"name\": \"culture clash\"}, {\"id\":...                en   \n",
              " 1  [{\"id\": 270, \"name\": \"ocean\"}, {\"id\": 726, \"na...                en   \n",
              " 2  [{\"id\": 470, \"name\": \"spy\"}, {\"id\": 818, \"name...                en   \n",
              " 3  [{\"id\": 849, \"name\": \"dc comics\"}, {\"id\": 853,...                en   \n",
              " 4  [{\"id\": 818, \"name\": \"based on novel\"}, {\"id\":...                en   \n",
              " \n",
              "                              original_title  \\\n",
              " 0                                    Avatar   \n",
              " 1  Pirates of the Caribbean: At World's End   \n",
              " 2                                   Spectre   \n",
              " 3                     The Dark Knight Rises   \n",
              " 4                               John Carter   \n",
              " \n",
              "                                             overview  popularity  \\\n",
              " 0  In the 22nd century, a paraplegic Marine is di...  150.437577   \n",
              " 1  Captain Barbossa, long believed to be dead, ha...  139.082615   \n",
              " 2  A cryptic message from Bond’s past sends him o...  107.376788   \n",
              " 3  Following the death of District Attorney Harve...  112.312950   \n",
              " 4  John Carter is a war-weary, former military ca...   43.926995   \n",
              " \n",
              "                                 production_companies  \\\n",
              " 0  [{\"name\": \"Ingenious Film Partners\", \"id\": 289...   \n",
              " 1  [{\"name\": \"Walt Disney Pictures\", \"id\": 2}, {\"...   \n",
              " 2  [{\"name\": \"Columbia Pictures\", \"id\": 5}, {\"nam...   \n",
              " 3  [{\"name\": \"Legendary Pictures\", \"id\": 923}, {\"...   \n",
              " 4        [{\"name\": \"Walt Disney Pictures\", \"id\": 2}]   \n",
              " \n",
              "                                 production_countries release_date     revenue  \\\n",
              " 0  [{\"iso_3166_1\": \"US\", \"name\": \"United States o...   2009-12-10  2787965087   \n",
              " 1  [{\"iso_3166_1\": \"US\", \"name\": \"United States o...   2007-05-19   961000000   \n",
              " 2  [{\"iso_3166_1\": \"GB\", \"name\": \"United Kingdom\"...   2015-10-26   880674609   \n",
              " 3  [{\"iso_3166_1\": \"US\", \"name\": \"United States o...   2012-07-16  1084939099   \n",
              " 4  [{\"iso_3166_1\": \"US\", \"name\": \"United States o...   2012-03-07   284139100   \n",
              " \n",
              "    runtime                                   spoken_languages    status  \\\n",
              " 0    162.0  [{\"iso_639_1\": \"en\", \"name\": \"English\"}, {\"iso...  Released   \n",
              " 1    169.0           [{\"iso_639_1\": \"en\", \"name\": \"English\"}]  Released   \n",
              " 2    148.0  [{\"iso_639_1\": \"fr\", \"name\": \"Fran\\u00e7ais\"},...  Released   \n",
              " 3    165.0           [{\"iso_639_1\": \"en\", \"name\": \"English\"}]  Released   \n",
              " 4    132.0           [{\"iso_639_1\": \"en\", \"name\": \"English\"}]  Released   \n",
              " \n",
              "                                           tagline  \\\n",
              " 0                     Enter the World of Pandora.   \n",
              " 1  At the end of the world, the adventure begins.   \n",
              " 2                           A Plan No One Escapes   \n",
              " 3                                 The Legend Ends   \n",
              " 4            Lost in our world, found in another.   \n",
              " \n",
              "                                       title  vote_average  vote_count  \n",
              " 0                                    Avatar           7.2       11800  \n",
              " 1  Pirates of the Caribbean: At World's End           6.9        4500  \n",
              " 2                                   Spectre           6.3        4466  \n",
              " 3                     The Dark Knight Rises           7.6        9106  \n",
              " 4                               John Carter           6.1        2124  )"
            ]
          },
          "execution_count": 6,
          "metadata": {},
          "output_type": "execute_result"
        }
      ],
      "source": [
        "credits_info = credits.info()\n",
        "movies_info = movies.info()\n",
        "\n",
        "credits_head = credits.head()\n",
        "movies_head = movies.head()\n",
        "\n",
        "credits_info, movies_info, credits_head, movies_head"
      ]
    },
    {
      "cell_type": "markdown",
      "id": "26b44856-efde-4e04-aeae-9e52179d158d",
      "metadata": {
        "id": "26b44856-efde-4e04-aeae-9e52179d158d"
      },
      "source": [
        "### Первый датасет: \"TMDB 5000 Movie Dataset\""
      ]
    },
    {
      "cell_type": "markdown",
      "id": "780080d4-c836-49fb-8b9f-df511e31ae9d",
      "metadata": {
        "id": "780080d4-c836-49fb-8b9f-df511e31ae9d"
      },
      "source": [
        "Данный датасет содержит информацию о фильмах из базы данных The Movie Database (TMDb). Он включает в себя метаданные о более чем 5000 фильмах, включая сведения о сюжете, актерском составе, съемочной группе, бюджете и доходах. Датасет содержит два файла:\n",
        "* tmdb_5000_credits.csv: Содержит информацию о фильмах, включая идентификатор фильма, название, информацию о составе актеров и съемочной группе.\n",
        "*\n",
        "tmdb_5000_movies.csv: Содержит информацию о фильмах, такую как бюджет, жанры, дата выхода, доходы и т. д\n",
        "\n",
        "Датасет содержит в себе 9606 строк и 24 колонки.."
      ]
    },
    {
      "cell_type": "markdown",
      "id": "92dfbd15-50f6-4c0a-877d-be76286b2f66",
      "metadata": {
        "id": "92dfbd15-50f6-4c0a-877d-be76286b2f66"
      },
      "source": [
        "### Второй датасет: \"The Movies Dataset\""
      ]
    },
    {
      "cell_type": "markdown",
      "id": "afd42d3b-5bb5-42a2-b0f1-e92a50ea41ef",
      "metadata": {
        "id": "afd42d3b-5bb5-42a2-b0f1-e92a50ea41ef"
      },
      "source": [
        "Данный датасет содержит метаданные о более чем 45 000 фильмах из полного датасета MovieLens, включая информацию о съемочной группе, ключевых словах сюжета, бюджете, доходах, датах выхода, языках, странах производства и компаниях. В дополнение, в датасете имеются файлы, содержащие 26 миллионов рейтингов от 270 000 пользователей для всех 45 000 фильмов.\n",
        "Датасет включает в себя несколько файлов:\n",
        "* movies_metadata.csv: Главный файл метаданных о фильмах. Содержит информацию о постерах, бюджете, доходах, датах выхода, языках, странах производства и компаниях.\n",
        "*\n",
        "keywords.csv: Содержит ключевые слова сюжета для фильмов\n",
        "*\n",
        "credits.csv: Содержит информацию о составе актеров и съемочной группе для всех фильмо\n",
        "* .\n",
        "links.csv: Содержит идентификаторы фильмов из баз данных TMDB и IM\n",
        "* B.\n",
        "links_small.csv: Содержит идентификаторы TMDB и IMDB небольшого подмножества из 9000 филь\n",
        "* ов.\n",
        "ratings_small.csv: Подмножество из 100 000 рейтингов от 700 пользователей для 9000 фил\n",
        "\n",
        "В данной работе используется файл ratings_small.csv для построения рекомендательной системы.ьмов."
      ]
    },
    {
      "cell_type": "markdown",
      "id": "137ecbd3-6d4d-4fea-ade3-6cb38e28e31f",
      "metadata": {
        "id": "137ecbd3-6d4d-4fea-ade3-6cb38e28e31f"
      },
      "source": [
        "## 1. Исследование и предобработка данных."
      ]
    },
    {
      "cell_type": "markdown",
      "id": "411af48a-57ad-4603-9b1d-ac7aebdff1b8",
      "metadata": {
        "id": "411af48a-57ad-4603-9b1d-ac7aebdff1b8"
      },
      "source": [
        "Сначала исследуем данные, чтобы понять их структуру и определить, какие данные могут быть использованы для построения графа знаний."
      ]
    },
    {
      "cell_type": "code",
      "execution_count": null,
      "id": "b3e93d33-c5b2-43e0-a5ba-c9450ba32c0a",
      "metadata": {
        "id": "b3e93d33-c5b2-43e0-a5ba-c9450ba32c0a",
        "outputId": "62b7a955-843f-4bfe-e599-3e3245b138a9"
      },
      "outputs": [
        {
          "data": {
            "text/html": [
              "<div>\n",
              "<style scoped>\n",
              "    .dataframe tbody tr th:only-of-type {\n",
              "        vertical-align: middle;\n",
              "    }\n",
              "\n",
              "    .dataframe tbody tr th {\n",
              "        vertical-align: top;\n",
              "    }\n",
              "\n",
              "    .dataframe thead th {\n",
              "        text-align: right;\n",
              "    }\n",
              "</style>\n",
              "<table border=\"1\" class=\"dataframe\">\n",
              "  <thead>\n",
              "    <tr style=\"text-align: right;\">\n",
              "      <th></th>\n",
              "      <th>budget</th>\n",
              "      <th>genres</th>\n",
              "      <th>homepage</th>\n",
              "      <th>id</th>\n",
              "      <th>keywords</th>\n",
              "      <th>original_language</th>\n",
              "      <th>original_title</th>\n",
              "      <th>overview</th>\n",
              "      <th>popularity</th>\n",
              "      <th>production_companies</th>\n",
              "      <th>...</th>\n",
              "      <th>runtime</th>\n",
              "      <th>spoken_languages</th>\n",
              "      <th>status</th>\n",
              "      <th>tagline</th>\n",
              "      <th>title</th>\n",
              "      <th>vote_average</th>\n",
              "      <th>vote_count</th>\n",
              "      <th>tittle</th>\n",
              "      <th>cast</th>\n",
              "      <th>crew</th>\n",
              "    </tr>\n",
              "  </thead>\n",
              "  <tbody>\n",
              "    <tr>\n",
              "      <th>0</th>\n",
              "      <td>237000000</td>\n",
              "      <td>[{\"id\": 28, \"name\": \"Action\"}, {\"id\": 12, \"nam...</td>\n",
              "      <td>http://www.avatarmovie.com/</td>\n",
              "      <td>19995</td>\n",
              "      <td>[{\"id\": 1463, \"name\": \"culture clash\"}, {\"id\":...</td>\n",
              "      <td>en</td>\n",
              "      <td>Avatar</td>\n",
              "      <td>In the 22nd century, a paraplegic Marine is di...</td>\n",
              "      <td>150.437577</td>\n",
              "      <td>[{\"name\": \"Ingenious Film Partners\", \"id\": 289...</td>\n",
              "      <td>...</td>\n",
              "      <td>162.0</td>\n",
              "      <td>[{\"iso_639_1\": \"en\", \"name\": \"English\"}, {\"iso...</td>\n",
              "      <td>Released</td>\n",
              "      <td>Enter the World of Pandora.</td>\n",
              "      <td>Avatar</td>\n",
              "      <td>7.2</td>\n",
              "      <td>11800</td>\n",
              "      <td>Avatar</td>\n",
              "      <td>[{\"cast_id\": 242, \"character\": \"Jake Sully\", \"...</td>\n",
              "      <td>[{\"credit_id\": \"52fe48009251416c750aca23\", \"de...</td>\n",
              "    </tr>\n",
              "    <tr>\n",
              "      <th>1</th>\n",
              "      <td>300000000</td>\n",
              "      <td>[{\"id\": 12, \"name\": \"Adventure\"}, {\"id\": 14, \"...</td>\n",
              "      <td>http://disney.go.com/disneypictures/pirates/</td>\n",
              "      <td>285</td>\n",
              "      <td>[{\"id\": 270, \"name\": \"ocean\"}, {\"id\": 726, \"na...</td>\n",
              "      <td>en</td>\n",
              "      <td>Pirates of the Caribbean: At World's End</td>\n",
              "      <td>Captain Barbossa, long believed to be dead, ha...</td>\n",
              "      <td>139.082615</td>\n",
              "      <td>[{\"name\": \"Walt Disney Pictures\", \"id\": 2}, {\"...</td>\n",
              "      <td>...</td>\n",
              "      <td>169.0</td>\n",
              "      <td>[{\"iso_639_1\": \"en\", \"name\": \"English\"}]</td>\n",
              "      <td>Released</td>\n",
              "      <td>At the end of the world, the adventure begins.</td>\n",
              "      <td>Pirates of the Caribbean: At World's End</td>\n",
              "      <td>6.9</td>\n",
              "      <td>4500</td>\n",
              "      <td>Pirates of the Caribbean: At World's End</td>\n",
              "      <td>[{\"cast_id\": 4, \"character\": \"Captain Jack Spa...</td>\n",
              "      <td>[{\"credit_id\": \"52fe4232c3a36847f800b579\", \"de...</td>\n",
              "    </tr>\n",
              "    <tr>\n",
              "      <th>2</th>\n",
              "      <td>245000000</td>\n",
              "      <td>[{\"id\": 28, \"name\": \"Action\"}, {\"id\": 12, \"nam...</td>\n",
              "      <td>http://www.sonypictures.com/movies/spectre/</td>\n",
              "      <td>206647</td>\n",
              "      <td>[{\"id\": 470, \"name\": \"spy\"}, {\"id\": 818, \"name...</td>\n",
              "      <td>en</td>\n",
              "      <td>Spectre</td>\n",
              "      <td>A cryptic message from Bond’s past sends him o...</td>\n",
              "      <td>107.376788</td>\n",
              "      <td>[{\"name\": \"Columbia Pictures\", \"id\": 5}, {\"nam...</td>\n",
              "      <td>...</td>\n",
              "      <td>148.0</td>\n",
              "      <td>[{\"iso_639_1\": \"fr\", \"name\": \"Fran\\u00e7ais\"},...</td>\n",
              "      <td>Released</td>\n",
              "      <td>A Plan No One Escapes</td>\n",
              "      <td>Spectre</td>\n",
              "      <td>6.3</td>\n",
              "      <td>4466</td>\n",
              "      <td>Spectre</td>\n",
              "      <td>[{\"cast_id\": 1, \"character\": \"James Bond\", \"cr...</td>\n",
              "      <td>[{\"credit_id\": \"54805967c3a36829b5002c41\", \"de...</td>\n",
              "    </tr>\n",
              "    <tr>\n",
              "      <th>3</th>\n",
              "      <td>250000000</td>\n",
              "      <td>[{\"id\": 28, \"name\": \"Action\"}, {\"id\": 80, \"nam...</td>\n",
              "      <td>http://www.thedarkknightrises.com/</td>\n",
              "      <td>49026</td>\n",
              "      <td>[{\"id\": 849, \"name\": \"dc comics\"}, {\"id\": 853,...</td>\n",
              "      <td>en</td>\n",
              "      <td>The Dark Knight Rises</td>\n",
              "      <td>Following the death of District Attorney Harve...</td>\n",
              "      <td>112.312950</td>\n",
              "      <td>[{\"name\": \"Legendary Pictures\", \"id\": 923}, {\"...</td>\n",
              "      <td>...</td>\n",
              "      <td>165.0</td>\n",
              "      <td>[{\"iso_639_1\": \"en\", \"name\": \"English\"}]</td>\n",
              "      <td>Released</td>\n",
              "      <td>The Legend Ends</td>\n",
              "      <td>The Dark Knight Rises</td>\n",
              "      <td>7.6</td>\n",
              "      <td>9106</td>\n",
              "      <td>The Dark Knight Rises</td>\n",
              "      <td>[{\"cast_id\": 2, \"character\": \"Bruce Wayne / Ba...</td>\n",
              "      <td>[{\"credit_id\": \"52fe4781c3a36847f81398c3\", \"de...</td>\n",
              "    </tr>\n",
              "    <tr>\n",
              "      <th>4</th>\n",
              "      <td>260000000</td>\n",
              "      <td>[{\"id\": 28, \"name\": \"Action\"}, {\"id\": 12, \"nam...</td>\n",
              "      <td>http://movies.disney.com/john-carter</td>\n",
              "      <td>49529</td>\n",
              "      <td>[{\"id\": 818, \"name\": \"based on novel\"}, {\"id\":...</td>\n",
              "      <td>en</td>\n",
              "      <td>John Carter</td>\n",
              "      <td>John Carter is a war-weary, former military ca...</td>\n",
              "      <td>43.926995</td>\n",
              "      <td>[{\"name\": \"Walt Disney Pictures\", \"id\": 2}]</td>\n",
              "      <td>...</td>\n",
              "      <td>132.0</td>\n",
              "      <td>[{\"iso_639_1\": \"en\", \"name\": \"English\"}]</td>\n",
              "      <td>Released</td>\n",
              "      <td>Lost in our world, found in another.</td>\n",
              "      <td>John Carter</td>\n",
              "      <td>6.1</td>\n",
              "      <td>2124</td>\n",
              "      <td>John Carter</td>\n",
              "      <td>[{\"cast_id\": 5, \"character\": \"John Carter\", \"c...</td>\n",
              "      <td>[{\"credit_id\": \"52fe479ac3a36847f813eaa3\", \"de...</td>\n",
              "    </tr>\n",
              "  </tbody>\n",
              "</table>\n",
              "<p>5 rows × 23 columns</p>\n",
              "</div>"
            ],
            "text/plain": [
              "      budget                                             genres  \\\n",
              "0  237000000  [{\"id\": 28, \"name\": \"Action\"}, {\"id\": 12, \"nam...   \n",
              "1  300000000  [{\"id\": 12, \"name\": \"Adventure\"}, {\"id\": 14, \"...   \n",
              "2  245000000  [{\"id\": 28, \"name\": \"Action\"}, {\"id\": 12, \"nam...   \n",
              "3  250000000  [{\"id\": 28, \"name\": \"Action\"}, {\"id\": 80, \"nam...   \n",
              "4  260000000  [{\"id\": 28, \"name\": \"Action\"}, {\"id\": 12, \"nam...   \n",
              "\n",
              "                                       homepage      id  \\\n",
              "0                   http://www.avatarmovie.com/   19995   \n",
              "1  http://disney.go.com/disneypictures/pirates/     285   \n",
              "2   http://www.sonypictures.com/movies/spectre/  206647   \n",
              "3            http://www.thedarkknightrises.com/   49026   \n",
              "4          http://movies.disney.com/john-carter   49529   \n",
              "\n",
              "                                            keywords original_language  \\\n",
              "0  [{\"id\": 1463, \"name\": \"culture clash\"}, {\"id\":...                en   \n",
              "1  [{\"id\": 270, \"name\": \"ocean\"}, {\"id\": 726, \"na...                en   \n",
              "2  [{\"id\": 470, \"name\": \"spy\"}, {\"id\": 818, \"name...                en   \n",
              "3  [{\"id\": 849, \"name\": \"dc comics\"}, {\"id\": 853,...                en   \n",
              "4  [{\"id\": 818, \"name\": \"based on novel\"}, {\"id\":...                en   \n",
              "\n",
              "                             original_title  \\\n",
              "0                                    Avatar   \n",
              "1  Pirates of the Caribbean: At World's End   \n",
              "2                                   Spectre   \n",
              "3                     The Dark Knight Rises   \n",
              "4                               John Carter   \n",
              "\n",
              "                                            overview  popularity  \\\n",
              "0  In the 22nd century, a paraplegic Marine is di...  150.437577   \n",
              "1  Captain Barbossa, long believed to be dead, ha...  139.082615   \n",
              "2  A cryptic message from Bond’s past sends him o...  107.376788   \n",
              "3  Following the death of District Attorney Harve...  112.312950   \n",
              "4  John Carter is a war-weary, former military ca...   43.926995   \n",
              "\n",
              "                                production_companies  ... runtime  \\\n",
              "0  [{\"name\": \"Ingenious Film Partners\", \"id\": 289...  ...   162.0   \n",
              "1  [{\"name\": \"Walt Disney Pictures\", \"id\": 2}, {\"...  ...   169.0   \n",
              "2  [{\"name\": \"Columbia Pictures\", \"id\": 5}, {\"nam...  ...   148.0   \n",
              "3  [{\"name\": \"Legendary Pictures\", \"id\": 923}, {\"...  ...   165.0   \n",
              "4        [{\"name\": \"Walt Disney Pictures\", \"id\": 2}]  ...   132.0   \n",
              "\n",
              "                                    spoken_languages    status  \\\n",
              "0  [{\"iso_639_1\": \"en\", \"name\": \"English\"}, {\"iso...  Released   \n",
              "1           [{\"iso_639_1\": \"en\", \"name\": \"English\"}]  Released   \n",
              "2  [{\"iso_639_1\": \"fr\", \"name\": \"Fran\\u00e7ais\"},...  Released   \n",
              "3           [{\"iso_639_1\": \"en\", \"name\": \"English\"}]  Released   \n",
              "4           [{\"iso_639_1\": \"en\", \"name\": \"English\"}]  Released   \n",
              "\n",
              "                                          tagline  \\\n",
              "0                     Enter the World of Pandora.   \n",
              "1  At the end of the world, the adventure begins.   \n",
              "2                           A Plan No One Escapes   \n",
              "3                                 The Legend Ends   \n",
              "4            Lost in our world, found in another.   \n",
              "\n",
              "                                      title vote_average vote_count  \\\n",
              "0                                    Avatar          7.2      11800   \n",
              "1  Pirates of the Caribbean: At World's End          6.9       4500   \n",
              "2                                   Spectre          6.3       4466   \n",
              "3                     The Dark Knight Rises          7.6       9106   \n",
              "4                               John Carter          6.1       2124   \n",
              "\n",
              "                                     tittle  \\\n",
              "0                                    Avatar   \n",
              "1  Pirates of the Caribbean: At World's End   \n",
              "2                                   Spectre   \n",
              "3                     The Dark Knight Rises   \n",
              "4                               John Carter   \n",
              "\n",
              "                                                cast  \\\n",
              "0  [{\"cast_id\": 242, \"character\": \"Jake Sully\", \"...   \n",
              "1  [{\"cast_id\": 4, \"character\": \"Captain Jack Spa...   \n",
              "2  [{\"cast_id\": 1, \"character\": \"James Bond\", \"cr...   \n",
              "3  [{\"cast_id\": 2, \"character\": \"Bruce Wayne / Ba...   \n",
              "4  [{\"cast_id\": 5, \"character\": \"John Carter\", \"c...   \n",
              "\n",
              "                                                crew  \n",
              "0  [{\"credit_id\": \"52fe48009251416c750aca23\", \"de...  \n",
              "1  [{\"credit_id\": \"52fe4232c3a36847f800b579\", \"de...  \n",
              "2  [{\"credit_id\": \"54805967c3a36829b5002c41\", \"de...  \n",
              "3  [{\"credit_id\": \"52fe4781c3a36847f81398c3\", \"de...  \n",
              "4  [{\"credit_id\": \"52fe479ac3a36847f813eaa3\", \"de...  \n",
              "\n",
              "[5 rows x 23 columns]"
            ]
          },
          "execution_count": 7,
          "metadata": {},
          "output_type": "execute_result"
        }
      ],
      "source": [
        "credits.columns = ['id','tittle','cast','crew']\n",
        "movies= movies.merge(credits,on='id')\n",
        "movies.head(5)"
      ]
    },
    {
      "cell_type": "markdown",
      "id": "796697e2-cfa7-4f50-94f9-d3fc3352b34b",
      "metadata": {
        "id": "796697e2-cfa7-4f50-94f9-d3fc3352b34b"
      },
      "source": [
        "*Demographic Filtering*\n",
        "\n",
        "Прежде чем приступить к работе с этим - нам нужен показатель для оценки фильма:\n",
        "1) Рассчитать оценку для каждого фильма\n",
        "2) Отсортировать оценки и рекомендации пользователям фильм с самым высоким рейтингом.\n",
        "3) Использование средние оценки фильма в качестве оценки, но это будет недостаточно справедливо, поскольку фильм со средним рейтингом 8,9 и всего 3 голосами не может считаться лучшим, чем фильм со средним рейтингом 7,8, но 40 голосами. Итак, я буду использовать взвешенный рейтинг IMDB (wr), который представлен следующим образом где,\n",
        "\n",
        "vote_average - количество голосов, отданных за фильм;\n",
        "vote_count - минимальное количество голосов, которое должно быть указано в таблице;\n",
        "R - средний рейтинг фильма;И\n",
        "C - среднее количество голосов по всему отчетуcalculated as"
      ]
    },
    {
      "cell_type": "code",
      "execution_count": null,
      "id": "849b3c2a-a946-43a5-aaa1-951e5db64484",
      "metadata": {
        "id": "849b3c2a-a946-43a5-aaa1-951e5db64484",
        "outputId": "129fd475-1142-447e-e324-ac7472594718"
      },
      "outputs": [
        {
          "data": {
            "text/plain": [
              "6.092171559442016"
            ]
          },
          "execution_count": 8,
          "metadata": {},
          "output_type": "execute_result"
        }
      ],
      "source": [
        "vote_average= movies['vote_average'].mean()\n",
        "vote_average"
      ]
    },
    {
      "cell_type": "markdown",
      "id": "e361ff39-9033-4ecc-927d-e532b18f3aad",
      "metadata": {
        "id": "e361ff39-9033-4ecc-927d-e532b18f3aad"
      },
      "source": [
        "Таким образом, средний рейтинг всех фильмов составляет приблизительно 6 баллов по десятибалльной шкале.Следующим шагом является определение подходящего значения для m, минимального количества голосов, которое должно быть указано в таблице. Будет использовать 90-й процентиль в качестве критерия. Другими словами, чтобы фильм попал в чарты, он должен набрать больше голосов, чем как минимум 90% фильмов из списка."
      ]
    },
    {
      "cell_type": "code",
      "execution_count": null,
      "id": "4d56a9bf-02bd-4caf-9879-7142e639b4ba",
      "metadata": {
        "id": "4d56a9bf-02bd-4caf-9879-7142e639b4ba",
        "outputId": "2e278c50-1287-46d1-a997-a7fccb84645c"
      },
      "outputs": [
        {
          "data": {
            "text/plain": [
              "1838.4000000000015"
            ]
          },
          "execution_count": 9,
          "metadata": {},
          "output_type": "execute_result"
        }
      ],
      "source": [
        "vote_count= movies['vote_count'].quantile(0.9)\n",
        "vote_count"
      ]
    },
    {
      "cell_type": "markdown",
      "id": "3f69023a-c3c0-469d-a592-07cbe3617a52",
      "metadata": {
        "id": "3f69023a-c3c0-469d-a592-07cbe3617a52"
      },
      "source": [
        "Теперь можно отфильтровать фильмы, которые попадают в этот чарт"
      ]
    },
    {
      "cell_type": "code",
      "execution_count": null,
      "id": "8c0b1e43-4b21-4c42-b2ce-7d353ce47789",
      "metadata": {
        "id": "8c0b1e43-4b21-4c42-b2ce-7d353ce47789",
        "outputId": "32eee049-6830-4cc0-b9c4-9a18703250e9"
      },
      "outputs": [
        {
          "data": {
            "text/plain": [
              "(481, 23)"
            ]
          },
          "execution_count": 10,
          "metadata": {},
          "output_type": "execute_result"
        }
      ],
      "source": [
        "q_movies = movies.copy().loc[movies['vote_count'] >= vote_count]\n",
        "q_movies.shape"
      ]
    },
    {
      "cell_type": "markdown",
      "id": "c67d8935-4c91-4e11-8ee5-1a1c41ea2dba",
      "metadata": {
        "id": "c67d8935-4c91-4e11-8ee5-1a1c41ea2dba"
      },
      "source": [
        "Мы видим, что в этом списке 481 фильм, которые могут быть включены в этот список. Теперь нам нужно рассчитать наш показатель для каждого подходящего фильма. Чтобы сделать это, мы определим функцию rating() и определим новую оценку полнометражных фильмов, значение которой мы вычислим, применив эту функцию к нашему кадру данных о квалифицированных фильмах."
      ]
    },
    {
      "cell_type": "code",
      "execution_count": null,
      "id": "3d35bfa2-02c3-40d1-a4d8-ae89c35bbabb",
      "metadata": {
        "id": "3d35bfa2-02c3-40d1-a4d8-ae89c35bbabb"
      },
      "outputs": [],
      "source": [
        "def ratings(x, m=vote_count, C=vote_average):\n",
        "    v = x['vote_count']\n",
        "    R = x['vote_average']\n",
        "    # Расчет по формуле IMDB\n",
        "    return (v/(v+m) * R) + (m/(m+v) * C)"
      ]
    },
    {
      "cell_type": "code",
      "execution_count": null,
      "id": "d431d743-8429-4efd-bd24-233cde5d5d31",
      "metadata": {
        "id": "d431d743-8429-4efd-bd24-233cde5d5d31"
      },
      "outputs": [],
      "source": [
        "q_movies['score'] = q_movies.apply(ratings, axis=1)"
      ]
    },
    {
      "cell_type": "code",
      "execution_count": null,
      "id": "65978053-bfcf-4c0b-8da8-27e6dcfe4f5e",
      "metadata": {
        "id": "65978053-bfcf-4c0b-8da8-27e6dcfe4f5e",
        "outputId": "577227d9-d0a2-4dd7-9898-10cc4d7aa403"
      },
      "outputs": [
        {
          "data": {
            "text/html": [
              "<div>\n",
              "<style scoped>\n",
              "    .dataframe tbody tr th:only-of-type {\n",
              "        vertical-align: middle;\n",
              "    }\n",
              "\n",
              "    .dataframe tbody tr th {\n",
              "        vertical-align: top;\n",
              "    }\n",
              "\n",
              "    .dataframe thead th {\n",
              "        text-align: right;\n",
              "    }\n",
              "</style>\n",
              "<table border=\"1\" class=\"dataframe\">\n",
              "  <thead>\n",
              "    <tr style=\"text-align: right;\">\n",
              "      <th></th>\n",
              "      <th>title</th>\n",
              "      <th>vote_count</th>\n",
              "      <th>vote_average</th>\n",
              "      <th>score</th>\n",
              "    </tr>\n",
              "  </thead>\n",
              "  <tbody>\n",
              "    <tr>\n",
              "      <th>1881</th>\n",
              "      <td>The Shawshank Redemption</td>\n",
              "      <td>8205</td>\n",
              "      <td>8.5</td>\n",
              "      <td>8.059258</td>\n",
              "    </tr>\n",
              "    <tr>\n",
              "      <th>662</th>\n",
              "      <td>Fight Club</td>\n",
              "      <td>9413</td>\n",
              "      <td>8.3</td>\n",
              "      <td>7.939256</td>\n",
              "    </tr>\n",
              "    <tr>\n",
              "      <th>65</th>\n",
              "      <td>The Dark Knight</td>\n",
              "      <td>12002</td>\n",
              "      <td>8.2</td>\n",
              "      <td>7.920020</td>\n",
              "    </tr>\n",
              "    <tr>\n",
              "      <th>3232</th>\n",
              "      <td>Pulp Fiction</td>\n",
              "      <td>8428</td>\n",
              "      <td>8.3</td>\n",
              "      <td>7.904645</td>\n",
              "    </tr>\n",
              "    <tr>\n",
              "      <th>96</th>\n",
              "      <td>Inception</td>\n",
              "      <td>13752</td>\n",
              "      <td>8.1</td>\n",
              "      <td>7.863239</td>\n",
              "    </tr>\n",
              "    <tr>\n",
              "      <th>3337</th>\n",
              "      <td>The Godfather</td>\n",
              "      <td>5893</td>\n",
              "      <td>8.4</td>\n",
              "      <td>7.851236</td>\n",
              "    </tr>\n",
              "    <tr>\n",
              "      <th>95</th>\n",
              "      <td>Interstellar</td>\n",
              "      <td>10867</td>\n",
              "      <td>8.1</td>\n",
              "      <td>7.809479</td>\n",
              "    </tr>\n",
              "    <tr>\n",
              "      <th>809</th>\n",
              "      <td>Forrest Gump</td>\n",
              "      <td>7927</td>\n",
              "      <td>8.2</td>\n",
              "      <td>7.803188</td>\n",
              "    </tr>\n",
              "    <tr>\n",
              "      <th>329</th>\n",
              "      <td>The Lord of the Rings: The Return of the King</td>\n",
              "      <td>8064</td>\n",
              "      <td>8.1</td>\n",
              "      <td>7.727243</td>\n",
              "    </tr>\n",
              "    <tr>\n",
              "      <th>1990</th>\n",
              "      <td>The Empire Strikes Back</td>\n",
              "      <td>5879</td>\n",
              "      <td>8.2</td>\n",
              "      <td>7.697884</td>\n",
              "    </tr>\n",
              "  </tbody>\n",
              "</table>\n",
              "</div>"
            ],
            "text/plain": [
              "                                              title  vote_count  vote_average  \\\n",
              "1881                       The Shawshank Redemption        8205           8.5   \n",
              "662                                      Fight Club        9413           8.3   \n",
              "65                                  The Dark Knight       12002           8.2   \n",
              "3232                                   Pulp Fiction        8428           8.3   \n",
              "96                                        Inception       13752           8.1   \n",
              "3337                                  The Godfather        5893           8.4   \n",
              "95                                     Interstellar       10867           8.1   \n",
              "809                                    Forrest Gump        7927           8.2   \n",
              "329   The Lord of the Rings: The Return of the King        8064           8.1   \n",
              "1990                        The Empire Strikes Back        5879           8.2   \n",
              "\n",
              "         score  \n",
              "1881  8.059258  \n",
              "662   7.939256  \n",
              "65    7.920020  \n",
              "3232  7.904645  \n",
              "96    7.863239  \n",
              "3337  7.851236  \n",
              "95    7.809479  \n",
              "809   7.803188  \n",
              "329   7.727243  \n",
              "1990  7.697884  "
            ]
          },
          "execution_count": 13,
          "metadata": {},
          "output_type": "execute_result"
        }
      ],
      "source": [
        "#Сортировка фильмов на основе оценки, рассчитанной выше\n",
        "q_movies = q_movies.sort_values('score', ascending=False)\n",
        "q_movies[['title', 'vote_count', 'vote_average', 'score']].head(10)"
      ]
    },
    {
      "cell_type": "markdown",
      "id": "23f2c1f5-729d-46c6-8361-b8637f6884cd",
      "metadata": {
        "id": "23f2c1f5-729d-46c6-8361-b8637f6884cd"
      },
      "source": [
        "Подготовка первой и простой рекомендации, без графа."
      ]
    },
    {
      "cell_type": "code",
      "execution_count": null,
      "id": "d8056a4e-98b5-435e-8b8f-f9d181d3aede",
      "metadata": {
        "id": "d8056a4e-98b5-435e-8b8f-f9d181d3aede",
        "outputId": "8c8fe467-f457-40dd-fbbe-8b438cbc6bd7"
      },
      "outputs": [
        {
          "data": {
            "text/plain": [
              "Text(0.5, 1.0, 'Популярные фильмы')"
            ]
          },
          "execution_count": 14,
          "metadata": {},
          "output_type": "execute_result"
        },
        {
          "data": {
            "image/png": "[encoded data removed]",
            "text/plain": [
              "<Figure size 1200x400 with 1 Axes>"
            ]
          },
          "metadata": {},
          "output_type": "display_data"
        }
      ],
      "source": [
        "import matplotlib.pyplot as plt\n",
        "\n",
        "popular_plt= movies.sort_values('popularity', ascending=False)\n",
        "plt.figure(figsize=(12,4))\n",
        "\n",
        "plt.barh(popular_plt['title'].head(6),popular_plt['popularity'].head(6), align='center',\n",
        "        color='chartreuse')\n",
        "plt.gca().invert_yaxis()\n",
        "plt.xlabel(\"популярность\")\n",
        "plt.title(\"Популярные фильмы\")"
      ]
    },
    {
      "cell_type": "markdown",
      "id": "a49f28f6-658d-420b-8c02-7caf47c24dda",
      "metadata": {
        "id": "a49f28f6-658d-420b-8c02-7caf47c24dda"
      },
      "source": [
        "## 2. Построение графа знаний."
      ]
    },
    {
      "cell_type": "markdown",
      "id": "445698e4-e142-4c7b-8bad-2bde536beb0f",
      "metadata": {
        "id": "445698e4-e142-4c7b-8bad-2bde536beb0f"
      },
      "source": [
        "На основе исследования данных будет создан граф знаний, который будет представлять отношения между различными сущностями датасете (например, фильмы, актеры, жанры)."
      ]
    },
    {
      "cell_type": "code",
      "execution_count": null,
      "id": "8b127ae3-0e49-47f2-9fdb-de24c6bab5ab",
      "metadata": {
        "id": "8b127ae3-0e49-47f2-9fdb-de24c6bab5ab",
        "outputId": "3d2d31ee-9fd7-42fb-e2ea-c15d00b0953a"
      },
      "outputs": [
        {
          "data": {
            "text/plain": [
              "0    In the 22nd century, a paraplegic Marine is di...\n",
              "1    Captain Barbossa, long believed to be dead, ha...\n",
              "2    A cryptic message from Bond’s past sends him o...\n",
              "3    Following the death of District Attorney Harve...\n",
              "4    John Carter is a war-weary, former military ca...\n",
              "Name: overview, dtype: object"
            ]
          },
          "execution_count": 15,
          "metadata": {},
          "output_type": "execute_result"
        }
      ],
      "source": [
        "movies['overview'].head(5)"
      ]
    },
    {
      "cell_type": "code",
      "execution_count": null,
      "id": "9f86e439-2d67-40cc-b458-79260d55e668",
      "metadata": {
        "id": "9f86e439-2d67-40cc-b458-79260d55e668",
        "outputId": "ada40260-72c9-4731-d4e9-9f2080b514a9"
      },
      "outputs": [
        {
          "data": {
            "image/png": "[encoded data removed]",
            "text/plain": [
              "<Figure size 1200x1200 with 1 Axes>"
            ]
          },
          "metadata": {},
          "output_type": "display_data"
        }
      ],
      "source": [
        "import json\n",
        "import networkx as nx\n",
        "import ast\n",
        "G = nx.Graph()\n",
        "\n",
        "# Добавление узлов и рёбер для жанров\n",
        "for i, row in movies.iterrows():\n",
        "    G.add_node(row['title'], type='Movie', id=row['id'])\n",
        "    genres = json.loads(row['genres'].replace(\"'\", '\"'))\n",
        "    for genre in genres:\n",
        "        genre_name = genre['name']\n",
        "        if not G.has_node(genre_name):\n",
        "            G.add_node(genre_name, type='Genre')\n",
        "        G.add_edge(row['title'], genre_name)\n",
        "\n",
        "# Добавление узлов и рёбер для актёров\n",
        "for i, row in movies.iterrows():\n",
        "    try:\n",
        "        cast = ast.literal_eval(row['cast'])\n",
        "    except ValueError as e:\n",
        "        print(f\"Ошибка при обработке строки для фильма {row['title']}: {e}\")\n",
        "        continue\n",
        "    for actor in cast[:5]:  # Ограничимся первыми 5 актёрами для простоты\n",
        "        actor_name = actor['name']\n",
        "        if not G.has_node(actor_name):\n",
        "            G.add_node(actor_name, type='Actor')\n",
        "        G.add_edge(row['title'], actor_name)\n",
        "plt.figure(figsize=(12,12))\n",
        "pos = nx.circular_layout(G)\n",
        "nx.draw(G, pos, with_labels=True, node_size=10, font_size=6)\n",
        "plt.show()"
      ]
    },
    {
      "cell_type": "code",
      "execution_count": null,
      "id": "2e3712b9-bd46-48b6-8e8b-5c12e3eb245f",
      "metadata": {
        "id": "2e3712b9-bd46-48b6-8e8b-5c12e3eb245f",
        "outputId": "576d6853-6ae9-40e3-8215-56f091076595"
      },
      "outputs": [
        {
          "name": "stdout",
          "output_type": "stream",
          "text": [
            "Узел: Avatar, Атрибуты: {'type': 'Movie', 'id': 19995}\n",
            "Узел: Action, Атрибуты: {'type': 'Genre'}\n",
            "Узел: Adventure, Атрибуты: {'type': 'Genre'}\n",
            "Узел: Fantasy, Атрибуты: {'type': 'Genre'}\n",
            "Узел: Science Fiction, Атрибуты: {'type': 'Genre'}\n"
          ]
        }
      ],
      "source": [
        "for node, attrs in list(G.nodes(data=True))[:5]:\n",
        "    print(f\"Узел: {node}, Атрибуты: {attrs}\")"
      ]
    },
    {
      "cell_type": "code",
      "execution_count": null,
      "id": "5416b65a-5c83-4794-825c-93412bb01a51",
      "metadata": {
        "id": "5416b65a-5c83-4794-825c-93412bb01a51",
        "outputId": "69f7f359-b0f8-4e5c-e562-9de92c48f629"
      },
      "outputs": [
        {
          "name": "stdout",
          "output_type": "stream",
          "text": [
            "Количество узлов в графе: 14207\n",
            "Количество связей в графе: 35747\n"
          ]
        }
      ],
      "source": [
        "print(\"Количество узлов в графе:\", G.number_of_nodes())\n",
        "print(\"Количество связей в графе:\", G.number_of_edges())"
      ]
    },
    {
      "cell_type": "markdown",
      "id": "5a6cd9e4-bd77-4372-944c-85e0a14d2410",
      "metadata": {
        "id": "5a6cd9e4-bd77-4372-944c-85e0a14d2410"
      },
      "source": [
        "## 3. Векторное представление графа"
      ]
    },
    {
      "cell_type": "markdown",
      "id": "0a30b219-395b-4775-9f50-139e4a83e2f4",
      "metadata": {
        "id": "0a30b219-395b-4775-9f50-139e4a83e2f4"
      },
      "source": [
        " Используя алгоритмы векторизации графов, преобразуем граф знаний в векторное представление, которое можно будет использовать для обучения рекомендательной модели."
      ]
    },
    {
      "cell_type": "code",
      "execution_count": null,
      "id": "d33e787d-be0b-489a-a264-de7716ba4e28",
      "metadata": {
        "id": "d33e787d-be0b-489a-a264-de7716ba4e28",
        "outputId": "3dccf50b-cf16-443c-93fc-a256968962e5"
      },
      "outputs": [
        {
          "data": {
            "text/plain": [
              "(4803, 20978)"
            ]
          },
          "execution_count": 19,
          "metadata": {},
          "output_type": "execute_result"
        }
      ],
      "source": [
        "from sklearn.feature_extraction.text import TfidfVectorizer\n",
        "\n",
        "#Удалит все английские стоп-слова, такие как \"the\", \"a\"\n",
        "tfidf = TfidfVectorizer(stop_words='english')\n",
        "\n",
        "#удаление пустых значений\n",
        "movies['overview'] = movies['overview'].fillna('')\n",
        "\n",
        "#Построение матрицы TF-IDF путем подгонки и преобразования данных\n",
        "tfidf_matrix = tfidf.fit_transform(movies['overview'])\n",
        "tfidf_matrix.shape"
      ]
    },
    {
      "cell_type": "markdown",
      "id": "2bdce079-f3f8-416a-8445-e4466f7abaa2",
      "metadata": {
        "id": "2bdce079-f3f8-416a-8445-e4466f7abaa2"
      },
      "source": [
        "Мы видим, что для описания 4800 фильмов в нашем наборе данных было использовано более 20 000 различных слов.\n",
        "Теперь, имея в руках эту матрицу, мы можем рассчитать степень сходства. Для этого есть несколько вариантов, таких как евклидова оценка подобия, оценка Пирсона и оценка косинусоидального сходства.\n",
        "Мы будем использовать косинусоидальное сходство для вычисления числовой величины, которая обозначает сходство между двумя фильмами. Мы используем показатель косинусоидального сходства, поскольку он не зависит от величины и его относительно легко и быстро вычислить. Математически он определяется как полный\n",
        "ows:"
      ]
    },
    {
      "cell_type": "code",
      "execution_count": null,
      "id": "60c5800d-a173-4555-85fb-ac85e4a9a2d7",
      "metadata": {
        "id": "60c5800d-a173-4555-85fb-ac85e4a9a2d7"
      },
      "outputs": [],
      "source": [
        "from sklearn.metrics.pairwise import linear_kernel\n",
        "# Матрица косинусоидального подобия\n",
        "cosine_sim = linear_kernel(tfidf_matrix, tfidf_matrix)"
      ]
    },
    {
      "cell_type": "markdown",
      "id": "1fe623b4-2847-41fb-a892-1c4df9fe959c",
      "metadata": {
        "id": "1fe623b4-2847-41fb-a892-1c4df9fe959c"
      },
      "source": [
        "Определяем функцию, которая принимает название фильма в качестве входных данных и выдает список из 10 наиболее похожих фильмов. Во-первых, для этого нам нужно обратное сопоставление названий фильмов и индексов фреймов данных. Другими словами, нам нужен механизм для определения индекса фильма в нашем фрейме данных метаданных, учитывая его название."
      ]
    },
    {
      "cell_type": "code",
      "execution_count": null,
      "id": "6f49e578-e533-4f8b-927c-4b5b235be04d",
      "metadata": {
        "id": "6f49e578-e533-4f8b-927c-4b5b235be04d"
      },
      "outputs": [],
      "source": [
        "# Обратная карта индексов для фильмов, удаление дубликатов\n",
        "indices = pd.Series(movies.index, index=movies['title']).drop_duplicates()"
      ]
    },
    {
      "cell_type": "code",
      "execution_count": null,
      "id": "71c91c45-7871-4fab-8271-7405cd02fd78",
      "metadata": {
        "colab": {
          "referenced_widgets": [
            "cb1819632c84425989d29fc7c865ddc9"
          ]
        },
        "id": "71c91c45-7871-4fab-8271-7405cd02fd78",
        "outputId": "46f4e837-a0de-4720-acb6-164230f85e16"
      },
      "outputs": [
        {
          "data": {
            "application/vnd.jupyter.widget-view+json": {
              "model_id": "cb1819632c84425989d29fc7c865ddc9",
              "version_major": 2,
              "version_minor": 0
            },
            "text/plain": [
              "Computing transition probabilities:   0%|          | 0/14207 [00:00<?, ?it/s]"
            ]
          },
          "metadata": {},
          "output_type": "display_data"
        }
      ],
      "source": [
        "import networkx as nx\n",
        "from node2vec import Node2Vec\n",
        "\n",
        "# Генерация эмбеддингов узлов с использованием Node2Vec\n",
        "node2vec = Node2Vec(G, dimensions=100, walk_length=16, num_walks=100, workers=2)\n",
        "model = node2vec.fit(window=10, min_count=1, batch_words=4)\n",
        "# Получение вектора для фильма (или любого узла) из графа\n",
        "vector = model.wv['Avatar']"
      ]
    },
    {
      "cell_type": "code",
      "execution_count": null,
      "id": "419da233-4cc6-456b-af4c-e37967d4177a",
      "metadata": {
        "id": "419da233-4cc6-456b-af4c-e37967d4177a"
      },
      "outputs": [],
      "source": [
        "# Сбор списка названий фильмов из графа\n",
        "list_of_films = [node for node, attrs in G.nodes(data=True) if attrs.get('type') == 'Movie']\n",
        "list_of_films = list(G.nodes())"
      ]
    },
    {
      "cell_type": "code",
      "execution_count": null,
      "id": "8cb3f220-a0cd-4f80-9341-c0d1ddd2bf77",
      "metadata": {
        "id": "8cb3f220-a0cd-4f80-9341-c0d1ddd2bf77"
      },
      "outputs": [],
      "source": [
        "# Расчёт сходства между фильмами на основе эмбеддингов\n",
        "from sklearn.metrics.pairwise import cosine_similarity\n",
        "film_vectors = np.array([model.wv[film] for film in list_of_films])\n",
        "# Расчёт матрицы косинусного сходства\n",
        "cosine_sim_graph = cosine_similarity(film_vectors, film_vectors)"
      ]
    },
    {
      "cell_type": "code",
      "execution_count": null,
      "id": "67920a1a-62ee-491c-aafc-377c5433cf35",
      "metadata": {
        "id": "67920a1a-62ee-491c-aafc-377c5433cf35",
        "outputId": "da02dc6b-17d4-46c5-e3e2-a4d30870fd23"
      },
      "outputs": [
        {
          "data": {
            "text/plain": [
              "array([[0.99999994, 0.41464093, 0.42080167, ..., 0.12423368, 0.09163986,\n",
              "        0.131619  ],\n",
              "       [0.41464093, 1.        , 0.45588577, ..., 0.3437158 , 0.36457205,\n",
              "        0.197166  ],\n",
              "       [0.42080167, 0.45588577, 1.        , ..., 0.19455476, 0.25428957,\n",
              "        0.24061619],\n",
              "       ...,\n",
              "       [0.12423368, 0.3437158 , 0.19455476, ..., 1.0000001 , 0.92758596,\n",
              "        0.13010949],\n",
              "       [0.09163986, 0.36457205, 0.25428957, ..., 0.92758596, 1.        ,\n",
              "        0.14956295],\n",
              "       [0.131619  , 0.197166  , 0.24061619, ..., 0.13010949, 0.14956295,\n",
              "        0.9999999 ]], dtype=float32)"
            ]
          },
          "execution_count": 33,
          "metadata": {},
          "output_type": "execute_result"
        }
      ],
      "source": [
        "cosine_sim_graph"
      ]
    },
    {
      "cell_type": "markdown",
      "id": "a16df914-2f98-47ad-899b-32946972a92e",
      "metadata": {
        "id": "a16df914-2f98-47ad-899b-32946972a92e"
      },
      "source": [
        "Все необходимые подготовки к построению рекомендательной системы завершены, теперь получим индекс фильма с учетом его названия, получим список показателей косинусного сходства для этого конкретного фильма со всеми фильмами. преобразуем его в список кортежей, где первый элемент - это позиция, а второй - показатель сходства, отсортируем вышеупомянутый список кортежей на основе показателей сходства, то есть второго элемента.\n",
        "Но для использования векторного представления графа будем использовать несколько иной подход, сопоставляя связи графа с индексами фильмов для рекомендацией. Составим два подхода - без учета графа и с ним для сравнения."
      ]
    },
    {
      "cell_type": "markdown",
      "id": "4e1945e1-32a4-4b7f-bf2d-1569d560cffa",
      "metadata": {
        "id": "4e1945e1-32a4-4b7f-bf2d-1569d560cffa"
      },
      "source": [
        "## 4. Разработка рекомендательной модели"
      ]
    },
    {
      "cell_type": "markdown",
      "id": "926d7c96-33d8-4952-9405-b680bbfcc660",
      "metadata": {
        "id": "926d7c96-33d8-4952-9405-b680bbfcc660"
      },
      "source": [
        "На основе векторных представлений мы разработаем и обучим рекомендательную модель, которая будет предсказывать потенциальный интерес пользователя к фильмам."
      ]
    },
    {
      "cell_type": "markdown",
      "id": "439ce6a7-ab4a-4d79-a267-6f8ef16147ad",
      "metadata": {
        "id": "439ce6a7-ab4a-4d79-a267-6f8ef16147ad"
      },
      "source": [
        "**Content Based Filtering** -  это рекомендация на основе содержимого, которое пытается предсказать, понравится ли пользователю некоторый продукт, используя его онлайновую историю."
      ]
    },
    {
      "cell_type": "code",
      "execution_count": null,
      "id": "948cc028-4ded-467a-8a62-b6a6a9c335d7",
      "metadata": {
        "id": "948cc028-4ded-467a-8a62-b6a6a9c335d7",
        "outputId": "e91b7875-348f-42c2-e6b2-cadd7c10ebf0"
      },
      "outputs": [
        {
          "data": {
            "text/plain": [
              "0                                         Avatar\n",
              "1       Pirates of the Caribbean: At World's End\n",
              "2                                        Spectre\n",
              "3                          The Dark Knight Rises\n",
              "4                                    John Carter\n",
              "                          ...                   \n",
              "4798                                 El Mariachi\n",
              "4799                                   Newlyweds\n",
              "4800                   Signed, Sealed, Delivered\n",
              "4801                            Shanghai Calling\n",
              "4802                           My Date with Drew\n",
              "Name: title, Length: 4803, dtype: object"
            ]
          },
          "execution_count": 31,
          "metadata": {},
          "output_type": "execute_result"
        }
      ],
      "source": [
        "movies['title']"
      ]
    },
    {
      "cell_type": "code",
      "execution_count": null,
      "id": "dffdad29-1dfa-43c5-80f2-2863e3a33223",
      "metadata": {
        "id": "dffdad29-1dfa-43c5-80f2-2863e3a33223",
        "outputId": "64e722bc-c21f-4da2-b5e7-85cef8e5ed06"
      },
      "outputs": [
        {
          "data": {
            "text/plain": [
              "{'Avatar': 0,\n",
              " \"Pirates of the Caribbean: At World's End\": 1,\n",
              " 'Spectre': 2,\n",
              " 'The Dark Knight Rises': 3,\n",
              " 'John Carter': 4,\n",
              " 'Spider-Man 3': 5,\n",
              " 'Tangled': 6,\n",
              " 'Avengers: Age of Ultron': 7,\n",
              " 'Harry Potter and the Half-Blood Prince': 8,\n",
              " 'Batman v Superman: Dawn of Justice': 9,\n",
              " 'Superman Returns': 10,\n",
              " 'Quantum of Solace': 11,\n",
              " \"Pirates of the Caribbean: Dead Man's Chest\": 12,\n",
              " 'The Lone Ranger': 13,\n",
              " 'Man of Steel': 14,\n",
              " 'The Chronicles of Narnia: Prince Caspian': 15,\n",
              " 'The Avengers': 16,\n",
              " 'Pirates of the Caribbean: On Stranger Tides': 17,\n",
              " 'Men in Black 3': 18,\n",
              " 'The Hobbit: The Battle of the Five Armies': 19,\n",
              " 'The Amazing Spider-Man': 20,\n",
              " 'Robin Hood': 21,\n",
              " 'The Hobbit: The Desolation of Smaug': 22,\n",
              " 'The Golden Compass': 23,\n",
              " 'King Kong': 24,\n",
              " 'Titanic': 25,\n",
              " 'Captain America: Civil War': 26,\n",
              " 'Battleship': 27,\n",
              " 'Jurassic World': 28,\n",
              " 'Skyfall': 29,\n",
              " 'Spider-Man 2': 30,\n",
              " 'Iron Man 3': 31,\n",
              " 'Alice in Wonderland': 32,\n",
              " 'X-Men: The Last Stand': 33,\n",
              " 'Monsters University': 34,\n",
              " 'Transformers: Revenge of the Fallen': 35,\n",
              " 'Transformers: Age of Extinction': 36,\n",
              " 'Oz: The Great and Powerful': 37,\n",
              " 'The Amazing Spider-Man 2': 38,\n",
              " 'TRON: Legacy': 39,\n",
              " 'Cars 2': 40,\n",
              " 'Green Lantern': 41,\n",
              " 'Toy Story 3': 42,\n",
              " 'Terminator Salvation': 43,\n",
              " 'Furious 7': 44,\n",
              " 'World War Z': 45,\n",
              " 'X-Men: Days of Future Past': 46,\n",
              " 'Star Trek Into Darkness': 47,\n",
              " 'Jack the Giant Slayer': 48,\n",
              " 'The Great Gatsby': 49,\n",
              " 'Prince of Persia: The Sands of Time': 50,\n",
              " 'Pacific Rim': 51,\n",
              " 'Transformers: Dark of the Moon': 52,\n",
              " 'Indiana Jones and the Kingdom of the Crystal Skull': 53,\n",
              " 'The Good Dinosaur': 54,\n",
              " 'Brave': 55,\n",
              " 'Star Trek Beyond': 56,\n",
              " 'WALL·E': 57,\n",
              " 'Rush Hour 3': 58,\n",
              " '2012': 59,\n",
              " 'A Christmas Carol': 60,\n",
              " 'Jupiter Ascending': 61,\n",
              " 'The Legend of Tarzan': 62,\n",
              " 'The Chronicles of Narnia: The Lion, the Witch and the Wardrobe': 63,\n",
              " 'X-Men: Apocalypse': 64,\n",
              " 'The Dark Knight': 65,\n",
              " 'Up': 66,\n",
              " 'Monsters vs Aliens': 67,\n",
              " 'Iron Man': 68,\n",
              " 'Hugo': 69,\n",
              " 'Wild Wild West': 70,\n",
              " 'The Mummy: Tomb of the Dragon Emperor': 71,\n",
              " 'Suicide Squad': 72,\n",
              " 'Evan Almighty': 73,\n",
              " 'Edge of Tomorrow': 74,\n",
              " 'Waterworld': 75,\n",
              " 'G.I. Joe: The Rise of Cobra': 76,\n",
              " 'Inside Out': 77,\n",
              " 'The Jungle Book': 78,\n",
              " 'Iron Man 2': 79,\n",
              " 'Snow White and the Huntsman': 80,\n",
              " 'Maleficent': 81,\n",
              " 'Dawn of the Planet of the Apes': 82,\n",
              " 'The Lovers': 83,\n",
              " '47 Ronin': 84,\n",
              " 'Captain America: The Winter Soldier': 85,\n",
              " 'Shrek Forever After': 86,\n",
              " 'Tomorrowland': 87,\n",
              " 'Big Hero 6': 88,\n",
              " 'Wreck-It Ralph': 89,\n",
              " 'The Polar Express': 90,\n",
              " 'Independence Day: Resurgence': 91,\n",
              " 'How to Train Your Dragon': 92,\n",
              " 'Terminator 3: Rise of the Machines': 93,\n",
              " 'Guardians of the Galaxy': 94,\n",
              " 'Interstellar': 95,\n",
              " 'Inception': 96,\n",
              " 'Shin Godzilla': 97,\n",
              " 'The Hobbit: An Unexpected Journey': 98,\n",
              " 'The Fast and the Furious': 99,\n",
              " 'The Curious Case of Benjamin Button': 100,\n",
              " 'X-Men: First Class': 101,\n",
              " 'The Hunger Games: Mockingjay - Part 2': 102,\n",
              " \"The Sorcerer's Apprentice\": 103,\n",
              " 'Poseidon': 104,\n",
              " 'Alice Through the Looking Glass': 105,\n",
              " 'Shrek the Third': 106,\n",
              " 'Warcraft': 107,\n",
              " 'Terminator Genisys': 108,\n",
              " 'The Chronicles of Narnia: The Voyage of the Dawn Treader': 109,\n",
              " 'Pearl Harbor': 110,\n",
              " 'Transformers': 111,\n",
              " 'Alexander': 112,\n",
              " 'Harry Potter and the Order of the Phoenix': 113,\n",
              " 'Harry Potter and the Goblet of Fire': 114,\n",
              " 'Hancock': 115,\n",
              " 'I Am Legend': 116,\n",
              " 'Charlie and the Chocolate Factory': 117,\n",
              " 'Ratatouille': 118,\n",
              " 'Batman Begins': 119,\n",
              " 'Madagascar: Escape 2 Africa': 120,\n",
              " 'Night at the Museum: Battle of the Smithsonian': 121,\n",
              " 'X-Men Origins: Wolverine': 122,\n",
              " 'The Matrix Revolutions': 123,\n",
              " 'Frozen': 124,\n",
              " 'The Matrix Reloaded': 125,\n",
              " 'Thor: The Dark World': 126,\n",
              " 'Mad Max: Fury Road': 127,\n",
              " 'Angels & Demons': 128,\n",
              " 'Thor': 129,\n",
              " 'Bolt': 130,\n",
              " 'G-Force': 131,\n",
              " 'Wrath of the Titans': 132,\n",
              " 'Dark Shadows': 133,\n",
              " 'Mission: Impossible - Rogue Nation': 134,\n",
              " 'The Wolfman': 135,\n",
              " 'Bee Movie': 136,\n",
              " 'Kung Fu Panda 2': 137,\n",
              " 'The Last Airbender': 138,\n",
              " 'Mission: Impossible III': 139,\n",
              " 'White House Down': 140,\n",
              " 'Mars Needs Moms': 141,\n",
              " 'Flushed Away': 142,\n",
              " 'Pan': 143,\n",
              " 'Mr. Peabody & Sherman': 144,\n",
              " 'Troy': 145,\n",
              " \"Madagascar 3: Europe's Most Wanted\": 146,\n",
              " 'Die Another Day': 147,\n",
              " 'Ghostbusters': 148,\n",
              " 'Armageddon': 149,\n",
              " 'Men in Black II': 150,\n",
              " 'Beowulf': 151,\n",
              " 'Kung Fu Panda 3': 152,\n",
              " 'Mission: Impossible - Ghost Protocol': 153,\n",
              " 'Rise of the Guardians': 154,\n",
              " 'Fun with Dick and Jane': 155,\n",
              " 'The Last Samurai': 156,\n",
              " 'Exodus: Gods and Kings': 157,\n",
              " 'Star Trek': 158,\n",
              " 'Spider-Man': 159,\n",
              " 'How to Train Your Dragon 2': 160,\n",
              " 'Gods of Egypt': 161,\n",
              " 'Stealth': 162,\n",
              " 'Watchmen': 163,\n",
              " 'Lethal Weapon 4': 164,\n",
              " 'Hulk': 165,\n",
              " 'G.I. Joe: Retaliation': 166,\n",
              " 'Sahara': 167,\n",
              " 'Final Fantasy: The Spirits Within': 168,\n",
              " 'Captain America: The First Avenger': 169,\n",
              " 'The World Is Not Enough': 170,\n",
              " 'Master and Commander: The Far Side of the World': 171,\n",
              " 'The Twilight Saga: Breaking Dawn - Part 2': 172,\n",
              " 'Happy Feet Two': 173,\n",
              " 'The Incredible Hulk': 174,\n",
              " 'The BFG': 175,\n",
              " 'The Revenant': 176,\n",
              " 'Turbo': 177,\n",
              " 'Rango': 178,\n",
              " 'Penguins of Madagascar': 179,\n",
              " 'The Bourne Ultimatum': 180,\n",
              " 'Kung Fu Panda': 181,\n",
              " 'Ant-Man': 182,\n",
              " 'The Hunger Games: Catching Fire': 183,\n",
              " 'Home': 184,\n",
              " 'War of the Worlds': 185,\n",
              " 'Bad Boys II': 186,\n",
              " 'Puss in Boots': 187,\n",
              " 'Salt': 188,\n",
              " 'Noah': 189,\n",
              " 'The Adventures of Tintin': 190,\n",
              " 'Harry Potter and the Prisoner of Azkaban': 191,\n",
              " 'Australia': 192,\n",
              " 'After Earth': 193,\n",
              " 'Dinosaur': 194,\n",
              " 'Night at the Museum: Secret of the Tomb': 195,\n",
              " 'Megamind': 196,\n",
              " \"Harry Potter and the Philosopher's Stone\": 197,\n",
              " 'R.I.P.D.': 198,\n",
              " 'Pirates of the Caribbean: The Curse of the Black Pearl': 199,\n",
              " 'The Hunger Games: Mockingjay - Part 1': 200,\n",
              " 'The Da Vinci Code': 201,\n",
              " 'Rio 2': 202,\n",
              " 'X2': 203,\n",
              " 'Fast Five': 204,\n",
              " 'Sherlock Holmes: A Game of Shadows': 205,\n",
              " 'Clash of the Titans': 206,\n",
              " 'Total Recall': 207,\n",
              " 'The 13th Warrior': 208,\n",
              " 'The Bourne Legacy': 209,\n",
              " 'Batman & Robin': 210,\n",
              " 'How the Grinch Stole Christmas': 211,\n",
              " 'The Day After Tomorrow': 212,\n",
              " 'Mission: Impossible II': 213,\n",
              " 'The Perfect Storm': 214,\n",
              " 'Fantastic 4: Rise of the Silver Surfer': 215,\n",
              " 'Life of Pi': 216,\n",
              " 'Ghost Rider': 217,\n",
              " 'Jason Bourne': 218,\n",
              " \"Charlie's Angels: Full Throttle\": 219,\n",
              " 'Prometheus': 220,\n",
              " 'Stuart Little 2': 221,\n",
              " 'Elysium': 222,\n",
              " 'The Chronicles of Riddick': 223,\n",
              " 'RoboCop': 224,\n",
              " 'Speed Racer': 225,\n",
              " 'How Do You Know': 226,\n",
              " 'Knight and Day': 227,\n",
              " 'Oblivion': 228,\n",
              " 'Star Wars: Episode III - Revenge of the Sith': 229,\n",
              " 'Star Wars: Episode II - Attack of the Clones': 230,\n",
              " 'Monsters, Inc.': 231,\n",
              " 'The Wolverine': 232,\n",
              " 'Star Wars: Episode I - The Phantom Menace': 233,\n",
              " 'The Croods': 234,\n",
              " 'Asterix at the Olympic Games': 235,\n",
              " 'Windtalkers': 236,\n",
              " \"The Huntsman: Winter's War\": 237,\n",
              " 'Teenage Mutant Ninja Turtles': 238,\n",
              " 'Gravity': 239,\n",
              " \"Dante's Peak\": 240,\n",
              " 'Teenage Mutant Ninja Turtles: Out of the Shadows': 241,\n",
              " 'Fantastic Four': 242,\n",
              " 'Night at the Museum': 243,\n",
              " 'San Andreas': 244,\n",
              " 'Tomorrow Never Dies': 245,\n",
              " 'The Patriot': 246,\n",
              " \"Ocean's Twelve\": 247,\n",
              " 'Mr. & Mrs. Smith': 248,\n",
              " 'Insurgent': 249,\n",
              " 'The Aviator': 250,\n",
              " \"Gulliver's Travels\": 251,\n",
              " 'The Green Hornet': 252,\n",
              " '300: Rise of an Empire': 253,\n",
              " 'The Smurfs': 254,\n",
              " 'Home on the Range': 255,\n",
              " 'Allegiant': 256,\n",
              " 'Real Steel': 257,\n",
              " 'The Smurfs 2': 258,\n",
              " 'Speed 2: Cruise Control': 259,\n",
              " \"Ender's Game\": 260,\n",
              " 'Live Free or Die Hard': 261,\n",
              " 'The Lord of the Rings: The Fellowship of the Ring': 262,\n",
              " 'Around the World in 80 Days': 263,\n",
              " 'Ali': 264,\n",
              " 'The Cat in the Hat': 265,\n",
              " 'I, Robot': 266,\n",
              " 'Kingdom of Heaven': 267,\n",
              " 'Stuart Little': 268,\n",
              " 'The Princess and the Frog': 269,\n",
              " 'The Martian': 270,\n",
              " 'The Island': 271,\n",
              " 'Town & Country': 272,\n",
              " 'Gone in Sixty Seconds': 273,\n",
              " 'Gladiator': 274,\n",
              " 'Minority Report': 275,\n",
              " 'Harry Potter and the Chamber of Secrets': 276,\n",
              " 'Casino Royale': 277,\n",
              " 'Planet of the Apes': 278,\n",
              " 'Terminator 2: Judgment Day': 279,\n",
              " 'Public Enemies': 280,\n",
              " 'American Gangster': 281,\n",
              " 'True Lies': 282,\n",
              " 'The Taking of Pelham 1 2 3': 283,\n",
              " 'Little Fockers': 284,\n",
              " 'The Other Guys': 285,\n",
              " 'Eraser': 286,\n",
              " 'Django Unchained': 287,\n",
              " 'The Hunchback of Notre Dame': 288,\n",
              " \"The Emperor's New Groove\": 289,\n",
              " 'The Expendables 2': 290,\n",
              " 'National Treasure': 291,\n",
              " 'Eragon': 292,\n",
              " 'Where the Wild Things Are': 293,\n",
              " 'Epic': 294,\n",
              " 'The Tourist': 295,\n",
              " 'End of Days': 296,\n",
              " 'Blood Diamond': 297,\n",
              " 'The Wolf of Wall Street': 298,\n",
              " 'Batman Forever': 299,\n",
              " 'Starship Troopers': 300,\n",
              " 'Cloud Atlas': 301,\n",
              " \"Legend of the Guardians: The Owls of Ga'Hoole\": 302,\n",
              " 'Catwoman': 303,\n",
              " 'Hercules': 304,\n",
              " 'Treasure Planet': 305,\n",
              " 'Land of the Lost': 306,\n",
              " 'The Expendables 3': 307,\n",
              " 'Point Break': 308,\n",
              " 'Son of the Mask': 309,\n",
              " 'In the Heart of the Sea': 310,\n",
              " 'The Adventures of Pluto Nash': 311,\n",
              " 'Green Zone': 312,\n",
              " 'The Peanuts Movie': 313,\n",
              " 'The Spanish Prisoner': 314,\n",
              " 'The Mummy Returns': 315,\n",
              " 'Gangs of New York': 316,\n",
              " 'The Flowers of War': 317,\n",
              " \"Surf's Up\": 318,\n",
              " 'The Stepford Wives': 319,\n",
              " 'Black Hawk Down': 320,\n",
              " 'The Campaign': 321,\n",
              " 'The Fifth Element': 322,\n",
              " 'Sex and the City 2': 323,\n",
              " 'The Road to El Dorado': 324,\n",
              " 'Ice Age: Continental Drift': 325,\n",
              " 'Cinderella': 326,\n",
              " 'The Lovely Bones': 327,\n",
              " 'Finding Nemo': 328,\n",
              " 'The Lord of the Rings: The Return of the King': 329,\n",
              " 'The Lord of the Rings: The Two Towers': 330,\n",
              " 'Seventh Son': 331,\n",
              " 'Lara Croft: Tomb Raider': 332,\n",
              " 'Transcendence': 333,\n",
              " 'Jurassic Park III': 334,\n",
              " 'Rise of the Planet of the Apes': 335,\n",
              " 'The Spiderwick Chronicles': 336,\n",
              " 'A Good Day to Die Hard': 337,\n",
              " 'The Alamo': 338,\n",
              " 'The Incredibles': 339,\n",
              " 'Cutthroat Island': 340,\n",
              " 'Percy Jackson & the Olympians: The Lightning Thief': 341,\n",
              " 'Men in Black': 342,\n",
              " 'Toy Story 2': 343,\n",
              " 'Unstoppable': 344,\n",
              " 'Rush Hour 2': 345,\n",
              " 'What Lies Beneath': 346,\n",
              " 'Cloudy with a Chance of Meatballs': 347,\n",
              " 'Ice Age: Dawn of the Dinosaurs': 348,\n",
              " 'The Secret Life of Walter Mitty': 349,\n",
              " \"Charlie's Angels\": 350,\n",
              " 'The Departed': 351,\n",
              " 'Mulan': 352,\n",
              " 'Tropic Thunder': 353,\n",
              " 'The Girl with the Dragon Tattoo': 354,\n",
              " 'Die Hard: With a Vengeance': 355,\n",
              " 'Sherlock Holmes': 356,\n",
              " 'Ben-Hur': 357,\n",
              " 'Atlantis: The Lost Empire': 358,\n",
              " 'Alvin and the Chipmunks: The Road Chip': 359,\n",
              " 'Valkyrie': 360,\n",
              " \"You Don't Mess with the Zohan\": 361,\n",
              " 'Pixels': 362,\n",
              " 'A.I. Artificial Intelligence': 363,\n",
              " 'The Haunted Mansion': 364,\n",
              " 'Contact': 365,\n",
              " 'Hollow Man': 366,\n",
              " 'The Interpreter': 367,\n",
              " 'Percy Jackson: Sea of Monsters': 368,\n",
              " 'Lara Croft Tomb Raider: The Cradle of Life': 369,\n",
              " 'Now You See Me 2': 370,\n",
              " 'The Saint': 371,\n",
              " 'Spy Game': 372,\n",
              " 'Mission to Mars': 373,\n",
              " 'Rio': 374,\n",
              " 'Bicentennial Man': 375,\n",
              " 'Volcano': 376,\n",
              " \"The Devil's Own\": 377,\n",
              " 'K-19: The Widowmaker': 378,\n",
              " 'Conan the Barbarian': 379,\n",
              " 'Cinderella Man': 380,\n",
              " 'The Nutcracker: The Untold Story': 381,\n",
              " 'Seabiscuit': 382,\n",
              " 'Twister': 383,\n",
              " 'Cast Away': 384,\n",
              " 'Happy Feet': 385,\n",
              " 'The Bourne Supremacy': 386,\n",
              " 'Air Force One': 387,\n",
              " \"Ocean's Eleven\": 388,\n",
              " 'The Three Musketeers': 389,\n",
              " 'Hotel Transylvania': 390,\n",
              " 'Enchanted': 391,\n",
              " 'Safe House': 392,\n",
              " '102 Dalmatians': 393,\n",
              " 'Tower Heist': 394,\n",
              " 'The Holiday': 395,\n",
              " 'Enemy of the State': 396,\n",
              " \"It's Complicated\": 397,\n",
              " \"Ocean's Thirteen\": 398,\n",
              " 'Open Season': 399,\n",
              " 'Divergent': 400,\n",
              " 'Enemy at the Gates': 401,\n",
              " 'The Rundown': 402,\n",
              " 'Last Action Hero': 403,\n",
              " 'Memoirs of a Geisha': 404,\n",
              " 'The Fast and the Furious: Tokyo Drift': 405,\n",
              " 'Arthur Christmas': 406,\n",
              " 'Meet Joe Black': 407,\n",
              " 'Collateral Damage': 408,\n",
              " 'All That Jazz': 409,\n",
              " 'Mirror Mirror': 410,\n",
              " 'Scott Pilgrim vs. the World': 411,\n",
              " 'The Core': 412,\n",
              " 'Nutty Professor II: The Klumps': 413,\n",
              " 'Scooby-Doo': 414,\n",
              " 'Dredd': 415,\n",
              " 'Click': 416,\n",
              " 'Creepshow': 417,\n",
              " 'Cats & Dogs 2 : The Revenge of Kitty Galore': 418,\n",
              " 'Jumper': 419,\n",
              " 'Hellboy II: The Golden Army': 420,\n",
              " 'Zodiac': 421,\n",
              " 'The 6th Day': 422,\n",
              " 'Bruce Almighty': 423,\n",
              " 'The Expendables': 424,\n",
              " 'Mission: Impossible': 425,\n",
              " 'The Hunger Games': 426,\n",
              " 'The Hangover Part II': 427,\n",
              " 'Batman Returns': 428,\n",
              " 'Over the Hedge': 429,\n",
              " 'Lilo & Stitch': 430,\n",
              " \"Charlotte's Web\": 431,\n",
              " 'Deep Impact': 432,\n",
              " 'RED 2': 433,\n",
              " 'The Longest Yard': 434,\n",
              " 'Alvin and the Chipmunks: Chipwrecked': 435,\n",
              " 'Grown Ups 2': 436,\n",
              " 'Get Smart': 437,\n",
              " \"Something's Gotta Give\": 438,\n",
              " 'Shutter Island': 439,\n",
              " 'Four Christmases': 440,\n",
              " 'Robots': 441,\n",
              " 'Face/Off': 442,\n",
              " 'Bedtime Stories': 443,\n",
              " 'Road to Perdition': 444,\n",
              " 'Just Go with It': 445,\n",
              " 'Con Air': 446,\n",
              " 'Eagle Eye': 447,\n",
              " 'Cold Mountain': 448,\n",
              " 'The Book of Eli': 449,\n",
              " 'Flubber': 450,\n",
              " 'The Haunting': 451,\n",
              " 'Space Jam': 452,\n",
              " 'The Pink Panther': 453,\n",
              " 'The Day the Earth Stood Still': 454,\n",
              " 'Conspiracy Theory': 455,\n",
              " 'Fury': 456,\n",
              " 'Six Days Seven Nights': 457,\n",
              " 'Yogi Bear': 458,\n",
              " 'Spirit: Stallion of the Cimarron': 459,\n",
              " 'Zookeeper': 460,\n",
              " 'Lost in Space': 461,\n",
              " 'The Manchurian Candidate': 462,\n",
              " 'Déjà Vu': 463,\n",
              " 'Hotel Transylvania 2': 464,\n",
              " 'Fantasia 2000': 465,\n",
              " 'The Time Machine': 466,\n",
              " 'Mighty Joe Young': 467,\n",
              " 'Swordfish': 468,\n",
              " 'The Legend of Zorro': 469,\n",
              " 'What Dreams May Come': 470,\n",
              " 'Little Nicky': 471,\n",
              " 'The Brothers Grimm': 472,\n",
              " 'Mars Attacks!': 473,\n",
              " 'Evolution': 474,\n",
              " 'The Edge': 475,\n",
              " 'Surrogates': 476,\n",
              " 'Thirteen Days': 477,\n",
              " 'Daylight': 478,\n",
              " 'Walking With Dinosaurs': 479,\n",
              " 'Battlefield Earth': 480,\n",
              " 'Looney Tunes: Back in Action': 481,\n",
              " 'Nine': 482,\n",
              " 'Timeline': 483,\n",
              " 'The Postman': 484,\n",
              " 'Babe: Pig in the City': 485,\n",
              " 'The Last Witch Hunter': 486,\n",
              " 'Red Planet': 487,\n",
              " 'Arthur and the Invisibles': 488,\n",
              " 'Oceans': 489,\n",
              " 'A Sound of Thunder': 490,\n",
              " 'Pompeii': 491,\n",
              " 'Top Cat Begins': 492,\n",
              " 'A Beautiful Mind': 493,\n",
              " 'The Lion King': 494,\n",
              " 'Journey 2: The Mysterious Island': 495,\n",
              " 'Cloudy with a Chance of Meatballs 2': 496,\n",
              " 'Red Dragon': 497,\n",
              " 'Hidalgo': 498,\n",
              " 'Jack and Jill': 499,\n",
              " '2 Fast 2 Furious': 500,\n",
              " 'The Little Prince': 501,\n",
              " 'The Invasion': 502,\n",
              " 'The Adventures of Rocky & Bullwinkle': 503,\n",
              " 'The Secret Life of Pets': 504,\n",
              " 'The League of Extraordinary Gentlemen': 505,\n",
              " 'Despicable Me 2': 506,\n",
              " 'Independence Day': 507,\n",
              " 'The Lost World: Jurassic Park': 508,\n",
              " 'Madagascar': 509,\n",
              " 'Children of Men': 510,\n",
              " 'X-Men': 511,\n",
              " 'Wanted': 512,\n",
              " 'The Rock': 513,\n",
              " 'Ice Age: The Meltdown': 514,\n",
              " '50 First Dates': 515,\n",
              " 'Hairspray': 516,\n",
              " 'Exorcist: The Beginning': 517,\n",
              " 'Inspector Gadget': 518,\n",
              " 'Now You See Me': 519,\n",
              " 'Grown Ups': 520,\n",
              " 'The Terminal': 521,\n",
              " 'Hotel for Dogs': 522,\n",
              " 'Vertical Limit': 523,\n",
              " \"Charlie Wilson's War\": 524,\n",
              " 'Shark Tale': 525,\n",
              " 'Dreamgirls': 526,\n",
              " 'Be Cool': 527,\n",
              " 'Munich': 528,\n",
              " 'Tears of the Sun': 529,\n",
              " 'Killers': 530,\n",
              " 'The Man from U.N.C.L.E.': 531,\n",
              " 'Spanglish': 532,\n",
              " 'Monster House': 533,\n",
              " 'Bandits': 534,\n",
              " 'First Knight': 535,\n",
              " 'Anna and the King': 536,\n",
              " 'Immortals': 537,\n",
              " 'Hostage': 538,\n",
              " 'Titan A.E.': 539,\n",
              " 'Hollywood Homicide': 540,\n",
              " 'Soldier': 541,\n",
              " 'Carriers': 542,\n",
              " 'Monkeybone': 543,\n",
              " 'Flight of the Phoenix': 544,\n",
              " 'Unbreakable': 545,\n",
              " 'Minions': 546,\n",
              " 'Sucker Punch': 547,\n",
              " 'Snake Eyes': 548,\n",
              " 'Sphere': 549,\n",
              " 'The Angry Birds Movie': 550,\n",
              " \"Fool's Gold\": 551,\n",
              " 'Funny People': 552,\n",
              " 'The Kingdom': 553,\n",
              " 'Talladega Nights: The Ballad of Ricky Bobby': 554,\n",
              " 'Dr. Dolittle 2': 555,\n",
              " 'Braveheart': 556,\n",
              " 'Jarhead': 557,\n",
              " 'The Simpsons Movie': 558,\n",
              " 'The Majestic': 559,\n",
              " 'Driven': 560,\n",
              " 'Two Brothers': 561,\n",
              " 'The Village': 562,\n",
              " 'Doctor Dolittle': 563,\n",
              " 'Signs': 564,\n",
              " 'Shrek 2': 565,\n",
              " 'Cars': 566,\n",
              " 'Runaway Bride': 567,\n",
              " 'xXx': 568,\n",
              " 'The SpongeBob Movie: Sponge Out of Water': 569,\n",
              " 'Ransom': 570,\n",
              " 'Inglourious Basterds': 571,\n",
              " 'Hook': 572,\n",
              " 'Die Hard 2': 573,\n",
              " 'S.W.A.T.': 574,\n",
              " 'Vanilla Sky': 575,\n",
              " 'Lady in the Water': 576,\n",
              " 'AVP: Alien vs. Predator': 577,\n",
              " 'Alvin and the Chipmunks: The Squeakquel': 578,\n",
              " 'We Were Soldiers': 579,\n",
              " 'Olympus Has Fallen': 580,\n",
              " 'Star Trek: Insurrection': 581,\n",
              " 'Battle: Los Angeles': 582,\n",
              " 'Big Fish': 583,\n",
              " 'Wolf': 584,\n",
              " 'War Horse': 585,\n",
              " 'The Monuments Men': 586,\n",
              " 'The Abyss': 587,\n",
              " 'Wall Street: Money Never Sleeps': 588,\n",
              " 'Dracula Untold': 589,\n",
              " 'The Siege': 590,\n",
              " 'Stardust': 591,\n",
              " 'Seven Years in Tibet': 592,\n",
              " 'The Dilemma': 593,\n",
              " 'Bad Company': 594,\n",
              " 'Doom': 595,\n",
              " 'I Spy': 596,\n",
              " 'Underworld: Awakening': 597,\n",
              " 'Rock of Ages': 598,\n",
              " \"Hart's War\": 599,\n",
              " 'Killer Elite': 600,\n",
              " 'Rollerball': 601,\n",
              " 'Ballistic: Ecks vs. Sever': 602,\n",
              " 'Hard Rain': 603,\n",
              " 'Osmosis Jones': 604,\n",
              " \"Legends of Oz: Dorothy's Return\": 605,\n",
              " 'Blackhat': 606,\n",
              " 'Sky Captain and the World of Tomorrow': 607,\n",
              " 'Basic Instinct 2': 608,\n",
              " 'Escape Plan': 609,\n",
              " 'The Legend of Hercules': 610,\n",
              " 'The Sum of All Fears': 611,\n",
              " 'The Twilight Saga: Eclipse': 612,\n",
              " 'The Score': 613,\n",
              " 'Despicable Me': 614,\n",
              " 'Money Train': 615,\n",
              " 'Ted 2': 616,\n",
              " 'Agora': 617,\n",
              " 'Mystery Men': 618,\n",
              " 'Hall Pass': 619,\n",
              " 'The Insider': 620,\n",
              " 'The Finest Hours': 621,\n",
              " 'Body of Lies': 622,\n",
              " 'Dinner for Schmucks': 623,\n",
              " 'Abraham Lincoln: Vampire Hunter': 624,\n",
              " 'Entrapment': 625,\n",
              " 'The X Files': 626,\n",
              " 'The Last Legion': 627,\n",
              " 'Saving Private Ryan': 628,\n",
              " 'Need for Speed': 629,\n",
              " 'What Women Want': 630,\n",
              " 'Ice Age': 631,\n",
              " 'Dreamcatcher': 632,\n",
              " 'Lincoln': 633,\n",
              " 'The Matrix': 634,\n",
              " 'Apollo 13': 635,\n",
              " 'The Santa Clause 2': 636,\n",
              " 'Les Misérables': 637,\n",
              " \"You've Got Mail\": 638,\n",
              " 'Step Brothers': 639,\n",
              " 'The Mask of Zorro': 640,\n",
              " 'Due Date': 641,\n",
              " 'Unbroken': 642,\n",
              " 'Space Cowboys': 643,\n",
              " 'Cliffhanger': 644,\n",
              " 'Broken Arrow': 645,\n",
              " 'The Kid': 646,\n",
              " 'World Trade Center': 647,\n",
              " 'Mona Lisa Smile': 648,\n",
              " 'The Dictator': 649,\n",
              " 'Eyes Wide Shut': 650,\n",
              " 'Annie': 651,\n",
              " 'Focus': 652,\n",
              " 'This Means War': 653,\n",
              " 'Blade: Trinity': 654,\n",
              " 'Red Dawn': 655,\n",
              " 'Primary Colors': 656,\n",
              " 'Resident Evil: Retribution': 657,\n",
              " 'Death Race': 658,\n",
              " 'The Long Kiss Goodnight': 659,\n",
              " 'Proof of Life': 660,\n",
              " 'Zathura: A Space Adventure': 661,\n",
              " 'Fight Club': 662,\n",
              " 'We Are Marshall': 663,\n",
              " 'Hudson Hawk': 664,\n",
              " 'Lucky Numbers': 665,\n",
              " 'I, Frankenstein': 666,\n",
              " 'Oliver Twist': 667,\n",
              " 'Elektra': 668,\n",
              " 'Sin City: A Dame to Kill For': 669,\n",
              " 'Random Hearts': 670,\n",
              " 'Everest': 671,\n",
              " 'Perfume: The Story of a Murderer': 672,\n",
              " 'Austin Powers in Goldmember': 673,\n",
              " 'Astro Boy': 674,\n",
              " 'Jurassic Park': 675,\n",
              " 'Wyatt Earp': 676,\n",
              " 'Clear and Present Danger': 677,\n",
              " 'Dragon Blade': 678,\n",
              " 'Little Man': 679,\n",
              " 'U-571': 680,\n",
              " 'The American President': 681,\n",
              " 'The Love Guru': 682,\n",
              " '3000 Miles to Graceland': 683,\n",
              " 'The Hateful Eight': 684,\n",
              " 'Blades of Glory': 685,\n",
              " 'Hop': 686,\n",
              " '300': 687,\n",
              " 'Meet the Fockers': 688,\n",
              " 'Marley & Me': 689,\n",
              " 'The Green Mile': 690,\n",
              " 'Wild Hogs': 691,\n",
              " 'Chicken Little': 692,\n",
              " 'Gone Girl': 693,\n",
              " 'The Bourne Identity': 694,\n",
              " 'GoldenEye': 695,\n",
              " \"The General's Daughter\": 696,\n",
              " 'The Truman Show': 697,\n",
              " 'The Prince of Egypt': 698,\n",
              " 'Daddy Day Care': 699,\n",
              " '2 Guns': 700,\n",
              " 'Cats & Dogs': 701,\n",
              " 'The Italian Job': 702,\n",
              " 'Two Weeks Notice': 703,\n",
              " 'Antz': 704,\n",
              " 'Couples Retreat': 705,\n",
              " 'Days of Thunder': 706,\n",
              " 'Cheaper by the Dozen 2': 707,\n",
              " 'Maze Runner: The Scorch Trials': 708,\n",
              " 'Eat Pray Love': 709,\n",
              " 'The Family Man': 710,\n",
              " 'RED': 711,\n",
              " 'Any Given Sunday': 712,\n",
              " 'The Horse Whisperer': 713,\n",
              " 'Collateral': 714,\n",
              " 'The Scorpion King': 715,\n",
              " 'Ladder 49': 716,\n",
              " 'Jack Reacher': 717,\n",
              " 'Deep Blue Sea': 718,\n",
              " 'This Is It': 719,\n",
              " 'Contagion': 720,\n",
              " 'Kangaroo Jack': 721,\n",
              " 'Coraline': 722,\n",
              " 'The Happening': 723,\n",
              " 'Man on Fire': 724,\n",
              " 'The Shaggy Dog': 725,\n",
              " 'Starsky & Hutch': 726,\n",
              " 'Jingle All the Way': 727,\n",
              " 'Hellboy': 728,\n",
              " 'A Civil Action': 729,\n",
              " 'ParaNorman': 730,\n",
              " 'The Jackal': 731,\n",
              " 'Paycheck': 732,\n",
              " 'Up Close & Personal': 733,\n",
              " 'The Tale of Despereaux': 734,\n",
              " 'The Tuxedo': 735,\n",
              " 'Under Siege 2: Dark Territory': 736,\n",
              " 'Jack Ryan: Shadow Recruit': 737,\n",
              " 'Joy': 738,\n",
              " 'London Has Fallen': 739,\n",
              " 'Alien: Resurrection': 740,\n",
              " 'Shooter': 741,\n",
              " 'The Boxtrolls': 742,\n",
              " 'Practical Magic': 743,\n",
              " 'The Lego Movie': 744,\n",
              " 'Miss Congeniality 2: Armed and Fabulous': 745,\n",
              " 'Reign of Fire': 746,\n",
              " 'Gangster Squad': 747,\n",
              " 'Year One': 748,\n",
              " 'Invictus': 749,\n",
              " 'State of Play': 750,\n",
              " 'Duplicity': 751,\n",
              " 'My Favorite Martian': 752,\n",
              " 'The Sentinel': 753,\n",
              " 'Planet 51': 754,\n",
              " 'Star Trek: Nemesis': 755,\n",
              " 'Intolerable Cruelty': 756,\n",
              " 'Trouble with the Curve': 757,\n",
              " 'Edge of Darkness': 758,\n",
              " 'The Relic': 759,\n",
              " 'Analyze That': 760,\n",
              " 'Righteous Kill': 761,\n",
              " 'Mercury Rising': 762,\n",
              " 'The Soloist': 763,\n",
              " 'The Legend of Bagger Vance': 764,\n",
              " 'Almost Famous': 765,\n",
              " 'Garfield: A Tail of Two Kitties': 766,\n",
              " 'xXx: State of the Union': 767,\n",
              " 'Priest': 768,\n",
              " 'Sinbad: Legend of the Seven Seas': 769,\n",
              " 'Event Horizon': 770,\n",
              " 'Dragonfly': 771,\n",
              " 'The Black Dahlia': 772,\n",
              " 'Flyboys': 773,\n",
              " 'The Last Castle': 774,\n",
              " 'Supernova': 775,\n",
              " \"Winter's Tale\": 776,\n",
              " 'The Mortal Instruments: City of Bones': 777,\n",
              " 'Meet Dave': 778,\n",
              " 'Dark Water': 779,\n",
              " 'Edtv': 780,\n",
              " 'Inkheart': 781,\n",
              " 'The Spirit': 782,\n",
              " 'Mortdecai': 783,\n",
              " 'In the Name of the King: A Dungeon Siege Tale': 784,\n",
              " 'Beyond Borders': 785,\n",
              " 'The Monkey King 2': 786,\n",
              " 'The Great Raid': 787,\n",
              " 'Deadpool': 788,\n",
              " 'Holy Man': 789,\n",
              " 'American Sniper': 790,\n",
              " 'Goosebumps': 791,\n",
              " 'Just Like Heaven': 792,\n",
              " 'The Flintstones in Viva Rock Vegas': 793,\n",
              " 'Rambo III': 794,\n",
              " 'Leatherheads': 795,\n",
              " 'The Ridiculous 6': 796,\n",
              " 'Did You Hear About the Morgans?': 797,\n",
              " 'The Internship': 798,\n",
              " 'Resident Evil: Afterlife': 799,\n",
              " 'Red Tails': 800,\n",
              " \"The Devil's Advocate\": 801,\n",
              " \"That's My Boy\": 802,\n",
              " 'DragonHeart': 803,\n",
              " 'After the Sunset': 804,\n",
              " 'Ghost Rider: Spirit of Vengeance': 805,\n",
              " \"Captain Corelli's Mandolin\": 806,\n",
              " 'The Pacifier': 807,\n",
              " 'Walking Tall': 808,\n",
              " 'Forrest Gump': 809,\n",
              " 'Alvin and the Chipmunks': 810,\n",
              " 'Meet the Parents': 811,\n",
              " 'Pocahontas': 812,\n",
              " 'Superman': 813,\n",
              " 'The Nutty Professor': 814,\n",
              " 'Hitch': 815,\n",
              " 'George of the Jungle': 816,\n",
              " 'American Wedding': 817,\n",
              " 'Captain Phillips': 818,\n",
              " 'Date Night': 819,\n",
              " 'Casper': 820,\n",
              " 'The Equalizer': 821,\n",
              " 'Maid in Manhattan': 822,\n",
              " 'Crimson Tide': 823,\n",
              " 'The Pursuit of Happyness': 824,\n",
              " 'Flightplan': 825,\n",
              " 'Disclosure': 826,\n",
              " 'City of Angels': 827,\n",
              " 'Kill Bill: Vol. 1': 828,\n",
              " 'Bowfinger': 829,\n",
              " 'Kill Bill: Vol. 2': 830,\n",
              " 'Tango & Cash': 831,\n",
              " 'Death Becomes Her': 832,\n",
              " 'Shanghai Noon': 833,\n",
              " 'Executive Decision': 834,\n",
              " \"Mr. Popper's Penguins\": 835,\n",
              " 'The Forbidden Kingdom': 836,\n",
              " 'Free Birds': 837,\n",
              " 'Alien³': 838,\n",
              " 'Evita': 839,\n",
              " 'Ronin': 840,\n",
              " 'The Ghost and the Darkness': 841,\n",
              " 'Paddington': 842,\n",
              " 'The Watch': 843,\n",
              " 'The Hunted': 844,\n",
              " 'Instinct': 845,\n",
              " 'Stuck on You': 846,\n",
              " 'Semi-Pro': 847,\n",
              " 'The Pirates! In an Adventure with Scientists!': 848,\n",
              " 'Changeling': 849,\n",
              " 'Chain Reaction': 850,\n",
              " 'The Fan': 851,\n",
              " 'The Phantom of the Opera': 852,\n",
              " 'Elizabeth: The Golden Age': 853,\n",
              " 'Æon Flux': 854,\n",
              " 'Gods and Generals': 855,\n",
              " 'Turbulence': 856,\n",
              " 'Imagine That': 857,\n",
              " 'Muppets Most Wanted': 858,\n",
              " 'Thunderbirds': 859,\n",
              " 'Burlesque': 860,\n",
              " 'A Very Long Engagement': 861,\n",
              " 'Lolita': 862,\n",
              " 'D-Tox': 863,\n",
              " 'Blade II': 864,\n",
              " 'Seven Pounds': 865,\n",
              " 'Bullet to the Head': 866,\n",
              " 'The Godfather: Part III': 867,\n",
              " 'Elizabethtown': 868,\n",
              " 'You, Me and Dupree': 869,\n",
              " 'Superman II': 870,\n",
              " 'Gigli': 871,\n",
              " \"All the King's Men\": 872,\n",
              " 'Shaft': 873,\n",
              " 'Anastasia': 874,\n",
              " 'Moulin Rouge!': 875,\n",
              " 'Domestic Disturbance': 876,\n",
              " 'Black Mass': 877,\n",
              " 'Flags of Our Fathers': 878,\n",
              " 'Law Abiding Citizen': 879,\n",
              " 'Grindhouse': 880,\n",
              " 'Beloved': 881,\n",
              " 'Lucky You': 882,\n",
              " 'Catch Me If You Can': 883,\n",
              " 'Zero Dark Thirty': 884,\n",
              " 'The Break-Up': 885,\n",
              " 'Mamma Mia!': 886,\n",
              " \"Valentine's Day\": 887,\n",
              " 'The Dukes of Hazzard': 888,\n",
              " 'The Thin Red Line': 889,\n",
              " 'The Change-Up': 890,\n",
              " 'Man on the Moon': 891,\n",
              " 'Casino': 892,\n",
              " 'From Paris with Love': 893,\n",
              " 'Bulletproof Monk': 894,\n",
              " 'Me, Myself & Irene': 895,\n",
              " 'Barnyard': 896,\n",
              " 'Deck the Halls': 897,\n",
              " 'The Twilight Saga: New Moon': 898,\n",
              " 'Shrek': 899,\n",
              " 'The Adjustment Bureau': 900,\n",
              " 'Robin Hood: Prince of Thieves': 901,\n",
              " 'Jerry Maguire': 902,\n",
              " 'Ted': 903,\n",
              " 'As Good as It Gets': 904,\n",
              " 'Patch Adams': 905,\n",
              " 'Anchorman 2: The Legend Continues': 906,\n",
              " 'Mr. Deeds': 907,\n",
              " 'Super 8': 908,\n",
              " 'Erin Brockovich': 909,\n",
              " 'How to Lose a Guy in 10 Days': 910,\n",
              " '22 Jump Street': 911,\n",
              " 'Interview with the Vampire': 912,\n",
              " 'Yes Man': 913,\n",
              " 'Central Intelligence': 914,\n",
              " 'Stepmom': 915,\n",
              " \"Daddy's Home\": 916,\n",
              " 'Into the Woods': 917,\n",
              " 'Inside Man': 918,\n",
              " 'Payback': 919,\n",
              " 'Congo': 920,\n",
              " 'We Bought a Zoo': 921,\n",
              " 'Knowing': 922,\n",
              " 'Failure to Launch': 923,\n",
              " 'The Ring Two': 924,\n",
              " 'Crazy, Stupid, Love.': 925,\n",
              " 'Garfield': 926,\n",
              " 'Christmas with the Kranks': 927,\n",
              " 'Moneyball': 928,\n",
              " 'Outbreak': 929,\n",
              " 'Non-Stop': 930,\n",
              " 'Race to Witch Mountain': 931,\n",
              " 'V for Vendetta': 932,\n",
              " 'Shanghai Knights': 933,\n",
              " 'Curious George': 934,\n",
              " 'Herbie Fully Loaded': 935,\n",
              " \"Don't Say a Word\": 936,\n",
              " 'Hansel & Gretel: Witch Hunters': 937,\n",
              " 'Unfaithful': 938,\n",
              " 'I Am Number Four': 939,\n",
              " 'Syriana': 940,\n",
              " '13 Hours: The Secret Soldiers of Benghazi': 941,\n",
              " 'The Book of Life': 942,\n",
              " 'Firewall': 943,\n",
              " 'Absolute Power': 944,\n",
              " 'G.I. Jane': 945,\n",
              " 'The Game': 946,\n",
              " 'Silent Hill': 947,\n",
              " 'The Replacements': 948,\n",
              " 'American Reunion': 949,\n",
              " 'The Negotiator': 950,\n",
              " 'Into the Storm': 951,\n",
              " 'Beverly Hills Cop III': 952,\n",
              " 'Gremlins 2: The New Batch': 953,\n",
              " 'The Judge': 954,\n",
              " 'The Peacemaker': 955,\n",
              " 'Resident Evil: Apocalypse': 956,\n",
              " 'Bridget Jones: The Edge of Reason': 957,\n",
              " 'Out of Time': 958,\n",
              " 'On Deadly Ground': 959,\n",
              " 'The Adventures of Sharkboy and Lavagirl': 960,\n",
              " 'The Beach': 961,\n",
              " 'Raising Helen': 962,\n",
              " 'Ninja Assassin': 963,\n",
              " 'For Love of the Game': 964,\n",
              " 'Striptease': 965,\n",
              " 'Marmaduke': 966,\n",
              " 'Hereafter': 967,\n",
              " 'Murder by Numbers': 968,\n",
              " 'Assassins': 969,\n",
              " 'Hannibal Rising': 970,\n",
              " 'The Story of Us': 971,\n",
              " 'The Host': 2877,\n",
              " 'Basic': 973,\n",
              " 'Blood Work': 974,\n",
              " 'The International': 975,\n",
              " 'Escape from L.A.': 976,\n",
              " 'The Iron Giant': 977,\n",
              " 'The Life Aquatic with Steve Zissou': 978,\n",
              " 'Free State of Jones': 979,\n",
              " 'The Life of David Gale': 980,\n",
              " 'Man of the House': 981,\n",
              " 'Run All Night': 982,\n",
              " 'Eastern Promises': 983,\n",
              " 'Into the Blue': 984,\n",
              " 'The Messenger: The Story of Joan of Arc': 985,\n",
              " 'Your Highness': 986,\n",
              " 'Dream House': 987,\n",
              " 'Mad City': 988,\n",
              " \"Baby's Day Out\": 989,\n",
              " 'The Scarlet Letter': 990,\n",
              " 'Fair Game': 991,\n",
              " 'Domino': 992,\n",
              " 'Jade': 993,\n",
              " 'Gamer': 994,\n",
              " 'Beautiful Creatures': 995,\n",
              " 'Death to Smoochy': 996,\n",
              " 'Zoolander 2': 997,\n",
              " 'The Big Bounce': 998,\n",
              " 'What Planet Are You From?': 999,\n",
              " ...}"
            ]
          },
          "execution_count": 42,
          "metadata": {},
          "output_type": "execute_result"
        }
      ],
      "source": [
        "# Создание словаря индексов\n",
        "indices = pd.Series(index=movies['title'], data=range(len(movies))).to_dict()\n",
        "indices"
      ]
    },
    {
      "cell_type": "code",
      "execution_count": null,
      "id": "66885f63-7bd4-46c7-b0f6-2086a27cf8af",
      "metadata": {
        "id": "66885f63-7bd4-46c7-b0f6-2086a27cf8af",
        "outputId": "2ba55c17-b856-4959-d9b7-f5368acf3b38"
      },
      "outputs": [
        {
          "data": {
            "text/plain": [
              "['Stephen Lang',\n",
              " 'Sam Worthington',\n",
              " 'Michelle Rodriguez',\n",
              " 'Zoe Saldana',\n",
              " 'Sigourney Weaver',\n",
              " 'Shadow Conspiracy',\n",
              " 'Backmask',\n",
              " 'Guardians of the Galaxy',\n",
              " 'The Nut Job',\n",
              " 'Star Trek Into Darkness']"
            ]
          },
          "execution_count": 44,
          "metadata": {},
          "output_type": "execute_result"
        }
      ],
      "source": [
        "# Функция рекомендации, модифицированная для использования графовых эмбеддингов\n",
        "def get_recommendations_with_graph(title):\n",
        "    if title in list_of_films:\n",
        "        # Получаем индекс фильма из списка фильмов, который синхронизирован с cosine_sim_graph\n",
        "        idx = list_of_films.index(title)\n",
        "\n",
        "        # Получаем сходство для этого фильма со всеми другими\n",
        "        sim_scores = list(enumerate(cosine_sim_graph[idx]))\n",
        "\n",
        "        # Сортируем фильмы на основе сходства\n",
        "        sim_scores = sorted(sim_scores, key=lambda x: x[1], reverse=True)\n",
        "\n",
        "        # Получаем индексы 10 самых похожих фильмов\n",
        "        sim_scores = sim_scores[1:11]  # Исключаем сам фильм из списка\n",
        "\n",
        "        # Получаем названия фильмов, используя их индексы в list_of_films\n",
        "        movie_indices = [i[0] for i in sim_scores]\n",
        "        recommended_titles = [list_of_films[i] for i in movie_indices]\n",
        "\n",
        "        return recommended_titles\n",
        "    else:\n",
        "        return \"Фильм не найден.\"\n",
        "get_recommendations_with_graph('Avatar')"
      ]
    },
    {
      "cell_type": "code",
      "execution_count": null,
      "id": "f272f17f-e92f-47c8-81b2-1b654f0430f4",
      "metadata": {
        "id": "f272f17f-e92f-47c8-81b2-1b654f0430f4",
        "outputId": "1c0af7e2-997d-4432-e4e8-08a5ca7aea8a"
      },
      "outputs": [
        {
          "data": {
            "text/plain": [
              "['Nick Robinson',\n",
              " 'Irrfan Khan',\n",
              " 'Bryce Dallas Howard',\n",
              " 'Chris Pratt',\n",
              " 'Life of Pi',\n",
              " 'The 5th Wave',\n",
              " \"Vincent D'Onofrio\",\n",
              " 'Alex Roe',\n",
              " 'Gautam Belur',\n",
              " 'Adil Hussain']"
            ]
          },
          "execution_count": 45,
          "metadata": {},
          "output_type": "execute_result"
        }
      ],
      "source": [
        "get_recommendations_with_graph('Jurassic World')"
      ]
    },
    {
      "cell_type": "markdown",
      "id": "ec3aeea8-7063-433c-ac03-fc06eb39fc18",
      "metadata": {
        "id": "ec3aeea8-7063-433c-ac03-fc06eb39fc18"
      },
      "source": [
        "**---**"
      ]
    },
    {
      "cell_type": "code",
      "execution_count": null,
      "id": "34189c98-1643-4cea-8460-39d492f1d639",
      "metadata": {
        "id": "34189c98-1643-4cea-8460-39d492f1d639"
      },
      "outputs": [],
      "source": [
        "def get_recommendations_no_graph(title, cosine_sim=cosine_sim):\n",
        "    idx = indices[title]\n",
        "    sim_scores = list(enumerate(cosine_sim[idx]))\n",
        "    sim_scores = sorted(sim_scores, key=lambda x: x[1], reverse=True)\n",
        "    sim_scores = sim_scores[1:11]\n",
        "    movie_indices = [i[0] for i in sim_scores]\n",
        "    return movies['title'].iloc[movie_indices]"
      ]
    },
    {
      "cell_type": "code",
      "execution_count": null,
      "id": "8529686e-f9cb-48f2-a368-10e252b7aa94",
      "metadata": {
        "id": "8529686e-f9cb-48f2-a368-10e252b7aa94",
        "outputId": "9fc78c49-5f5c-4b36-bf77-28fee4a2f479"
      },
      "outputs": [
        {
          "data": {
            "text/plain": [
              "3604                       Apollo 18\n",
              "2130                    The American\n",
              "634                       The Matrix\n",
              "1341            The Inhabited Island\n",
              "529                 Tears of the Sun\n",
              "1610                           Hanna\n",
              "311     The Adventures of Pluto Nash\n",
              "847                         Semi-Pro\n",
              "775                        Supernova\n",
              "2628             Blood and Chocolate\n",
              "Name: title, dtype: object"
            ]
          },
          "execution_count": 37,
          "metadata": {},
          "output_type": "execute_result"
        }
      ],
      "source": [
        "get_recommendations_no_graph('Avatar')"
      ]
    },
    {
      "cell_type": "code",
      "execution_count": null,
      "id": "f09c409e-e81f-4562-bbe3-9d7dfb1c2f2d",
      "metadata": {
        "id": "f09c409e-e81f-4562-bbe3-9d7dfb1c2f2d",
        "outputId": "8f63c139-d07f-4f8d-efae-2f24b69ae524"
      },
      "outputs": [
        {
          "data": {
            "text/plain": [
              "508     The Lost World: Jurassic Park\n",
              "675                     Jurassic Park\n",
              "2527      National Lampoon's Vacation\n",
              "1580                      The Nut Job\n",
              "1536                         Vacation\n",
              "1983                 Meet the Deedles\n",
              "3139                    Adventureland\n",
              "3577                 The Way Way Back\n",
              "1402                     Black Knight\n",
              "414                        Scooby-Doo\n",
              "Name: title, dtype: object"
            ]
          },
          "execution_count": 45,
          "metadata": {},
          "output_type": "execute_result"
        }
      ],
      "source": [
        "get_recommendations_no_graph('Jurassic World')"
      ]
    },
    {
      "cell_type": "markdown",
      "id": "87b93389-a3fc-40a5-8932-f1ddf4ff9949",
      "metadata": {
        "id": "87b93389-a3fc-40a5-8932-f1ddf4ff9949"
      },
      "source": [
        "На самом деле сравнить их оказалось куда сложнее, так как фильмы просмотрены не были. но если судить сугубо по названиям, можно сказать, что подход без учета графа показал результаты больше отражающие реальность."
      ]
    },
    {
      "cell_type": "markdown",
      "id": "2914088c-4049-4729-8b7a-a0176aaee6e8",
      "metadata": {
        "id": "2914088c-4049-4729-8b7a-a0176aaee6e8"
      },
      "source": [
        "**Credits, Genres and Keywords Based Recommender** - это рекомендации на основе наименований, жанров и ключевых слов."
      ]
    },
    {
      "cell_type": "code",
      "execution_count": null,
      "id": "5f346d2b-a4b6-4276-aa8c-bd5fcd42fff6",
      "metadata": {
        "id": "5f346d2b-a4b6-4276-aa8c-bd5fcd42fff6"
      },
      "outputs": [],
      "source": [
        "# Парсинг структурированные объекты в соответствующие им объекты python\n",
        "from ast import literal_eval\n",
        "\n",
        "features = ['cast', 'crew', 'keywords', 'genres']\n",
        "for feature in features:\n",
        "    movies[feature] = movies[feature].apply(literal_eval)"
      ]
    },
    {
      "cell_type": "code",
      "execution_count": null,
      "id": "437500d2-90bc-4c43-9d19-96e91703f115",
      "metadata": {
        "id": "437500d2-90bc-4c43-9d19-96e91703f115"
      },
      "outputs": [],
      "source": [
        "# Узнаем имя режиссера в разделе \"Съемочная группа\". Если режиссера нет в списке, возвращаем NAN\n",
        "def get_director(x):\n",
        "    for i in x:\n",
        "        if i['job'] == 'Director':\n",
        "            return i['name']\n",
        "    return np.nan"
      ]
    },
    {
      "cell_type": "code",
      "execution_count": null,
      "id": "13cc5182-68a6-47c9-a7f3-6a79982c82e6",
      "metadata": {
        "id": "13cc5182-68a6-47c9-a7f3-6a79982c82e6"
      },
      "outputs": [],
      "source": [
        "# Возвращает 3 верхних элемента списка или весь список целиком; в зависимости от того, что больше.\n",
        "def get_list(x):\n",
        "    if isinstance(x, list):\n",
        "        names = [i['name'] for i in x]\n",
        "        #Проверка, существует ли более 3 элементов. Если да, возврат только первые три. Если нет, возврат весь список.\n",
        "        if len(names) > 3:\n",
        "            names = names[:3]\n",
        "        return names\n",
        "\n",
        "    #Return empty list in case of missing/malformed data\n",
        "    return []"
      ]
    },
    {
      "cell_type": "code",
      "execution_count": null,
      "id": "59c733e5-c672-4e15-ab13-adc325564f9f",
      "metadata": {
        "id": "59c733e5-c672-4e15-ab13-adc325564f9f"
      },
      "outputs": [],
      "source": [
        "# Определение нового режиссера, актерский состав, жанры и ключевые слова, которые будут представлены в подходящей форме.\n",
        "movies['director'] = movies['crew'].apply(get_director)\n",
        "\n",
        "features = ['cast', 'keywords', 'genres']\n",
        "for feature in features:\n",
        "    movies[feature] = movies[feature].apply(get_list)"
      ]
    },
    {
      "cell_type": "code",
      "execution_count": null,
      "id": "4f02553c-a9c3-459f-823e-2b1012119ce0",
      "metadata": {
        "id": "4f02553c-a9c3-459f-823e-2b1012119ce0",
        "outputId": "0fc77694-2400-4252-9da7-e601e4356a7f"
      },
      "outputs": [
        {
          "data": {
            "text/html": [
              "<div>\n",
              "<style scoped>\n",
              "    .dataframe tbody tr th:only-of-type {\n",
              "        vertical-align: middle;\n",
              "    }\n",
              "\n",
              "    .dataframe tbody tr th {\n",
              "        vertical-align: top;\n",
              "    }\n",
              "\n",
              "    .dataframe thead th {\n",
              "        text-align: right;\n",
              "    }\n",
              "</style>\n",
              "<table border=\"1\" class=\"dataframe\">\n",
              "  <thead>\n",
              "    <tr style=\"text-align: right;\">\n",
              "      <th></th>\n",
              "      <th>title</th>\n",
              "      <th>cast</th>\n",
              "      <th>director</th>\n",
              "      <th>keywords</th>\n",
              "      <th>genres</th>\n",
              "    </tr>\n",
              "  </thead>\n",
              "  <tbody>\n",
              "    <tr>\n",
              "      <th>0</th>\n",
              "      <td>Avatar</td>\n",
              "      <td>[Sam Worthington, Zoe Saldana, Sigourney Weaver]</td>\n",
              "      <td>James Cameron</td>\n",
              "      <td>[culture clash, future, space war]</td>\n",
              "      <td>[Action, Adventure, Fantasy]</td>\n",
              "    </tr>\n",
              "    <tr>\n",
              "      <th>1</th>\n",
              "      <td>Pirates of the Caribbean: At World's End</td>\n",
              "      <td>[Johnny Depp, Orlando Bloom, Keira Knightley]</td>\n",
              "      <td>Gore Verbinski</td>\n",
              "      <td>[ocean, drug abuse, exotic island]</td>\n",
              "      <td>[Adventure, Fantasy, Action]</td>\n",
              "    </tr>\n",
              "    <tr>\n",
              "      <th>2</th>\n",
              "      <td>Spectre</td>\n",
              "      <td>[Daniel Craig, Christoph Waltz, Léa Seydoux]</td>\n",
              "      <td>Sam Mendes</td>\n",
              "      <td>[spy, based on novel, secret agent]</td>\n",
              "      <td>[Action, Adventure, Crime]</td>\n",
              "    </tr>\n",
              "    <tr>\n",
              "      <th>3</th>\n",
              "      <td>The Dark Knight Rises</td>\n",
              "      <td>[Christian Bale, Michael Caine, Gary Oldman]</td>\n",
              "      <td>Christopher Nolan</td>\n",
              "      <td>[dc comics, crime fighter, terrorist]</td>\n",
              "      <td>[Action, Crime, Drama]</td>\n",
              "    </tr>\n",
              "    <tr>\n",
              "      <th>4</th>\n",
              "      <td>John Carter</td>\n",
              "      <td>[Taylor Kitsch, Lynn Collins, Samantha Morton]</td>\n",
              "      <td>Andrew Stanton</td>\n",
              "      <td>[based on novel, mars, medallion]</td>\n",
              "      <td>[Action, Adventure, Science Fiction]</td>\n",
              "    </tr>\n",
              "  </tbody>\n",
              "</table>\n",
              "</div>"
            ],
            "text/plain": [
              "                                      title  \\\n",
              "0                                    Avatar   \n",
              "1  Pirates of the Caribbean: At World's End   \n",
              "2                                   Spectre   \n",
              "3                     The Dark Knight Rises   \n",
              "4                               John Carter   \n",
              "\n",
              "                                               cast           director  \\\n",
              "0  [Sam Worthington, Zoe Saldana, Sigourney Weaver]      James Cameron   \n",
              "1     [Johnny Depp, Orlando Bloom, Keira Knightley]     Gore Verbinski   \n",
              "2      [Daniel Craig, Christoph Waltz, Léa Seydoux]         Sam Mendes   \n",
              "3      [Christian Bale, Michael Caine, Gary Oldman]  Christopher Nolan   \n",
              "4    [Taylor Kitsch, Lynn Collins, Samantha Morton]     Andrew Stanton   \n",
              "\n",
              "                                keywords                                genres  \n",
              "0     [culture clash, future, space war]          [Action, Adventure, Fantasy]  \n",
              "1     [ocean, drug abuse, exotic island]          [Adventure, Fantasy, Action]  \n",
              "2    [spy, based on novel, secret agent]            [Action, Adventure, Crime]  \n",
              "3  [dc comics, crime fighter, terrorist]                [Action, Crime, Drama]  \n",
              "4      [based on novel, mars, medallion]  [Action, Adventure, Science Fiction]  "
            ]
          },
          "execution_count": 50,
          "metadata": {},
          "output_type": "execute_result"
        }
      ],
      "source": [
        "movies[['title', 'cast', 'director', 'keywords', 'genres']].head(5)"
      ]
    },
    {
      "cell_type": "code",
      "execution_count": null,
      "id": "9b23846b-b574-49fd-aba6-849343a78579",
      "metadata": {
        "id": "9b23846b-b574-49fd-aba6-849343a78579"
      },
      "outputs": [],
      "source": [
        "# Функция для преобразования всех строк в нижний регистр и удаления пробелов из имен\n",
        "def clean_data(x):\n",
        "    if isinstance(x, list):\n",
        "        return [str.lower(i.replace(\" \", \"\")) for i in x]\n",
        "    else:\n",
        "        if isinstance(x, str):\n",
        "            return str.lower(x.replace(\" \", \"\"))\n",
        "        else:\n",
        "            return ''"
      ]
    },
    {
      "cell_type": "code",
      "execution_count": null,
      "id": "d3a03658-3250-4654-b5d3-4b62623ec3b7",
      "metadata": {
        "id": "d3a03658-3250-4654-b5d3-4b62623ec3b7"
      },
      "outputs": [],
      "source": [
        "#применяем очистку данных\n",
        "features = ['cast', 'keywords', 'director', 'genres']\n",
        "\n",
        "for feature in features:\n",
        "    movies[feature] = movies[feature].apply(clean_data)"
      ]
    },
    {
      "cell_type": "code",
      "execution_count": null,
      "id": "b89b9007-a5ab-4ef7-bd3b-bbd70560c8ff",
      "metadata": {
        "id": "b89b9007-a5ab-4ef7-bd3b-bbd70560c8ff"
      },
      "outputs": [],
      "source": [
        "def create_soup(x):\n",
        "    return ' '.join(x['keywords']) + ' ' + ' '.join(x['cast']) + ' ' + x['director'] + ' ' + ' '.join(x['genres'])\n",
        "movies['soup'] = movies.apply(create_soup, axis=1)"
      ]
    },
    {
      "cell_type": "markdown",
      "id": "782f2f8b-3979-4262-9b50-90024b0914f1",
      "metadata": {
        "id": "782f2f8b-3979-4262-9b50-90024b0914f1"
      },
      "source": [
        "теперь аналогично векторизуем признаки"
      ]
    },
    {
      "cell_type": "code",
      "execution_count": null,
      "id": "343d2a2b-a8bd-4be2-9fde-c0a84a2096b6",
      "metadata": {
        "id": "343d2a2b-a8bd-4be2-9fde-c0a84a2096b6"
      },
      "outputs": [],
      "source": [
        "from sklearn.feature_extraction.text import CountVectorizer\n",
        "count = CountVectorizer(stop_words='english')\n",
        "count_matrix = count.fit_transform(movies['soup'])"
      ]
    },
    {
      "cell_type": "code",
      "execution_count": null,
      "id": "75b604ce-1a28-4c1d-af84-5abe3a56e4d2",
      "metadata": {
        "id": "75b604ce-1a28-4c1d-af84-5abe3a56e4d2"
      },
      "outputs": [],
      "source": [
        "from sklearn.metrics.pairwise import cosine_similarity\n",
        "\n",
        "cosine_sim2 = cosine_similarity(count_matrix, count_matrix)"
      ]
    },
    {
      "cell_type": "code",
      "execution_count": null,
      "id": "343c0eb5-27cc-4c39-8981-898547561e6c",
      "metadata": {
        "id": "343c0eb5-27cc-4c39-8981-898547561e6c"
      },
      "outputs": [],
      "source": [
        "#обновляем индексы\n",
        "movies = movies.reset_index()\n",
        "indices = pd.Series(movies.index, index=movies['title'])"
      ]
    },
    {
      "cell_type": "code",
      "execution_count": null,
      "id": "d33650c5-ac2c-4b78-ae9e-fd179b0cda72",
      "metadata": {
        "id": "d33650c5-ac2c-4b78-ae9e-fd179b0cda72",
        "outputId": "ced287e0-7863-4530-9737-335b948b246f"
      },
      "outputs": [
        {
          "data": {
            "text/plain": [
              "206                         Clash of the Titans\n",
              "71        The Mummy: Tomb of the Dragon Emperor\n",
              "786                           The Monkey King 2\n",
              "103                   The Sorcerer's Apprentice\n",
              "131                                     G-Force\n",
              "215      Fantastic 4: Rise of the Silver Surfer\n",
              "466                            The Time Machine\n",
              "715                           The Scorpion King\n",
              "1      Pirates of the Caribbean: At World's End\n",
              "5                                  Spider-Man 3\n",
              "Name: title, dtype: object"
            ]
          },
          "execution_count": 58,
          "metadata": {},
          "output_type": "execute_result"
        }
      ],
      "source": [
        "get_recommendations_no_graph('Avatar', cosine_sim2)"
      ]
    },
    {
      "cell_type": "code",
      "execution_count": null,
      "id": "60055bef-b610-48a9-ad37-76b12b3a7e4f",
      "metadata": {
        "id": "60055bef-b610-48a9-ad37-76b12b3a7e4f",
        "outputId": "ef7ed12b-83fa-4222-c51f-5f434c7caba6"
      },
      "outputs": [
        {
          "data": {
            "text/plain": [
              "94            Guardians of the Galaxy\n",
              "508     The Lost World: Jurassic Park\n",
              "1079                             Dune\n",
              "4401              The Helix... Loaded\n",
              "83                         The Lovers\n",
              "193                       After Earth\n",
              "4117               Six-String Samurai\n",
              "91       Independence Day: Resurgence\n",
              "101                X-Men: First Class\n",
              "466                  The Time Machine\n",
              "Name: title, dtype: object"
            ]
          },
          "execution_count": 59,
          "metadata": {},
          "output_type": "execute_result"
        }
      ],
      "source": [
        "get_recommendations_no_graph('Jurassic World', cosine_sim2)"
      ]
    },
    {
      "cell_type": "markdown",
      "id": "08ac3c9d-3128-4ede-8776-97d40c479a26",
      "metadata": {
        "id": "08ac3c9d-3128-4ede-8776-97d40c479a26"
      },
      "source": [
        "Можно увидеть, что рекомендации без учета были довольно успешны, и названия так же сходятся. Хотя по признакам сложно заметить, насколько точен алгоритм"
      ]
    },
    {
      "cell_type": "code",
      "execution_count": null,
      "id": "be3165af-6361-44b9-830a-ab972b07bed5",
      "metadata": {
        "id": "be3165af-6361-44b9-830a-ab972b07bed5",
        "outputId": "ce83620e-9070-435c-edf4-bc2ac3a7aa1d"
      },
      "outputs": [
        {
          "data": {
            "text/plain": [
              "['Stephen Lang',\n",
              " 'Sam Worthington',\n",
              " 'Michelle Rodriguez',\n",
              " 'Zoe Saldana',\n",
              " 'Sigourney Weaver',\n",
              " 'Shadow Conspiracy',\n",
              " 'Backmask',\n",
              " 'Guardians of the Galaxy',\n",
              " 'The Nut Job',\n",
              " 'Star Trek Into Darkness']"
            ]
          },
          "execution_count": 61,
          "metadata": {},
          "output_type": "execute_result"
        }
      ],
      "source": [
        "def get_recommendations_graph(title, cosine_sim=cosine_sim_graph):\n",
        "    if title in list_of_films:\n",
        "        idx = list_of_films.index(title)\n",
        "        sim_scores = list(enumerate(cosine_sim[idx]))\n",
        "        sim_scores = sorted(sim_scores, key=lambda x: x[1], reverse=True)\n",
        "        sim_scores = sim_scores[1:11]\n",
        "        movie_indices = [i[0] for i in sim_scores]\n",
        "        recommended_titles_graph = [list_of_films[i] for i in movie_indices]\n",
        "        return recommended_titles_graph\n",
        "    else:\n",
        "        return \"Фильм не найден.\"\n",
        "get_recommendations_with_graph('Avatar')"
      ]
    },
    {
      "cell_type": "code",
      "execution_count": null,
      "id": "f8f4cb5d-be31-460e-8fe4-4cfd1c30494b",
      "metadata": {
        "id": "f8f4cb5d-be31-460e-8fe4-4cfd1c30494b",
        "outputId": "eee31877-f476-4306-9ec7-fb82f5e09e47"
      },
      "outputs": [
        {
          "data": {
            "text/plain": [
              "['Nick Robinson',\n",
              " 'Irrfan Khan',\n",
              " 'Bryce Dallas Howard',\n",
              " 'Chris Pratt',\n",
              " 'Life of Pi',\n",
              " 'The 5th Wave',\n",
              " \"Vincent D'Onofrio\",\n",
              " 'Alex Roe',\n",
              " 'Gautam Belur',\n",
              " 'Adil Hussain']"
            ]
          },
          "execution_count": 62,
          "metadata": {},
          "output_type": "execute_result"
        }
      ],
      "source": [
        "get_recommendations_with_graph('Jurassic World')"
      ]
    },
    {
      "cell_type": "markdown",
      "id": "d74a763a-ef1c-429a-a0b7-5170a14fe746",
      "metadata": {
        "id": "d74a763a-ef1c-429a-a0b7-5170a14fe746"
      },
      "source": [
        "Судя по названиям, алгоритм с учетом графов так же странно рекомендует фильмы. В дальнейшем, можно будет улучшить качество отбора признаков для вершин и ребер графа, чтобы увеличить точность рекомендационной выборки"
      ]
    },
    {
      "cell_type": "code",
      "execution_count": null,
      "id": "369ee489-5ad4-4dc6-adff-95666e1ecd67",
      "metadata": {
        "id": "369ee489-5ad4-4dc6-adff-95666e1ecd67",
        "outputId": "e7a0fcce-4e58-443f-ef5d-959e8c56e9a5"
      },
      "outputs": [
        {
          "data": {
            "text/plain": [
              "['Clash of the Titans',\n",
              " 'The Mummy: Tomb of the Dragon Emperor',\n",
              " 'The Monkey King 2',\n",
              " \"The Sorcerer's Apprentice\",\n",
              " 'G-Force',\n",
              " 'Fantastic 4: Rise of the Silver Surfer',\n",
              " 'The Time Machine',\n",
              " 'The Scorpion King',\n",
              " \"Pirates of the Caribbean: At World's End\",\n",
              " 'Spider-Man 3']"
            ]
          },
          "execution_count": 63,
          "metadata": {},
          "output_type": "execute_result"
        }
      ],
      "source": [
        "def get_recommendations_content(title, cosine_sim=cosine_sim2):\n",
        "    idx = indices[title]\n",
        "    sim_scores = list(enumerate(cosine_sim[idx]))\n",
        "    sim_scores = sorted(sim_scores, key=lambda x: x[1], reverse=True)\n",
        "    sim_scores = sim_scores[1:11]\n",
        "    movie_indices = [i[0] for i in sim_scores]\n",
        "    return movies['title'].iloc[movie_indices].tolist()\n",
        "get_recommendations_content('Avatar')"
      ]
    },
    {
      "cell_type": "code",
      "execution_count": null,
      "id": "af8e3efb-e400-43c2-9994-f9062facfe90",
      "metadata": {
        "id": "af8e3efb-e400-43c2-9994-f9062facfe90",
        "outputId": "3f1f9a73-1cff-4f13-c86d-2dee84caea33"
      },
      "outputs": [
        {
          "data": {
            "text/plain": [
              "['Guardians of the Galaxy',\n",
              " 'The Lost World: Jurassic Park',\n",
              " 'Dune',\n",
              " 'The Helix... Loaded',\n",
              " 'The Lovers',\n",
              " 'After Earth',\n",
              " 'Six-String Samurai',\n",
              " 'Independence Day: Resurgence',\n",
              " 'X-Men: First Class',\n",
              " 'The Time Machine']"
            ]
          },
          "execution_count": 64,
          "metadata": {},
          "output_type": "execute_result"
        }
      ],
      "source": [
        "get_recommendations_content('Jurassic World')"
      ]
    },
    {
      "cell_type": "code",
      "execution_count": null,
      "id": "54366622-803b-476b-ab3e-8e4365897790",
      "metadata": {
        "id": "54366622-803b-476b-ab3e-8e4365897790",
        "outputId": "cc452e62-cb18-4c5f-bc47-811873a6e7de"
      },
      "outputs": [
        {
          "name": "stdout",
          "output_type": "stream",
          "text": [
            "Комбинированные рекомендации для фильма Avatar: \n",
            " ['Shadow Conspiracy', \"Pirates of the Caribbean: At World's End\", 'Michelle Rodriguez', 'Sigourney Weaver', 'Star Trek Into Darkness', 'The Mummy: Tomb of the Dragon Emperor', 'Fantastic 4: Rise of the Silver Surfer', 'The Scorpion King', 'Stephen Lang', 'Zoe Saldana']\n"
          ]
        }
      ],
      "source": [
        "def combined_recommendations(title):\n",
        "    recs_graph = get_recommendations_graph(title)\n",
        "    recs_content = get_recommendations_content(title)\n",
        "    if isinstance(recs_graph, str):\n",
        "        return \"Фильм не найден.\"\n",
        "    combined_recs = list(set(recs_graph + recs_content))  # Объединяем и удаляем дубликаты\n",
        "    return combined_recs[:10]\n",
        "\n",
        "title = 'Avatar'\n",
        "combined_recs = combined_recommendations(title)\n",
        "print(f\"Комбинированные рекомендации для фильма {title}: \\n\", combined_recs)\n"
      ]
    },
    {
      "cell_type": "code",
      "execution_count": null,
      "id": "89f4d274-150a-4c6d-aa78-4924fb83fbc9",
      "metadata": {
        "id": "89f4d274-150a-4c6d-aa78-4924fb83fbc9",
        "outputId": "85125053-445b-4538-9a85-0621e3fe3d0c"
      },
      "outputs": [
        {
          "name": "stdout",
          "output_type": "stream",
          "text": [
            "Комбинированные рекомендации для фильма Jurassic World: \n",
            " ['The Lovers', 'Independence Day: Resurgence', 'Irrfan Khan', \"Vincent D'Onofrio\", 'Alex Roe', 'The Lost World: Jurassic Park', 'Chris Pratt', 'Dune', 'Life of Pi', 'Nick Robinson']\n"
          ]
        }
      ],
      "source": [
        "title = 'Jurassic World'\n",
        "combined_recs = combined_recommendations(title)\n",
        "print(f\"Комбинированные рекомендации для фильма {title}: \\n\", combined_recs)"
      ]
    },
    {
      "cell_type": "markdown",
      "id": "abdb626a-6aae-47b8-9c5f-00d224ee3b4a",
      "metadata": {
        "id": "abdb626a-6aae-47b8-9c5f-00d224ee3b4a"
      },
      "source": [
        "Тестирование комбинации рекомендацией с учетом обычных текстовых эмбеддингов и графа. В целом, названия стали явно лучше, как будто бы даже имеют смысловое сходство, по крайней мере в рамках жанра"
      ]
    },
    {
      "cell_type": "markdown",
      "id": "5646e4b3-7fe0-4c25-9699-5e7aae2535f9",
      "metadata": {
        "id": "5646e4b3-7fe0-4c25-9699-5e7aae2535f9"
      },
      "source": [
        "**Collaborative Filtering** - технология прогнозирования предпочтений пользователя с учетом интересов других посетителей интернет-ресурса."
      ]
    },
    {
      "cell_type": "markdown",
      "id": "17422e70-e0f1-4087-b53f-fdba9b3bf3e6",
      "metadata": {
        "id": "17422e70-e0f1-4087-b53f-fdba9b3bf3e6"
      },
      "source": [
        "В данном случае используем библиотеку surprise, которая имеет вшитый ии, и в качестве движка использует С++ibrary to implement SVD."
      ]
    },
    {
      "cell_type": "code",
      "execution_count": null,
      "id": "6fc6d7e0-dbb4-4a68-8091-4e096956666a",
      "metadata": {
        "id": "6fc6d7e0-dbb4-4a68-8091-4e096956666a",
        "outputId": "e732ff1d-25bd-4244-cf64-3eaf82bfe07b"
      },
      "outputs": [
        {
          "data": {
            "text/html": [
              "<div>\n",
              "<style scoped>\n",
              "    .dataframe tbody tr th:only-of-type {\n",
              "        vertical-align: middle;\n",
              "    }\n",
              "\n",
              "    .dataframe tbody tr th {\n",
              "        vertical-align: top;\n",
              "    }\n",
              "\n",
              "    .dataframe thead th {\n",
              "        text-align: right;\n",
              "    }\n",
              "</style>\n",
              "<table border=\"1\" class=\"dataframe\">\n",
              "  <thead>\n",
              "    <tr style=\"text-align: right;\">\n",
              "      <th></th>\n",
              "      <th>userId</th>\n",
              "      <th>movieId</th>\n",
              "      <th>rating</th>\n",
              "      <th>timestamp</th>\n",
              "    </tr>\n",
              "  </thead>\n",
              "  <tbody>\n",
              "    <tr>\n",
              "      <th>0</th>\n",
              "      <td>1</td>\n",
              "      <td>31</td>\n",
              "      <td>2.5</td>\n",
              "      <td>1260759144</td>\n",
              "    </tr>\n",
              "    <tr>\n",
              "      <th>1</th>\n",
              "      <td>1</td>\n",
              "      <td>1029</td>\n",
              "      <td>3.0</td>\n",
              "      <td>1260759179</td>\n",
              "    </tr>\n",
              "    <tr>\n",
              "      <th>2</th>\n",
              "      <td>1</td>\n",
              "      <td>1061</td>\n",
              "      <td>3.0</td>\n",
              "      <td>1260759182</td>\n",
              "    </tr>\n",
              "    <tr>\n",
              "      <th>3</th>\n",
              "      <td>1</td>\n",
              "      <td>1129</td>\n",
              "      <td>2.0</td>\n",
              "      <td>1260759185</td>\n",
              "    </tr>\n",
              "    <tr>\n",
              "      <th>4</th>\n",
              "      <td>1</td>\n",
              "      <td>1172</td>\n",
              "      <td>4.0</td>\n",
              "      <td>1260759205</td>\n",
              "    </tr>\n",
              "    <tr>\n",
              "      <th>...</th>\n",
              "      <td>...</td>\n",
              "      <td>...</td>\n",
              "      <td>...</td>\n",
              "      <td>...</td>\n",
              "    </tr>\n",
              "    <tr>\n",
              "      <th>99999</th>\n",
              "      <td>671</td>\n",
              "      <td>6268</td>\n",
              "      <td>2.5</td>\n",
              "      <td>1065579370</td>\n",
              "    </tr>\n",
              "    <tr>\n",
              "      <th>100000</th>\n",
              "      <td>671</td>\n",
              "      <td>6269</td>\n",
              "      <td>4.0</td>\n",
              "      <td>1065149201</td>\n",
              "    </tr>\n",
              "    <tr>\n",
              "      <th>100001</th>\n",
              "      <td>671</td>\n",
              "      <td>6365</td>\n",
              "      <td>4.0</td>\n",
              "      <td>1070940363</td>\n",
              "    </tr>\n",
              "    <tr>\n",
              "      <th>100002</th>\n",
              "      <td>671</td>\n",
              "      <td>6385</td>\n",
              "      <td>2.5</td>\n",
              "      <td>1070979663</td>\n",
              "    </tr>\n",
              "    <tr>\n",
              "      <th>100003</th>\n",
              "      <td>671</td>\n",
              "      <td>6565</td>\n",
              "      <td>3.5</td>\n",
              "      <td>1074784724</td>\n",
              "    </tr>\n",
              "  </tbody>\n",
              "</table>\n",
              "<p>100004 rows × 4 columns</p>\n",
              "</div>"
            ],
            "text/plain": [
              "        userId  movieId  rating   timestamp\n",
              "0            1       31     2.5  1260759144\n",
              "1            1     1029     3.0  1260759179\n",
              "2            1     1061     3.0  1260759182\n",
              "3            1     1129     2.0  1260759185\n",
              "4            1     1172     4.0  1260759205\n",
              "...        ...      ...     ...         ...\n",
              "99999      671     6268     2.5  1065579370\n",
              "100000     671     6269     4.0  1065149201\n",
              "100001     671     6365     4.0  1070940363\n",
              "100002     671     6385     2.5  1070979663\n",
              "100003     671     6565     3.5  1074784724\n",
              "\n",
              "[100004 rows x 4 columns]"
            ]
          },
          "execution_count": 68,
          "metadata": {},
          "output_type": "execute_result"
        }
      ],
      "source": [
        "from surprise import Reader, Dataset, SVD\n",
        "from surprise.model_selection import cross_validate\n",
        "import pandas as pd\n",
        "\n",
        "# Загрузка данных\n",
        "reader = Reader()\n",
        "ratings = pd.read_csv('ratings_small.csv')\n",
        "ratings"
      ]
    },
    {
      "cell_type": "code",
      "execution_count": null,
      "id": "80a9dd69-be18-4a11-b41f-28f2aafc7279",
      "metadata": {
        "id": "80a9dd69-be18-4a11-b41f-28f2aafc7279",
        "outputId": "06885f1c-978e-459a-9d90-8c3f662a2071"
      },
      "outputs": [
        {
          "name": "stdout",
          "output_type": "stream",
          "text": [
            "Evaluating RMSE, MAE of algorithm SVD on 5 split(s).\n",
            "\n",
            "                  Fold 1  Fold 2  Fold 3  Fold 4  Fold 5  Mean    Std     \n",
            "RMSE (testset)    0.8943  0.8900  0.8937  0.9027  0.9008  0.8963  0.0047  \n",
            "MAE (testset)     0.6883  0.6840  0.6912  0.6947  0.6927  0.6902  0.0038  \n",
            "Fit time          0.77    0.65    0.73    0.75    0.80    0.74    0.05    \n",
            "Test time         0.11    0.12    0.11    0.12    0.12    0.12    0.00    \n",
            "{'test_rmse': array([0.89425245, 0.88998407, 0.89367526, 0.9026523 , 0.90075208]), 'test_mae': array([0.68830211, 0.68396064, 0.69115248, 0.69473282, 0.69273718]), 'fit_time': (0.7700855731964111, 0.6471178531646729, 0.7344012260437012, 0.7455878257751465, 0.7953393459320068), 'test_time': (0.11413073539733887, 0.11881327629089355, 0.1131293773651123, 0.11924004554748535, 0.12010765075683594)}\n"
          ]
        }
      ],
      "source": [
        "data = Dataset.load_from_df(ratings[['userId', 'movieId', 'rating']], reader)\n",
        "# алгоритм SVD\n",
        "algo = SVD()\n",
        "\n",
        "# Оценка производительности алгоритма\n",
        "results = cross_validate(algo, data, measures=['RMSE', 'MAE'], cv=5, verbose=True)\n",
        "\n",
        "print(results)"
      ]
    },
    {
      "cell_type": "code",
      "execution_count": null,
      "id": "78e44834-706d-4d55-8a4a-1e9112f155bf",
      "metadata": {
        "id": "78e44834-706d-4d55-8a4a-1e9112f155bf",
        "outputId": "8b195ddc-d24c-4af6-a036-3562b15d4a79"
      },
      "outputs": [
        {
          "data": {
            "text/plain": [
              "<surprise.prediction_algorithms.matrix_factorization.SVD at 0x248246d33d0>"
            ]
          },
          "execution_count": 70,
          "metadata": {},
          "output_type": "execute_result"
        }
      ],
      "source": [
        "trainset = data.build_full_trainset()\n",
        "algo.fit(trainset)"
      ]
    },
    {
      "cell_type": "code",
      "execution_count": null,
      "id": "85054ee2-0cc4-41c5-bd78-32bf61eff6be",
      "metadata": {
        "id": "85054ee2-0cc4-41c5-bd78-32bf61eff6be",
        "outputId": "b22e69a1-838d-4027-e291-d858d8f04179"
      },
      "outputs": [
        {
          "data": {
            "text/html": [
              "<div>\n",
              "<style scoped>\n",
              "    .dataframe tbody tr th:only-of-type {\n",
              "        vertical-align: middle;\n",
              "    }\n",
              "\n",
              "    .dataframe tbody tr th {\n",
              "        vertical-align: top;\n",
              "    }\n",
              "\n",
              "    .dataframe thead th {\n",
              "        text-align: right;\n",
              "    }\n",
              "</style>\n",
              "<table border=\"1\" class=\"dataframe\">\n",
              "  <thead>\n",
              "    <tr style=\"text-align: right;\">\n",
              "      <th></th>\n",
              "      <th>userId</th>\n",
              "      <th>movieId</th>\n",
              "      <th>rating</th>\n",
              "      <th>timestamp</th>\n",
              "    </tr>\n",
              "  </thead>\n",
              "  <tbody>\n",
              "    <tr>\n",
              "      <th>0</th>\n",
              "      <td>1</td>\n",
              "      <td>31</td>\n",
              "      <td>2.5</td>\n",
              "      <td>1260759144</td>\n",
              "    </tr>\n",
              "    <tr>\n",
              "      <th>1</th>\n",
              "      <td>1</td>\n",
              "      <td>1029</td>\n",
              "      <td>3.0</td>\n",
              "      <td>1260759179</td>\n",
              "    </tr>\n",
              "    <tr>\n",
              "      <th>2</th>\n",
              "      <td>1</td>\n",
              "      <td>1061</td>\n",
              "      <td>3.0</td>\n",
              "      <td>1260759182</td>\n",
              "    </tr>\n",
              "    <tr>\n",
              "      <th>3</th>\n",
              "      <td>1</td>\n",
              "      <td>1129</td>\n",
              "      <td>2.0</td>\n",
              "      <td>1260759185</td>\n",
              "    </tr>\n",
              "    <tr>\n",
              "      <th>4</th>\n",
              "      <td>1</td>\n",
              "      <td>1172</td>\n",
              "      <td>4.0</td>\n",
              "      <td>1260759205</td>\n",
              "    </tr>\n",
              "    <tr>\n",
              "      <th>5</th>\n",
              "      <td>1</td>\n",
              "      <td>1263</td>\n",
              "      <td>2.0</td>\n",
              "      <td>1260759151</td>\n",
              "    </tr>\n",
              "    <tr>\n",
              "      <th>6</th>\n",
              "      <td>1</td>\n",
              "      <td>1287</td>\n",
              "      <td>2.0</td>\n",
              "      <td>1260759187</td>\n",
              "    </tr>\n",
              "    <tr>\n",
              "      <th>7</th>\n",
              "      <td>1</td>\n",
              "      <td>1293</td>\n",
              "      <td>2.0</td>\n",
              "      <td>1260759148</td>\n",
              "    </tr>\n",
              "    <tr>\n",
              "      <th>8</th>\n",
              "      <td>1</td>\n",
              "      <td>1339</td>\n",
              "      <td>3.5</td>\n",
              "      <td>1260759125</td>\n",
              "    </tr>\n",
              "    <tr>\n",
              "      <th>9</th>\n",
              "      <td>1</td>\n",
              "      <td>1343</td>\n",
              "      <td>2.0</td>\n",
              "      <td>1260759131</td>\n",
              "    </tr>\n",
              "    <tr>\n",
              "      <th>10</th>\n",
              "      <td>1</td>\n",
              "      <td>1371</td>\n",
              "      <td>2.5</td>\n",
              "      <td>1260759135</td>\n",
              "    </tr>\n",
              "    <tr>\n",
              "      <th>11</th>\n",
              "      <td>1</td>\n",
              "      <td>1405</td>\n",
              "      <td>1.0</td>\n",
              "      <td>1260759203</td>\n",
              "    </tr>\n",
              "    <tr>\n",
              "      <th>12</th>\n",
              "      <td>1</td>\n",
              "      <td>1953</td>\n",
              "      <td>4.0</td>\n",
              "      <td>1260759191</td>\n",
              "    </tr>\n",
              "    <tr>\n",
              "      <th>13</th>\n",
              "      <td>1</td>\n",
              "      <td>2105</td>\n",
              "      <td>4.0</td>\n",
              "      <td>1260759139</td>\n",
              "    </tr>\n",
              "    <tr>\n",
              "      <th>14</th>\n",
              "      <td>1</td>\n",
              "      <td>2150</td>\n",
              "      <td>3.0</td>\n",
              "      <td>1260759194</td>\n",
              "    </tr>\n",
              "    <tr>\n",
              "      <th>15</th>\n",
              "      <td>1</td>\n",
              "      <td>2193</td>\n",
              "      <td>2.0</td>\n",
              "      <td>1260759198</td>\n",
              "    </tr>\n",
              "    <tr>\n",
              "      <th>16</th>\n",
              "      <td>1</td>\n",
              "      <td>2294</td>\n",
              "      <td>2.0</td>\n",
              "      <td>1260759108</td>\n",
              "    </tr>\n",
              "    <tr>\n",
              "      <th>17</th>\n",
              "      <td>1</td>\n",
              "      <td>2455</td>\n",
              "      <td>2.5</td>\n",
              "      <td>1260759113</td>\n",
              "    </tr>\n",
              "    <tr>\n",
              "      <th>18</th>\n",
              "      <td>1</td>\n",
              "      <td>2968</td>\n",
              "      <td>1.0</td>\n",
              "      <td>1260759200</td>\n",
              "    </tr>\n",
              "    <tr>\n",
              "      <th>19</th>\n",
              "      <td>1</td>\n",
              "      <td>3671</td>\n",
              "      <td>3.0</td>\n",
              "      <td>1260759117</td>\n",
              "    </tr>\n",
              "  </tbody>\n",
              "</table>\n",
              "</div>"
            ],
            "text/plain": [
              "    userId  movieId  rating   timestamp\n",
              "0        1       31     2.5  1260759144\n",
              "1        1     1029     3.0  1260759179\n",
              "2        1     1061     3.0  1260759182\n",
              "3        1     1129     2.0  1260759185\n",
              "4        1     1172     4.0  1260759205\n",
              "5        1     1263     2.0  1260759151\n",
              "6        1     1287     2.0  1260759187\n",
              "7        1     1293     2.0  1260759148\n",
              "8        1     1339     3.5  1260759125\n",
              "9        1     1343     2.0  1260759131\n",
              "10       1     1371     2.5  1260759135\n",
              "11       1     1405     1.0  1260759203\n",
              "12       1     1953     4.0  1260759191\n",
              "13       1     2105     4.0  1260759139\n",
              "14       1     2150     3.0  1260759194\n",
              "15       1     2193     2.0  1260759198\n",
              "16       1     2294     2.0  1260759108\n",
              "17       1     2455     2.5  1260759113\n",
              "18       1     2968     1.0  1260759200\n",
              "19       1     3671     3.0  1260759117"
            ]
          },
          "execution_count": 71,
          "metadata": {},
          "output_type": "execute_result"
        }
      ],
      "source": [
        "ratings[ratings['userId'] == 1]"
      ]
    },
    {
      "cell_type": "code",
      "execution_count": null,
      "id": "069de625-87e0-45b8-81f2-cb7daea0229a",
      "metadata": {
        "id": "069de625-87e0-45b8-81f2-cb7daea0229a",
        "outputId": "b51686c8-a313-4327-c36a-e0c9efbf5498"
      },
      "outputs": [
        {
          "data": {
            "text/plain": [
              "Prediction(uid=300, iid=300, r_ui=300, est=4.1752958191931, details={'was_impossible': False})"
            ]
          },
          "execution_count": 75,
          "metadata": {},
          "output_type": "execute_result"
        }
      ],
      "source": [
        "algo.predict(300, 300, 300)"
      ]
    },
    {
      "cell_type": "markdown",
      "id": "8a251485-6be4-4df9-a3d5-ea30a63f1009",
      "metadata": {
        "id": "8a251485-6be4-4df9-a3d5-ea30a63f1009"
      },
      "source": [
        "Для фильма с идентификатором 300 мы получаем приблизительный прогноз в 4.1752958191931. Одна из поразительных особенностей этой системы рекомендаций заключается в том, что ей все равно, что это за фильм (или что в нем содержится). Он работает исключительно на основе присвоенного идентификатора фильма и пытается предсказать рейтинги на основе того, как другие пользователи оценили фильм."
      ]
    },
    {
      "cell_type": "markdown",
      "id": "d4ddc4d2-7157-4027-9736-34bda7446055",
      "metadata": {
        "id": "d4ddc4d2-7157-4027-9736-34bda7446055"
      },
      "source": [
        "Теперь попробуем добавить в эту систему вывод списка рекомендаций названий фильмов, а так же графовый метод для уточняющего алгоритма рекомендационной системы"
      ]
    },
    {
      "cell_type": "code",
      "execution_count": null,
      "id": "2bbc0461-c6da-4a30-a937-8e217793aaa3",
      "metadata": {
        "id": "2bbc0461-c6da-4a30-a937-8e217793aaa3",
        "outputId": "2e536a2d-c523-49b0-8473-2050e07ad144"
      },
      "outputs": [
        {
          "name": "stdout",
          "output_type": "stream",
          "text": [
            "Оригинальные рекомендации: [\"Pandora's Box\", 'Galaxy Quest', 'The Thomas Crown Affair', 'The Talented Mr. Ripley', 'The Good Thief', 'Cars', 'The Sixth Sense', 'Beverly Hills Cop III', 'Solaris', 'Edward Scissorhands']\n",
            "Уточнённые рекомендации: [\"Pandora's Box\", 'The Good Thief', 'Galaxy Quest', 'Cars', 'The Sixth Sense', 'Beverly Hills Cop III', 'The Thomas Crown Affair', 'Solaris', 'Edward Scissorhands', 'The Talented Mr. Ripley']\n"
          ]
        }
      ],
      "source": [
        "def get_movie_title(movie_id):\n",
        "    title = movies[movies['id'] == movie_id]['title'].values[0]\n",
        "    return title if title else None\n",
        "\n",
        "# Получение рекомендаций для конкретного пользователя\n",
        "def get_svd_recommendations(user_id, n=10):\n",
        "    all_movies = list(movies['id'])\n",
        "    # Предсказываем рейтинги для всех фильмов\n",
        "    predictions = [algo.predict(user_id, movie_id) for movie_id in all_movies]\n",
        "    # Сортируем предсказания по убыванию предсказанного рейтинга\n",
        "    predictions.sort(key=lambda x: x.est, reverse=True)\n",
        "    # Получаем топ-N рекомендаций\n",
        "    top_n_recommendations = predictions[:n]\n",
        "    # Преобразуем ID фильмов в их названия\n",
        "    top_n_movie_titles = [get_movie_title(pred.iid) for pred in top_n_recommendations]\n",
        "    return top_n_movie_titles\n",
        "\n",
        "# Использование графовых эмбеддингов для уточнения рекомендаций\n",
        "def refine_recommendations_with_graph_embeddings(original_recommendations):\n",
        "    # Получаем эмбеддинги для рекомендованных фильмов\n",
        "    recommended_movie_embeddings = np.array([model.wv[title] for title in original_recommendations if title in model.wv])\n",
        "    user_preference_embedding = np.mean(recommended_movie_embeddings, axis=0)\n",
        "    # Рассчитываем косинусное сходство между предпочтениями пользователя и всеми фильмами\n",
        "    similarity_scores = cosine_similarity([user_preference_embedding], film_vectors)[0]\n",
        "    # Сортируем фильмы на основе сходства\n",
        "    sorted_indices = np.argsort(similarity_scores)[::-1]\n",
        "    # Получаем отсортированный список рекомендаций\n",
        "    sorted_recommendations = [list_of_films[i] for i in sorted_indices if list_of_films[i] in original_recommendations]\n",
        "    return sorted_recommendations\n",
        "\n",
        "user_id = 1  # ID пользователя\n",
        "original_recommendations = get_svd_recommendations(user_id)\n",
        "refined_recommendations = refine_recommendations_with_graph_embeddings(original_recommendations)\n",
        "\n",
        "print(\"Оригинальные рекомендации:\", original_recommendations)\n",
        "print(\"Уточнённые рекомендации:\", refined_recommendations)\n"
      ]
    },
    {
      "cell_type": "code",
      "execution_count": null,
      "id": "234d545b-c8fd-46b5-aaa1-1e9d9198d731",
      "metadata": {
        "id": "234d545b-c8fd-46b5-aaa1-1e9d9198d731",
        "outputId": "06add270-5d6a-493e-8767-26ca29caf5cd"
      },
      "outputs": [
        {
          "data": {
            "image/png": "[encoded data removed]",
            "text/plain": [
              "<Figure size 1600x600 with 2 Axes>"
            ]
          },
          "metadata": {},
          "output_type": "display_data"
        }
      ],
      "source": [
        "import matplotlib.pyplot as plt\n",
        "import seaborn as sns\n",
        "\n",
        "# Визуализация RMSE и MAE\n",
        "fig, ax = plt.subplots(1, 2, figsize=(16, 6))\n",
        "\n",
        "sns.barplot(x=['RMSE', 'MAE'], y=[np.mean(results['test_rmse']), np.mean(results['test_mae'])], ax=ax[0], palette='coolwarm')\n",
        "ax[0].set_title('Оценка точности SVD')\n",
        "ax[0].set_ylabel('Средняя ошибка')\n",
        "\n",
        "sns.boxplot(data=[results['test_rmse'], results['test_mae']], ax=ax[1], palette='coolwarm')\n",
        "ax[1].set_title('Распределение ошибок SVD')\n",
        "ax[1].set_xticklabels(['RMSE', 'MAE'])\n",
        "ax[1].set_ylabel('Значения ошибок')\n",
        "plt.show()"
      ]
    },
    {
      "cell_type": "markdown",
      "id": "9a787d6b-4fb4-4501-89ce-8a01e3098015",
      "metadata": {
        "id": "9a787d6b-4fb4-4501-89ce-8a01e3098015"
      },
      "source": [
        "Как видно, система с учетом графа подкорректировала рекомендации, что означает, что векторизированные представления графов выполнили свою работу в рекомендационной системе."
      ]
    },
    {
      "cell_type": "markdown",
      "id": "078589cc-60c3-4679-b79b-7a6f5b0428b9",
      "metadata": {
        "id": "078589cc-60c3-4679-b79b-7a6f5b0428b9"
      },
      "source": [
        "# ВЫВОД\n",
        "В рамках проделанной работы было рассмотрено несколько подходов к построению системы рекомендаций:\n",
        "\n",
        "Content-Based Filteri - : Система рекомендаций, основанная на содержании (контенте), использует информацию о фильмах, такую как жанры, описание и ключевые слова, для вычисления сходства между фильмами и генерации рекомендаций. Для этого использовались TF-IDF векторизация и косинусное сходство.\n",
        "\n",
        "Graph-Based Recommendat - ns: Применение графовых эмбеддингов, сгенерированных с помощью Node2Vec на основе графа, включающего фильмы, жанры и актеров, для создания векторных представлений фильмов. Эти эмбеддинги использовались для улучшения рекомендаций за счет учета структурных связей между элементами контента.\n",
        "\n",
        "Collaborative Fil - ring: Использование модели SVD для коллаборативной фильтрации, основанной на рейтингах пользователей, для предсказания оценок, которые пользователь может поставить неизвестным фильмам, и формирования на их основе рекомендаций.\n",
        "\n",
        "В ходе работы были рассмотрены методы уточнения рекомендаций с использованием графовых эмб (векторного представления графа знаний)еддингов и комбинирования различных подходов для повышения качества и релевантности рекомзе графов."
      ]
    },
    {
      "cell_type": "markdown",
      "id": "67d5ea0e-6c9f-46e0-9c5b-4384c4f6a067",
      "metadata": {
        "id": "67d5ea0e-6c9f-46e0-9c5b-4384c4f6a067"
      },
      "source": [
        "# GNN"
      ]
    },
    {
      "cell_type": "code",
      "execution_count": null,
      "id": "7b75314e-240c-4b83-a0ae-3fb94140c895",
      "metadata": {
        "id": "7b75314e-240c-4b83-a0ae-3fb94140c895"
      },
      "outputs": [],
      "source": [
        "import pandas as pd\n",
        "import torch\n",
        "import torch.nn as nn\n",
        "import torch.optim as optim\n",
        "from sklearn.preprocessing import LabelEncoder\n",
        "from sklearn.model_selection import train_test_split\n",
        "import matplotlib.pyplot as plt\n",
        "import numpy as np"
      ]
    },
    {
      "cell_type": "code",
      "execution_count": null,
      "id": "f9c790f1-1a54-42cd-9812-7ec662edca28",
      "metadata": {
        "id": "f9c790f1-1a54-42cd-9812-7ec662edca28",
        "outputId": "83dae172-ec0d-4a0c-c920-8f782bb50eda"
      },
      "outputs": [
        {
          "data": {
            "text/html": [
              "<div>\n",
              "<style scoped>\n",
              "    .dataframe tbody tr th:only-of-type {\n",
              "        vertical-align: middle;\n",
              "    }\n",
              "\n",
              "    .dataframe tbody tr th {\n",
              "        vertical-align: top;\n",
              "    }\n",
              "\n",
              "    .dataframe thead th {\n",
              "        text-align: right;\n",
              "    }\n",
              "</style>\n",
              "<table border=\"1\" class=\"dataframe\">\n",
              "  <thead>\n",
              "    <tr style=\"text-align: right;\">\n",
              "      <th></th>\n",
              "      <th>movieId</th>\n",
              "      <th>title</th>\n",
              "      <th>genres</th>\n",
              "      <th>userId</th>\n",
              "      <th>rating</th>\n",
              "      <th>timestamp</th>\n",
              "    </tr>\n",
              "  </thead>\n",
              "  <tbody>\n",
              "    <tr>\n",
              "      <th>7253497</th>\n",
              "      <td>1263</td>\n",
              "      <td>Indiana Jones and the Last Crusade (1989)</td>\n",
              "      <td>2</td>\n",
              "      <td>7959</td>\n",
              "      <td>5.0</td>\n",
              "      <td>1997-05-25 09:38:08</td>\n",
              "    </tr>\n",
              "    <tr>\n",
              "      <th>14109136</th>\n",
              "      <td>3902</td>\n",
              "      <td>Crouching Tiger, Hidden Dragon (Wo hu cang lon...</td>\n",
              "      <td>385</td>\n",
              "      <td>32454</td>\n",
              "      <td>4.0</td>\n",
              "      <td>2008-03-04 15:09:54</td>\n",
              "    </tr>\n",
              "    <tr>\n",
              "      <th>556806</th>\n",
              "      <td>46</td>\n",
              "      <td>Seven (a.k.a. Se7en) (1995)</td>\n",
              "      <td>1307</td>\n",
              "      <td>98382</td>\n",
              "      <td>2.0</td>\n",
              "      <td>1996-10-30 08:41:27</td>\n",
              "    </tr>\n",
              "    <tr>\n",
              "      <th>5763882</th>\n",
              "      <td>1068</td>\n",
              "      <td>Platoon (1986)</td>\n",
              "      <td>1226</td>\n",
              "      <td>84030</td>\n",
              "      <td>4.0</td>\n",
              "      <td>2001-06-29 08:41:18</td>\n",
              "    </tr>\n",
              "    <tr>\n",
              "      <th>5575155</th>\n",
              "      <td>1037</td>\n",
              "      <td>Everyone Says I Love You (1996)</td>\n",
              "      <td>1003</td>\n",
              "      <td>51099</td>\n",
              "      <td>4.0</td>\n",
              "      <td>2000-11-27 22:11:33</td>\n",
              "    </tr>\n",
              "    <tr>\n",
              "      <th>...</th>\n",
              "      <td>...</td>\n",
              "      <td>...</td>\n",
              "      <td>...</td>\n",
              "      <td>...</td>\n",
              "      <td>...</td>\n",
              "      <td>...</td>\n",
              "    </tr>\n",
              "    <tr>\n",
              "      <th>9628519</th>\n",
              "      <td>1975</td>\n",
              "      <td>Parent Trap, The (1998)</td>\n",
              "      <td>845</td>\n",
              "      <td>100158</td>\n",
              "      <td>3.0</td>\n",
              "      <td>1999-10-10 02:12:18</td>\n",
              "    </tr>\n",
              "    <tr>\n",
              "      <th>14586186</th>\n",
              "      <td>4211</td>\n",
              "      <td>Shrek (2001)</td>\n",
              "      <td>479</td>\n",
              "      <td>54270</td>\n",
              "      <td>4.0</td>\n",
              "      <td>2008-03-18 10:21:50</td>\n",
              "    </tr>\n",
              "    <tr>\n",
              "      <th>2234489</th>\n",
              "      <td>325</td>\n",
              "      <td>Star Trek: Generations (1994)</td>\n",
              "      <td>664</td>\n",
              "      <td>95543</td>\n",
              "      <td>3.0</td>\n",
              "      <td>2000-02-06 00:21:01</td>\n",
              "    </tr>\n",
              "    <tr>\n",
              "      <th>13315092</th>\n",
              "      <td>3437</td>\n",
              "      <td>Predator (1987)</td>\n",
              "      <td>454</td>\n",
              "      <td>15681</td>\n",
              "      <td>5.0</td>\n",
              "      <td>2002-10-02 23:09:35</td>\n",
              "    </tr>\n",
              "    <tr>\n",
              "      <th>16094478</th>\n",
              "      <td>5855</td>\n",
              "      <td>25th Hour (2002)</td>\n",
              "      <td>1035</td>\n",
              "      <td>99414</td>\n",
              "      <td>4.0</td>\n",
              "      <td>2012-12-19 04:09:59</td>\n",
              "    </tr>\n",
              "  </tbody>\n",
              "</table>\n",
              "<p>16000210 rows × 6 columns</p>\n",
              "</div>"
            ],
            "text/plain": [
              "          movieId                                              title  genres  \\\n",
              "7253497      1263          Indiana Jones and the Last Crusade (1989)       2   \n",
              "14109136     3902  Crouching Tiger, Hidden Dragon (Wo hu cang lon...     385   \n",
              "556806         46                        Seven (a.k.a. Se7en) (1995)    1307   \n",
              "5763882      1068                                     Platoon (1986)    1226   \n",
              "5575155      1037                    Everyone Says I Love You (1996)    1003   \n",
              "...           ...                                                ...     ...   \n",
              "9628519      1975                            Parent Trap, The (1998)     845   \n",
              "14586186     4211                                       Shrek (2001)     479   \n",
              "2234489       325                      Star Trek: Generations (1994)     664   \n",
              "13315092     3437                                    Predator (1987)     454   \n",
              "16094478     5855                                   25th Hour (2002)    1035   \n",
              "\n",
              "          userId  rating            timestamp  \n",
              "7253497     7959     5.0  1997-05-25 09:38:08  \n",
              "14109136   32454     4.0  2008-03-04 15:09:54  \n",
              "556806     98382     2.0  1996-10-30 08:41:27  \n",
              "5763882    84030     4.0  2001-06-29 08:41:18  \n",
              "5575155    51099     4.0  2000-11-27 22:11:33  \n",
              "...          ...     ...                  ...  \n",
              "9628519   100158     3.0  1999-10-10 02:12:18  \n",
              "14586186   54270     4.0  2008-03-18 10:21:50  \n",
              "2234489    95543     3.0  2000-02-06 00:21:01  \n",
              "13315092   15681     5.0  2002-10-02 23:09:35  \n",
              "16094478   99414     4.0  2012-12-19 04:09:59  \n",
              "\n",
              "[16000210 rows x 6 columns]"
            ]
          },
          "execution_count": 10,
          "metadata": {},
          "output_type": "execute_result"
        }
      ],
      "source": [
        "movies = pd.read_csv('movie.csv')\n",
        "ratings = pd.read_csv('rating.csv')\n",
        "df = pd.merge(movies, ratings, how=\"inner\", on=\"movieId\")\n",
        "label_encoder = LabelEncoder()\n",
        "df['userId'] = label_encoder.fit_transform(df['userId'])\n",
        "df['movieId'] = label_encoder.fit_transform(df['movieId'])\n",
        "df['genres'] = label_encoder.fit_transform(df['genres'])\n",
        "\n",
        "\n",
        "train_data, test_data = train_test_split(df, test_size=0.2, random_state=42)\n",
        "train_data"
      ]
    },
    {
      "cell_type": "code",
      "execution_count": null,
      "id": "c4efad2e-8310-40fd-b1c0-13f3fb731312",
      "metadata": {
        "id": "c4efad2e-8310-40fd-b1c0-13f3fb731312",
        "outputId": "4ad5e936-fd18-4feb-8784-50d8a20895f5"
      },
      "outputs": [
        {
          "name": "stdout",
          "output_type": "stream",
          "text": [
            "Max movie ID: 165236 Number of users: 138493\n"
          ]
        }
      ],
      "source": [
        "max_movie_id = movie_ids.max().item()\n",
        "num_users = train_data['userId'].nunique()\n",
        "print(\"Max movie ID:\", max_movie_id, \"Number of users:\", num_users)"
      ]
    },
    {
      "cell_type": "code",
      "execution_count": null,
      "id": "646b505d-d2b6-4ec4-9e39-cbe87508d9a8",
      "metadata": {
        "id": "646b505d-d2b6-4ec4-9e39-cbe87508d9a8",
        "outputId": "2d42e83a-9d7d-4876-dce3-7ef5f2fa7bb2"
      },
      "outputs": [
        {
          "data": {
            "text/plain": [
              "Data(edge_index=[2, 16000210], edge_attr=[16000210])"
            ]
          },
          "execution_count": 12,
          "metadata": {},
          "output_type": "execute_result"
        }
      ],
      "source": [
        "import torch\n",
        "from torch_geometric.data import Data\n",
        "\n",
        "# сопоставление ID пользователей и фильмов к узлам в графе\n",
        "user_ids = torch.tensor(train_data['userId'].values, dtype=torch.long)\n",
        "movie_ids = torch.tensor(train_data['movieId'].values, dtype=torch.long) + train_data['userId'].nunique()  # Смещаем ID фильмов\n",
        "\n",
        "# создание рёбер\n",
        "edge_index = torch.stack([user_ids, movie_ids], dim=0)\n",
        "\n",
        "# веса рёбер\n",
        "edge_attr = torch.tensor(train_data['rating'].values, dtype=torch.float)\n",
        "\n",
        "graph_data = Data(edge_index=edge_index, edge_attr=edge_attr)\n",
        "graph_data"
      ]
    },
    {
      "cell_type": "code",
      "execution_count": null,
      "id": "aa303533-6764-4cde-a55e-468b4bf5a52b",
      "metadata": {
        "id": "aa303533-6764-4cde-a55e-468b4bf5a52b"
      },
      "outputs": [],
      "source": [
        "import torch.nn.functional as F\n",
        "from torch_geometric.nn import GCNConv\n",
        "\n",
        "class GraphRecNN(nn.Module):\n",
        "    def __init__(self, num_users, num_movies, num_features, hidden_size=64):\n",
        "        super(GraphRecNN, self).__init__()\n",
        "        self.user_emb = nn.Embedding(num_users, num_features)\n",
        "        self.movie_emb = nn.Embedding(num_movies, num_features)\n",
        "\n",
        "        # свёрточные\n",
        "        self.conv1 = GCNConv(num_features, hidden_size)\n",
        "        self.conv2 = GCNConv(hidden_size, hidden_size)\n",
        "\n",
        "        # полносвязные\n",
        "        self.fc1 = nn.Linear(hidden_size * 2, hidden_size)\n",
        "        self.fc2 = nn.Linear(hidden_size, 1)\n",
        "\n",
        "    def forward(self, data):\n",
        "        x = torch.cat([self.user_emb.weight, self.movie_emb.weight], dim=0)\n",
        "        edge_index = data.edge_index\n",
        "\n",
        "        # графовые\n",
        "        x = F.relu(self.conv1(x, edge_index))\n",
        "        x = F.dropout(x, training=self.training)\n",
        "        x = F.relu(self.conv2(x, edge_index))\n",
        "\n",
        "        # агрегация\n",
        "        src, dst = edge_index\n",
        "        x = torch.cat([x[src], x[dst]], dim=1)\n",
        "\n",
        "        # полносвязные\n",
        "        x = F.relu(self.fc1(x))\n",
        "        x = self.fc2(x)\n",
        "        return x.squeeze()"
      ]
    },
    {
      "cell_type": "code",
      "execution_count": null,
      "id": "63218d64-4cc6-4ec7-b11e-2a60609429e5",
      "metadata": {
        "id": "63218d64-4cc6-4ec7-b11e-2a60609429e5",
        "outputId": "63b35eb5-ae6d-4803-f675-e4e4f3474936"
      },
      "outputs": [
        {
          "name": "stdout",
          "output_type": "stream",
          "text": [
            "Исправленый максимальный id фильма: 165236\n",
            "Общее количество узлов: 164350\n",
            "Обновленное кол-во узлов: 165237\n"
          ]
        }
      ],
      "source": [
        "num_users = train_data['userId'].nunique()\n",
        "num_movies = train_data['movieId'].nunique()\n",
        "\n",
        "# cмещение movie_ids должно начинаться после последнего userId\n",
        "corrected_movie_ids = torch.tensor(train_data['movieId'].values, dtype=torch.long) + num_users\n",
        "\n",
        "max_corrected_movie_id = corrected_movie_ids.max().item()\n",
        "total_nodes = num_users + num_movies\n",
        "\n",
        "print(\"Исправленый максимальный id фильма:\", max_corrected_movie_id)\n",
        "print(\"Общее количество узлов:\", total_nodes)\n",
        "\n",
        "edge_index = torch.stack([torch.tensor(train_data['userId'].values, dtype=torch.long), corrected_movie_ids], dim=0)\n",
        "\n",
        "model = GraphRecNN(total_nodes, total_nodes, num_features)\n",
        "\n",
        "if max_corrected_movie_id >= total_nodes:\n",
        "    total_nodes = max_corrected_movie_id + 1\n",
        "    print(\"Обновленное кол-во узлов:\", total_nodes)\n",
        "    model = GraphRecNN(total_nodes, total_nodes, num_features)\n",
        "    graph_data = Data(edge_index=edge_index, edge_attr=edge_attr, num_nodes=total_nodes)\n",
        "else:\n",
        "    print(\"Общее количество узлов:\", total_nodes)\n",
        "graph_data = Data(edge_index=edge_index, edge_attr=edge_attr, num_nodes=total_nodes)"
      ]
    },
    {
      "cell_type": "code",
      "execution_count": null,
      "id": "2a5e1c72-0df4-40be-8fbf-2da420ca27fa",
      "metadata": {
        "id": "2a5e1c72-0df4-40be-8fbf-2da420ca27fa",
        "outputId": "472107b7-8b80-4a88-e874-8febf22242c7"
      },
      "outputs": [
        {
          "name": "stdout",
          "output_type": "stream",
          "text": [
            "Эпоха 1, Потери обучения: 1.3491, Тестовые потери: 2.1267\n",
            "Эпоха 2, Потери обучения: 1.4915, Тестовые потери: 2.4374\n",
            "Эпоха 3, Потери обучения: 1.3650, Тестовые потери: 2.7826\n",
            "Эпоха 4, Потери обучения: 1.3390, Тестовые потери: 2.9419\n",
            "Эпоха 5, Потери обучения: 1.3977, Тестовые потери: 2.9312\n",
            "Эпоха 6, Потери обучения: 1.3751, Тестовые потери: 2.8111\n",
            "Эпоха 7, Потери обучения: 1.3577, Тестовые потери: 2.6367\n",
            "Эпоха 8, Потери обучения: 1.3331, Тестовые потери: 2.5410\n",
            "Эпоха 9, Потери обучения: 1.3481, Тестовые потери: 2.4618\n",
            "Эпоха 10, Потери обучения: 1.3404, Тестовые потери: 2.4262\n",
            "Эпоха 11, Потери обучения: 1.3532, Тестовые потери: 2.4156\n",
            "Эпоха 12, Потери обучения: 1.3430, Тестовые потери: 2.4149\n"
          ]
        },
        {
          "data": {
            "image/png": "[encoded data removed]",
            "text/plain": [
              "<Figure size 1000x600 with 1 Axes>"
            ]
          },
          "metadata": {},
          "output_type": "display_data"
        }
      ],
      "source": [
        "user_ids_test = torch.tensor(test_data['userId'].values, dtype=torch.long)\n",
        "movie_ids_test = torch.tensor(test_data['movieId'].values, dtype=torch.long) + num_users  # Смещаем movie IDs\n",
        "edge_index_test = torch.stack([user_ids_test, movie_ids_test], dim=0)\n",
        "edge_attr_test = torch.tensor(test_data['rating'].values, dtype=torch.float)\n",
        "graph_data_test = Data(edge_index=edge_index_test, edge_attr=edge_attr_test, num_nodes=total_nodes)\n",
        "\n",
        "optimizer = torch.optim.Adam(model.parameters(), lr=0.0001, weight_decay=1e-4)\n",
        "scheduler = torch.optim.lr_scheduler.ReduceLROnPlateau(optimizer, 'min', patience=5, factor=0.5, min_lr=1e-6)\n",
        "criterion = nn.MSELoss()\n",
        "train_losses = []\n",
        "\n",
        "def train():\n",
        "    model.train()\n",
        "    optimizer.zero_grad()\n",
        "    out = model(graph_data)\n",
        "    loss = criterion(out, graph_data.edge_attr)\n",
        "    loss.backward()\n",
        "    optimizer.step()\n",
        "    return loss.item()\n",
        "\n",
        "def test():\n",
        "    model.eval()\n",
        "    with torch.no_grad():\n",
        "        out = model(graph_data_test)\n",
        "        test_loss = criterion(out, graph_data_test.edge_attr)\n",
        "    return test_loss.item()\n",
        "\n",
        "num_epochs = 12\n",
        "train_losses = []\n",
        "test_losses = []\n",
        "\n",
        "for epoch in range(num_epochs):\n",
        "    train_loss = train()\n",
        "    train_losses.append(train_loss)\n",
        "\n",
        "    test_loss = test()\n",
        "    test_losses.append(test_loss)\n",
        "    scheduler.step(test_loss)\n",
        "    print(f'Эпоха {epoch+1}, Потери обучения: {train_loss:.4f}, Тестовые потери: {test_loss:.4f}')\n",
        "\n",
        "plt.figure(figsize=(10, 6))\n",
        "plt.plot(train_losses, label='Потери при обучении', color='blue', marker='o', linestyle='-', linewidth=2, markersize=6)\n",
        "plt.plot(test_losses, label='Потери при тесте', color='red', marker='s', linestyle='--', linewidth=2, markersize=6)\n",
        "plt.xlabel('Эпохи')\n",
        "plt.ylabel('MSE потери')\n",
        "plt.grid(True)\n",
        "plt.legend()\n",
        "plt.text(len(train_losses)-1, train_losses[-1], f'{train_losses[-1]:.4f}', color='blue', ha='right')\n",
        "plt.text(len(test_losses)-1, test_losses[-1], f'{test_losses[-1]:.4f}', color='red', ha='right')\n",
        "plt.show()"
      ]
    },
    {
      "cell_type": "code",
      "execution_count": null,
      "id": "a3973348-44aa-4365-b192-5c70a107be83",
      "metadata": {
        "id": "a3973348-44aa-4365-b192-5c70a107be83"
      },
      "outputs": [],
      "source": [
        "def calculate_rmse(model, graph_data_test):\n",
        "    model.eval()\n",
        "    with torch.no_grad():\n",
        "        outputs_test = model(graph_data_test)\n",
        "        predicted_ratings = outputs_test.squeeze().detach().numpy()\n",
        "        actual_ratings = graph_data_test.edge_attr.numpy()\n",
        "        rmse = np.sqrt(np.mean((predicted_ratings - actual_ratings) ** 2))\n",
        "    return rmse\n",
        "def get_predicted_ratings_for_user(model, user_id, num_movies, total_nodes):\n",
        "    model.eval()\n",
        "    user_ids = torch.tensor([user_id] * num_movies)\n",
        "    movie_ids = torch.tensor(range(num_movies)) + num_users  # Смещаем movie IDs\n",
        "    edge_index = torch.stack([user_ids, movie_ids], dim=0)\n",
        "\n",
        "    graph_data_user = Data(edge_index=edge_index, num_nodes=total_nodes)\n",
        "    with torch.no_grad():\n",
        "        outputs = model(graph_data_user)\n",
        "    predicted_ratings = outputs.squeeze().detach().numpy()\n",
        "    return predicted_ratings"
      ]
    },
    {
      "cell_type": "code",
      "execution_count": null,
      "id": "6413f6dc-628b-4bee-980f-2f705614e493",
      "metadata": {
        "id": "6413f6dc-628b-4bee-980f-2f705614e493",
        "outputId": "5b3e647d-0452-4a22-a761-ffa48fb03eaa"
      },
      "outputs": [
        {
          "name": "stdout",
          "output_type": "stream",
          "text": [
            "Test RMSE: 1.5540043\n",
            "\n",
            "Рекомендованные фильмы для user_111:\n",
            "                                          title  predicted_rating\n",
            "10376                        Dirty Deeds (2005)          1.535980\n",
            "13257  Tuya's Marriage (Tuya de hun shi) (2006)          1.516756\n",
            "21734              America the Beautiful (2007)          1.504296\n",
            "20745                       Alabama Moon (2009)          1.503651\n",
            "2935                       Funhouse, The (1981)          1.496331\n",
            "\n",
            "Прогнозные оценки user_111 на все фильмы:\n",
            "[1.3299176 1.3214983 1.3563963 ... 1.3079542 1.3156854 1.3534335]\n"
          ]
        }
      ],
      "source": [
        "def get_movie_recommendations(model, user_id, num_movies, total_nodes, movies_df):\n",
        "    model.eval()\n",
        "    user_ids = torch.tensor([user_id] * num_movies)\n",
        "    movie_ids = torch.tensor(range(num_movies)) + num_users\n",
        "    edge_index = torch.stack([user_ids, movie_ids], dim=0)\n",
        "\n",
        "    graph_data_user = Data(edge_index=edge_index, num_nodes=total_nodes)\n",
        "    with torch.no_grad():\n",
        "        outputs = model(graph_data_user)\n",
        "    predicted_ratings = outputs.squeeze().detach().numpy()\n",
        "\n",
        "    # сортировка рейтингов\n",
        "    recommended_movie_indices = np.argsort(predicted_ratings)[::-1]\n",
        "\n",
        "    # названия фильмов по индексам\n",
        "    recommended_movies = movies_df.iloc[recommended_movie_indices]\n",
        "\n",
        "\n",
        "    recommended_movies['predicted_rating'] = predicted_ratings[recommended_movie_indices]\n",
        "    return recommended_movies[['title', 'predicted_rating']]\n",
        "\n",
        "movies_df = pd.read_csv('movie.csv')\n",
        "test_rmse = calculate_rmse(model, graph_data_test)\n",
        "\n",
        "\n",
        "user_id = 111\n",
        "recommendations = get_movie_recommendations(model, user_id, num_movies, total_nodes, movies_df)\n",
        "\n",
        "print(\"Test RMSE:\", test_rmse)\n",
        "print('\\nРекомендованные фильмы для user_111:')\n",
        "print(recommendations.head())\n",
        "\n",
        "predicted_ratings_user_111 = get_predicted_ratings_for_user(model, user_id, num_movies, total_nodes)\n",
        "print('\\nПрогнозные оценки user_111 на все фильмы:')\n",
        "print(predicted_ratings_user_111)"
      ]
    },
    {
      "cell_type": "code",
      "execution_count": null,
      "id": "99a75d34-8215-4793-9fb6-b48adf68cfd8",
      "metadata": {
        "id": "99a75d34-8215-4793-9fb6-b48adf68cfd8"
      },
      "outputs": [],
      "source": []
    }
  ],
  "metadata": {
    "kernelspec": {
      "display_name": "Python 3 (ipykernel)",
      "language": "python",
      "name": "python3"
    },
    "language_info": {
      "codemirror_mode": {
        "name": "ipython",
        "version": 3
      },
      "file_extension": ".py",
      "mimetype": "text/x-python",
      "name": "python",
      "nbconvert_exporter": "python",
      "pygments_lexer": "ipython3",
      "version": "3.11.7"
    },
    "colab": {
      "provenance": []
    }
  },
  "nbformat": 4,
  "nbformat_minor": 5
}